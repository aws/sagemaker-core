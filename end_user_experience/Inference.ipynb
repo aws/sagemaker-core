{
 "cells": [
  {
   "cell_type": "code",
   "execution_count": null,
   "id": "initial_id",
   "metadata": {
    "collapsed": true
   },
   "outputs": [],
   "source": [
    "from sagemaker import get_execution_role\n",
    "import os\n",
    "\n",
    "\n",
    "role = get_execution_role()"
   ]
  },
  {
   "cell_type": "code",
   "execution_count": null,
   "outputs": [],
   "source": [
    "from src.generated.shapes import ContainerDefinition, ProductionVariant\n",
    "# Endpoint Invoking \n",
    "from src.generated.resources import Model, EndpointConfig, Endpoint, TrainingJob\n",
    "from time import gmtime, strftime\n",
    "\n",
    "\n",
    "os.environ[\n",
    "    'SAGEMAKER_ADMIN_CONFIG_OVERRIDE'] = '/Users/nargokul/workspace/sagemaker-code-gen/sample/sagemaker/2017-07-24/default-configs-inference.json'\n",
    "\n",
    "key = f'xgboost-iris-{strftime(\"%H-%M-%S\", gmtime())}'\n",
    "print(\"key\", key)\n",
    "\n",
    "model = Model.create(\n",
    "    model_name=key,\n",
    "    primary_container=ContainerDefinition(\n",
    "        image='246618743249.dkr.ecr.us-west-2.amazonaws.com/sagemaker-xgboost:1.7-1',\n",
    "        model_data_url='s3://sagemaker-us-west-2-211125564141/DEMO-scikit-iris/output/xgboost-iris-2024-05-17-02-10-05/output/serve.tar.gz',\n",
    "        # here we are getting model data from the training job \n",
    "        environment={\n",
    "            'LOCAL_PYTHON': '3.10.12',\n",
    "            'MODEL_CLASS_NAME': 'xgboost.sklearn.XGBClassifier',\n",
    "            'SAGEMAKER_CONTAINER_LOG_LEVEL': '10',\n",
    "            'SAGEMAKER_PROGRAM': 'inference.py',\n",
    "            'SAGEMAKER_REGION': 'us-west-2',\n",
    "            'SAGEMAKER_SERVE_SECRET_KEY': '3a459322560a181436866602ddfbb7c16ea97046e92845de43a5ac80f7604451',\n",
    "            'SAGEMAKER_SUBMIT_DIRECTORY': '/opt/ml/model/code'\n",
    "        }\n",
    "    ),\n",
    "    execution_role_arn=role,\n",
    ")\n",
    "\n",
    "\n",
    "'''\n",
    "if the model is already created then \n",
    "we can use Model.get() to retrive the model\n",
    "'''\n",
    "\n",
    "endpoint_config = EndpointConfig.create(\n",
    "    endpoint_config_name=key,\n",
    "    production_variants=[\n",
    "        ProductionVariant(\n",
    "            variant_name=key,\n",
    "            initial_instance_count=1,\n",
    "            instance_type='ml.m5.xlarge',\n",
    "            model_name=key\n",
    "        )\n",
    "    ]\n",
    ")\n",
    "\n",
    "endpoint: Endpoint = Endpoint.create(\n",
    "    endpoint_name=key,\n",
    "    endpoint_config_name=key \n",
    ")"
   ],
   "metadata": {
    "collapsed": false
   },
   "id": "756c771cbbcfd9a4"
  },
  {
   "cell_type": "code",
   "execution_count": null,
   "outputs": [],
   "source": [
    "from src.generated.resources import Endpoint\n",
    "from numpy import loadtxt\n",
    "from sklearn.model_selection import train_test_split\n",
    "from sagemaker.base_serializers import NumpySerializer\n",
    "\n",
    "key = 'xgboost-iris-5-07'\n",
    "endpoint = Endpoint.get(endpoint_name=key)\n",
    "import io\n",
    "import numpy as np\n",
    "\n",
    "\n",
    "\n",
    "dataset = loadtxt('data/pima-indians-diabetes.data.csv', delimiter=\",\")\n",
    "# split data into X and y\n",
    "X = dataset[:, 0:8]\n",
    "Y = dataset[:, 8]\n",
    "seed = 7\n",
    "test_size = 0.33\n",
    "X_train, X_test, y_train, y_test = train_test_split(X, Y, test_size=test_size, random_state=seed)\n",
    "serializer = NumpySerializer()\n",
    "\n",
    "\n",
    "def deserialise(response):\n",
    "    return np.load(io.BytesIO(response['Body'].read()))\n",
    "\n",
    "\n",
    "invoke_result = endpoint.invoke(body=serializer.serialize(X_test),\n",
    "                                content_type='application/x-npy',\n",
    "                                accept='application/x-npy')\n",
    "\n",
    "print(\"Endpoint Response:\", deserialise(invoke_result))"
   ],
   "metadata": {
    "collapsed": false
   },
   "id": "298b9271db5e2c31"
  },
  {
   "cell_type": "code",
   "execution_count": null,
   "outputs": [],
   "source": [
    "from src.generated.resources import Endpoint\n",
    "from numpy import loadtxt\n",
    "from sklearn.model_selection import train_test_split\n",
    "from sagemaker.base_serializers import NumpySerializer\n",
    "\n",
    "endpoint = Endpoint.get(endpoint_name=key)\n",
    "dataset = loadtxt('data/pima-indians-diabetes.data.csv', delimiter=\",\")\n",
    "\n",
    "# split data into X and y\n",
    "X = dataset[:, 0:8]\n",
    "Y = dataset[:, 8]\n",
    "seed = 7\n",
    "test_size = 0.33\n",
    "X_train, X_test, y_train, y_test = train_test_split(X, Y, test_size=test_size, random_state=seed)\n",
    "serializer = NumpySerializer()\n",
    "\n",
    "\n",
    "def deserialise(response):\n",
    "    return [\n",
    "        res_part\n",
    "        for res_part in response['Body']\n",
    "    ]\n",
    "\n",
    "\n",
    "invoke_result = endpoint.invoke_with_response_stream(body=serializer.serialize(X_test),\n",
    "                                                     content_type='application/x-npy',\n",
    "                                                     accept='application/x-npy')\n",
    "\n",
    "print(\"Endpoint Response:\", deserialise(invoke_result))"
   ],
   "metadata": {
    "collapsed": false
   },
   "id": "512424bf210076ac"
  }
 ],
 "metadata": {
  "kernelspec": {
   "display_name": "Python 3",
   "language": "python",
   "name": "python3"
  },
  "language_info": {
   "codemirror_mode": {
    "name": "ipython",
    "version": 2
   },
   "file_extension": ".py",
   "mimetype": "text/x-python",
   "name": "python",
   "nbconvert_exporter": "python",
   "pygments_lexer": "ipython2",
   "version": "2.7.6"
  }
 },
 "nbformat": 4,
 "nbformat_minor": 5
}
