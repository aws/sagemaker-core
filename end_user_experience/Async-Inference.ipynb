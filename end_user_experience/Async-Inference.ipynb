{
 "cells": [
  {
   "cell_type": "code",
   "execution_count": null,
   "outputs": [],
   "source": [
    "!python -m pip install --upgrade pip --quiet\n",
    "!pip install -U awscli --quiet"
   ],
   "metadata": {
    "collapsed": false
   },
   "id": "90e40fb597072441"
  },
  {
   "cell_type": "code",
   "execution_count": null,
   "id": "initial_id",
   "metadata": {
    "collapsed": true
   },
   "outputs": [],
   "source": [
    "from sagemaker import get_execution_role\n",
    "import sagemaker\n",
    "import boto3\n",
    "import os\n",
    "\n",
    "boto_session = boto3.session.Session()\n",
    "sm_session = sagemaker.session.Session()\n",
    "region = boto_session.region_name\n",
    "sm_client = boto_session.client(\"sagemaker\")\n",
    "role = get_execution_role()\n",
    "s3_bucket = sm_session.default_bucket()"
   ]
  },
  {
   "cell_type": "code",
   "execution_count": null,
   "outputs": [],
   "source": [],
   "metadata": {
    "collapsed": false
   },
   "id": "d981ab578fcbf793"
  },
  {
   "cell_type": "code",
   "execution_count": null,
   "outputs": [],
   "source": [
    "from src.generated.shapes import ContainerDefinition, ProductionVariant, AsyncInferenceConfig, AsyncInferenceOutputConfig, AsyncInferenceClientConfig\n",
    "# Endpoint Invoking \n",
    "from src.generated.resources import Model, EndpointConfig, Endpoint, TrainingJob\n",
    "from time import gmtime, strftime\n",
    "\n",
    "key = f'xgboost-iris-{strftime(\"%H-%M-%S\", gmtime())}'\n",
    "print(\"key\", key)\n",
    "os.environ['SAGEMAKER_ADMIN_CONFIG_OVERRIDE'] = '/Users/nargokul/workspace/sagemaker-code-gen/sample/sagemaker/2017-07-24/default-configs-inference.json'"
   ],
   "metadata": {
    "collapsed": false
   },
   "id": "32eff9aadce99c83"
  },
  {
   "cell_type": "code",
   "execution_count": null,
   "outputs": [],
   "source": [
    "bucket_prefix = \"async-inference-demo\"\n",
    "resource_name = \"AsyncInferenceDemo-{}-{}\"\n",
    "\n",
    "model_s3_key = f\"{bucket_prefix}/demo-xgboost-model.tar.gz\"\n",
    "model_url = f\"s3://{s3_bucket}/{model_s3_key}\"\n",
    "print(f\"Uploading Model to {model_url}\")\n",
    "\n",
    "with open(\"model/demo-xgboost-model.tar.gz\", \"rb\") as model_file:\n",
    "    boto_session.resource(\"s3\").Bucket(s3_bucket).Object(model_s3_key).upload_fileobj(model_file)\n",
    "\n",
    "\n",
    "from sagemaker import image_uris\n",
    "\n",
    "# Specify an AWS container image and region as desired\n",
    "container = image_uris.retrieve(region=region, framework=\"xgboost\", version=\"0.90-1\")\n",
    "\n",
    "model = Model.create(\n",
    "    model_name=key,\n",
    "    primary_container=ContainerDefinition(\n",
    "        image=container,\n",
    "        model_data_url=f\"s3://{s3_bucket}/{model_s3_key}\"\n",
    "    ),\n",
    "    execution_role_arn=role,\n",
    ")"
   ],
   "metadata": {
    "collapsed": false
   },
   "id": "e300bc27e3238a1a"
  },
  {
   "cell_type": "code",
   "execution_count": null,
   "outputs": [],
   "source": [
    "from datetime import datetime\n",
    "\n",
    "\n",
    "endpoint_config = EndpointConfig.create(\n",
    "    endpoint_config_name=key,\n",
    "    production_variants=[\n",
    "        ProductionVariant(\n",
    "            variant_name=\"variant1\",\n",
    "            model_name=key,\n",
    "            instance_type='ml.m5.xlarge',\n",
    "            initial_instance_count=1\n",
    "        )\n",
    "    ],\n",
    "    async_inference_config=AsyncInferenceConfig(\n",
    "        output_config=AsyncInferenceOutputConfig(s3_output_path=f\"s3://{s3_bucket}/{bucket_prefix}/output\"),\n",
    "        client_config=AsyncInferenceClientConfig(\n",
    "            max_concurrent_invocations_per_instance=4\n",
    "        )\n",
    "    )\n",
    ")\n"
   ],
   "metadata": {
    "collapsed": false
   },
   "id": "93dd16bbbb11f0b4"
  },
  {
   "cell_type": "code",
   "execution_count": null,
   "outputs": [],
   "source": [
    "endpoint = Endpoint.create(endpoint_name=key, endpoint_config_name=key)"
   ],
   "metadata": {
    "collapsed": false
   },
   "id": "e8ced8404690c3e4"
  },
  {
   "cell_type": "code",
   "execution_count": null,
   "outputs": [],
   "source": [],
   "metadata": {
    "collapsed": false
   },
   "id": "a0dca2ab3f9d3eee"
  },
  {
   "cell_type": "code",
   "execution_count": null,
   "outputs": [],
   "source": [
    "def upload_file(input_location):\n",
    "    prefix = f\"{bucket_prefix}/input\"\n",
    "    return sm_session.upload_data(\n",
    "        input_location,\n",
    "        bucket=sm_session.default_bucket(),\n",
    "        key_prefix=prefix,\n",
    "        extra_args={\"ContentType\": \"text/libsvm\"},\n",
    "    )\n",
    "\n",
    "input_1_location = \"input/test_point_0.libsvm\"\n",
    "input_1_s3_location = upload_file(input_1_location)\n",
    "\n"
   ],
   "metadata": {
    "collapsed": false
   },
   "id": "9bccaeb794c8de79"
  },
  {
   "cell_type": "code",
   "execution_count": null,
   "outputs": [],
   "source": [
    "endpoint = Endpoint.get(endpoint_name=key)\n",
    "response= endpoint.invoke_async(input_location=input_1_s3_location)"
   ],
   "metadata": {
    "collapsed": false
   },
   "id": "6927f56e5d3df918"
  },
  {
   "cell_type": "code",
   "execution_count": null,
   "outputs": [],
   "source": [],
   "metadata": {
    "collapsed": false
   },
   "id": "3199289be9a99072"
  }
 ],
 "metadata": {
  "kernelspec": {
   "display_name": "Python 3",
   "language": "python",
   "name": "python3"
  },
  "language_info": {
   "codemirror_mode": {
    "name": "ipython",
    "version": 2
   },
   "file_extension": ".py",
   "mimetype": "text/x-python",
   "name": "python",
   "nbconvert_exporter": "python",
   "pygments_lexer": "ipython2",
   "version": "2.7.6"
  }
 },
 "nbformat": 4,
 "nbformat_minor": 5
}
