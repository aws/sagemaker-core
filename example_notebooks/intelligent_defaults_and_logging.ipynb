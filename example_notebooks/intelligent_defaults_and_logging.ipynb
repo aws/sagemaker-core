{
 "cells": [
  {
   "cell_type": "markdown",
   "metadata": {},
   "source": [
    "# Intelligent Defaults and Logging Configuration in SageMakerCore"
   ]
  },
  {
   "cell_type": "markdown",
   "metadata": {},
   "source": [
    "---\n",
    "## Introductions\n",
    "\n",
    "In this notebook, we will walkthrough the setup and usage of intelligent defaults in the SageMakerCore SDK. Additionally, this notebook contains a section with the steps required for configuring logging levels to assist in the debugging of issues that arise while using the SDK.\n",
    "\n"
   ]
  },
  {
   "cell_type": "markdown",
   "metadata": {},
   "source": [
    "### Intelligent Defaults\n",
    "\n",
    "Intelligent Defaults is a feature provided by the SageMakerCore SDK to assist users in defining default values to be auto populated into the AWS API Request parameters. For example, if a user/admin wants all of their AWS Resources to use a specific VPC Config during creation this can be defined in the Intelligent Defaults Configs. Intelligent Defaults supports:\n",
    "1. GlobalDefaults - default values applied across SageMaker API calls\n",
    "2. Resource Specific Defaults - defaults applied only when creating a specific resource\n",
    "\n",
    "An Example of the strucuture of the Intelligent Defaults Config is below:"
   ]
  },
  {
   "cell_type": "markdown",
   "metadata": {},
   "source": [
    "```json\n",
    "{\n",
    "    \"SchemaVesion\": \"1.0\",\n",
    "    \"SageMaker\": {\n",
    "        \"PythonSDK\": {\n",
    "            \"Resources\": {\n",
    "                \"GlobalDefaults\": {\n",
    "                    \"vpc_config\": {\n",
    "                        \"security_group_ids\": [\n",
    "                            \"sg-xxxxxxxxxxxxxxxxx\" // Replace with security group id\n",
    "                        ],\n",
    "                        \"subnets\": [\n",
    "                            \"subnet-xxxxxxxxxxxxxxxxx\", // Replace with subnet id\n",
    "                            \"subnet-xxxxxxxxxxxxxxxxx\" // Replace with subnet id\n",
    "                        ]\n",
    "                    }\n",
    "                    // ...\n",
    "                },\n",
    "                \"TrainingJob\": {\n",
    "                    \"role_arn\": \"arn:aws:xxxxxxxxxxx:role/xxxxx\", // Replace with role arn\n",
    "                    \"output_data_config\": {\n",
    "                        \"s3_output_path\": \"s3://xxxxxxxxxxx\", // Replace with S3 URI\n",
    "                    },\n",
    "                    // ...\n",
    "                }\n",
    "            }\n",
    "        }\n",
    "    }\n",
    "}\n",
    "```"
   ]
  },
  {
   "cell_type": "markdown",
   "metadata": {},
   "source": [
    "### Logging Levels\n",
    "\n",
    "To assist in debugging issues originating within the SDK, SageMakerCore provides a simple utility method - `configure_logging()`\n",
    "\n",
    "To set the logging level users have 2 options:\n",
    "1. Pass a string parameter to utility method with log level they desire - `configure_logging(\"DEBUG\")`\n",
    "2. Set the `LOG_LEVEL=INFO` environment variable and call `configure_logging()` without a parameter\n",
    "\n",
    "\n",
    "In a later section in this notebook, we will walk through an example of how these options would look like in practice for a user."
   ]
  },
  {
   "cell_type": "markdown",
   "metadata": {},
   "source": [
    "## Pre-Requisites"
   ]
  },
  {
   "cell_type": "markdown",
   "metadata": {},
   "source": [
    "### Install Latest SageMakerCore\n",
    "All SageMakerCore beta distributions will be released to a private s3 bucket. After being allowlisted, run the cells below to install the latest version of SageMakerCore from `s3://sagemaker-core-beta-artifacts/sagemaker_core-latest.tar.gz`\n",
    "\n",
    "Ensure you are using a kernel with python version >=3.8"
   ]
  },
  {
   "cell_type": "code",
   "execution_count": 1,
   "metadata": {
    "ExecuteTime": {
     "end_time": "2024-08-08T02:07:54.058068Z",
     "start_time": "2024-08-08T02:07:53.584087Z"
    }
   },
   "outputs": [
    {
     "name": "stdout",
     "output_type": "stream",
     "text": [
      "Found existing installation: sagemaker-core 0.1.1\r\n",
      "Not uninstalling sagemaker-core at /Users/nargokul/workspace/sagemaker-core/src, outside environment /Users/nargokul/workspace/sagemaker-core/venv\r\n",
      "Can't uninstall 'sagemaker-core'. No files were found to uninstall.\r\n"
     ]
    }
   ],
   "source": [
    "# Uninstall previous version of sagemaker_core and restart kernel\n",
    "!pip uninstall sagemaker_core -y"
   ]
  },
  {
   "cell_type": "code",
   "execution_count": 2,
   "metadata": {
    "ExecuteTime": {
     "end_time": "2024-08-08T02:07:54.191578Z",
     "start_time": "2024-08-08T02:07:54.059478Z"
    }
   },
   "outputs": [
    {
     "name": "stdout",
     "output_type": "stream",
     "text": [
      "mkdir: dist: File exists\r\n"
     ]
    }
   ],
   "source": [
    "# Make dist/ directory to hold the sagemaker_core beta distribution file\n",
    "!mkdir dist"
   ]
  },
  {
   "cell_type": "code",
   "execution_count": 3,
   "metadata": {
    "ExecuteTime": {
     "end_time": "2024-08-08T02:08:00.010297Z",
     "start_time": "2024-08-08T02:07:54.192027Z"
    }
   },
   "outputs": [
    {
     "name": "stdout",
     "output_type": "stream",
     "text": [
      "download: s3://sagemaker-core-beta-artifacts/sagemaker_core-latest.tar.gz to dist/sagemaker_core-latest.tar.gz\r\n",
      "Processing ./dist/sagemaker_core-latest.tar.gz\r\n",
      "  Installing build dependencies ... \u001B[?25ldone\r\n",
      "\u001B[?25h  Getting requirements to build wheel ... \u001B[?25ldone\r\n",
      "\u001B[?25h  Preparing metadata (pyproject.toml) ... \u001B[?25ldone\r\n",
      "\u001B[?25hRequirement already satisfied: pydantic<3.0.0,>=2.7.0 in /Users/nargokul/workspace/sagemaker-core/venv/lib/python3.9/site-packages (from sagemaker-core==0.1.6) (2.7.3)\r\n",
      "Requirement already satisfied: jsonschema<5.0.0 in /Users/nargokul/workspace/sagemaker-core/venv/lib/python3.9/site-packages (from sagemaker-core==0.1.6) (4.22.0)\r\n",
      "Requirement already satisfied: PyYAML<7.0,>=6.0 in /Users/nargokul/workspace/sagemaker-core/venv/lib/python3.9/site-packages (from sagemaker-core==0.1.6) (6.0.1)\r\n",
      "Requirement already satisfied: platformdirs<5.0.0,>=4.0.0 in /Users/nargokul/workspace/sagemaker-core/venv/lib/python3.9/site-packages (from sagemaker-core==0.1.6) (4.2.2)\r\n",
      "Requirement already satisfied: boto3<2.0.0,>=1.34.0 in /Users/nargokul/workspace/sagemaker-core/venv/lib/python3.9/site-packages (from sagemaker-core==0.1.6) (1.34.156)\r\n",
      "Requirement already satisfied: jmespath<2.0.0,>=0.7.1 in /Users/nargokul/workspace/sagemaker-core/venv/lib/python3.9/site-packages (from boto3<2.0.0,>=1.34.0->sagemaker-core==0.1.6) (1.0.1)\r\n",
      "Requirement already satisfied: s3transfer<0.11.0,>=0.10.0 in /Users/nargokul/workspace/sagemaker-core/venv/lib/python3.9/site-packages (from boto3<2.0.0,>=1.34.0->sagemaker-core==0.1.6) (0.10.1)\r\n",
      "Requirement already satisfied: botocore<1.35.0,>=1.34.156 in /Users/nargokul/workspace/sagemaker-core/venv/lib/python3.9/site-packages (from boto3<2.0.0,>=1.34.0->sagemaker-core==0.1.6) (1.34.156)\r\n",
      "Requirement already satisfied: rpds-py>=0.7.1 in /Users/nargokul/workspace/sagemaker-core/venv/lib/python3.9/site-packages (from jsonschema<5.0.0->sagemaker-core==0.1.6) (0.18.1)\r\n",
      "Requirement already satisfied: attrs>=22.2.0 in /Users/nargokul/workspace/sagemaker-core/venv/lib/python3.9/site-packages (from jsonschema<5.0.0->sagemaker-core==0.1.6) (23.2.0)\r\n",
      "Requirement already satisfied: referencing>=0.28.4 in /Users/nargokul/workspace/sagemaker-core/venv/lib/python3.9/site-packages (from jsonschema<5.0.0->sagemaker-core==0.1.6) (0.35.1)\r\n",
      "Requirement already satisfied: jsonschema-specifications>=2023.03.6 in /Users/nargokul/workspace/sagemaker-core/venv/lib/python3.9/site-packages (from jsonschema<5.0.0->sagemaker-core==0.1.6) (2023.12.1)\r\n",
      "Requirement already satisfied: typing-extensions>=4.6.1 in /Users/nargokul/workspace/sagemaker-core/venv/lib/python3.9/site-packages (from pydantic<3.0.0,>=2.7.0->sagemaker-core==0.1.6) (4.12.1)\r\n",
      "Requirement already satisfied: annotated-types>=0.4.0 in /Users/nargokul/workspace/sagemaker-core/venv/lib/python3.9/site-packages (from pydantic<3.0.0,>=2.7.0->sagemaker-core==0.1.6) (0.7.0)\r\n",
      "Requirement already satisfied: pydantic-core==2.18.4 in /Users/nargokul/workspace/sagemaker-core/venv/lib/python3.9/site-packages (from pydantic<3.0.0,>=2.7.0->sagemaker-core==0.1.6) (2.18.4)\r\n",
      "Requirement already satisfied: urllib3<1.27,>=1.25.4 in /Users/nargokul/workspace/sagemaker-core/venv/lib/python3.9/site-packages (from botocore<1.35.0,>=1.34.156->boto3<2.0.0,>=1.34.0->sagemaker-core==0.1.6) (1.26.18)\r\n",
      "Requirement already satisfied: python-dateutil<3.0.0,>=2.1 in /Users/nargokul/workspace/sagemaker-core/venv/lib/python3.9/site-packages (from botocore<1.35.0,>=1.34.156->boto3<2.0.0,>=1.34.0->sagemaker-core==0.1.6) (2.9.0.post0)\r\n",
      "Requirement already satisfied: six>=1.5 in /Users/nargokul/workspace/sagemaker-core/venv/lib/python3.9/site-packages (from python-dateutil<3.0.0,>=2.1->botocore<1.35.0,>=1.34.156->boto3<2.0.0,>=1.34.0->sagemaker-core==0.1.6) (1.16.0)\r\n",
      "Building wheels for collected packages: sagemaker-core\r\n",
      "  Building wheel for sagemaker-core (pyproject.toml) ... \u001B[?25ldone\r\n",
      "\u001B[?25h  Created wheel for sagemaker-core: filename=sagemaker_core-0.1.6-py3-none-any.whl size=357502 sha256=80997a679fc4e8fb199a3d99b4fc2c9407fbcc1c830ce2ab0825c77ecfe5c20c\r\n",
      "  Stored in directory: /Users/nargokul/Library/Caches/pip/wheels/fe/f8/67/5100a16dc470a3f7e8cce4f09cd4d98128e5d4f258b4fe90aa\r\n",
      "Successfully built sagemaker-core\r\n",
      "Installing collected packages: sagemaker-core\r\n",
      "  Attempting uninstall: sagemaker-core\r\n",
      "    Found existing installation: sagemaker-core 0.1.1\r\n",
      "    Not uninstalling sagemaker-core at /Users/nargokul/workspace/sagemaker-core/src, outside environment /Users/nargokul/workspace/sagemaker-core/venv\r\n",
      "    Can't uninstall 'sagemaker-core'. No files were found to uninstall.\r\n",
      "Successfully installed sagemaker-core-0.1.6\r\n",
      "\r\n",
      "\u001B[1m[\u001B[0m\u001B[34;49mnotice\u001B[0m\u001B[1;39;49m]\u001B[0m\u001B[39;49m A new release of pip available: \u001B[0m\u001B[31;49m22.3.1\u001B[0m\u001B[39;49m -> \u001B[0m\u001B[32;49m24.2\u001B[0m\r\n",
      "\u001B[1m[\u001B[0m\u001B[34;49mnotice\u001B[0m\u001B[1;39;49m]\u001B[0m\u001B[39;49m To update, run: \u001B[0m\u001B[32;49mpip install --upgrade pip\u001B[0m\r\n"
     ]
    }
   ],
   "source": [
    "# Download and Install the latest version of sagemaker_core\n",
    "!aws s3 cp s3://sagemaker-core-beta-artifacts/sagemaker_core-latest.tar.gz dist/\n",
    "\n",
    "!pip install dist/sagemaker_core-latest.tar.gz"
   ]
  },
  {
   "cell_type": "code",
   "execution_count": 4,
   "metadata": {
    "ExecuteTime": {
     "end_time": "2024-08-08T02:08:00.891259Z",
     "start_time": "2024-08-08T02:08:00.011631Z"
    }
   },
   "outputs": [
    {
     "name": "stdout",
     "output_type": "stream",
     "text": [
      "Name: sagemaker-core\r\n",
      "Version: 0.1.1\r\n",
      "Summary: An python package for sagemaker core functionalities\r\n",
      "Home-page: \r\n",
      "Author: \r\n",
      "Author-email: AWS <sagemaker-interests@amazon.com>\r\n",
      "License: \r\n",
      "Location: /Users/nargokul/workspace/sagemaker-core/src\r\n",
      "Requires: boto3, jsonschema, platformdirs, pydantic, PyYAML\r\n",
      "Required-by: \r\n",
      "Metadata-Version: 2.1\r\n",
      "Installer: \r\n",
      "Classifiers:\r\n",
      "  Development Status :: 3 - Alpha\r\n",
      "  Intended Audience :: Developers\r\n",
      "  License :: OSI Approved :: Apache Software License 2.0\r\n",
      "  Programming Language :: Python :: 3.8\r\n",
      "  Programming Language :: Python :: 3.9\r\n",
      "  Programming Language :: Python :: 3.10\r\n",
      "Entry-points:\r\n",
      "Project-URLs:\r\n",
      "  Repository, https://github.com/aws/sagemaker-core.git\r\n"
     ]
    }
   ],
   "source": [
    "# Check the version of sagemaker_core\n",
    "!pip show -v sagemaker_core"
   ]
  },
  {
   "cell_type": "markdown",
   "metadata": {},
   "source": [
    "### Install Additional Packages"
   ]
  },
  {
   "cell_type": "code",
   "execution_count": 5,
   "metadata": {
    "ExecuteTime": {
     "end_time": "2024-08-08T02:08:02.529280Z",
     "start_time": "2024-08-08T02:08:00.894252Z"
    }
   },
   "outputs": [
    {
     "name": "stdout",
     "output_type": "stream",
     "text": [
      "Requirement already satisfied: scikit-learn in /Users/nargokul/workspace/sagemaker-core/venv/lib/python3.9/site-packages (1.5.1)\r\n",
      "Requirement already satisfied: pandas in /Users/nargokul/workspace/sagemaker-core/venv/lib/python3.9/site-packages (2.2.2)\r\n",
      "Requirement already satisfied: boto3 in /Users/nargokul/workspace/sagemaker-core/venv/lib/python3.9/site-packages (1.34.156)\r\n",
      "Requirement already satisfied: numpy>=1.19.5 in /Users/nargokul/workspace/sagemaker-core/venv/lib/python3.9/site-packages (from scikit-learn) (1.26.4)\r\n",
      "Requirement already satisfied: scipy>=1.6.0 in /Users/nargokul/workspace/sagemaker-core/venv/lib/python3.9/site-packages (from scikit-learn) (1.13.1)\r\n",
      "Requirement already satisfied: joblib>=1.2.0 in /Users/nargokul/workspace/sagemaker-core/venv/lib/python3.9/site-packages (from scikit-learn) (1.4.2)\r\n",
      "Requirement already satisfied: threadpoolctl>=3.1.0 in /Users/nargokul/workspace/sagemaker-core/venv/lib/python3.9/site-packages (from scikit-learn) (3.5.0)\r\n",
      "Requirement already satisfied: tzdata>=2022.7 in /Users/nargokul/workspace/sagemaker-core/venv/lib/python3.9/site-packages (from pandas) (2024.1)\r\n",
      "Requirement already satisfied: python-dateutil>=2.8.2 in /Users/nargokul/workspace/sagemaker-core/venv/lib/python3.9/site-packages (from pandas) (2.9.0.post0)\r\n",
      "Requirement already satisfied: pytz>=2020.1 in /Users/nargokul/workspace/sagemaker-core/venv/lib/python3.9/site-packages (from pandas) (2024.1)\r\n",
      "Requirement already satisfied: s3transfer<0.11.0,>=0.10.0 in /Users/nargokul/workspace/sagemaker-core/venv/lib/python3.9/site-packages (from boto3) (0.10.1)\r\n",
      "Requirement already satisfied: botocore<1.35.0,>=1.34.156 in /Users/nargokul/workspace/sagemaker-core/venv/lib/python3.9/site-packages (from boto3) (1.34.156)\r\n",
      "Requirement already satisfied: jmespath<2.0.0,>=0.7.1 in /Users/nargokul/workspace/sagemaker-core/venv/lib/python3.9/site-packages (from boto3) (1.0.1)\r\n",
      "Requirement already satisfied: urllib3<1.27,>=1.25.4 in /Users/nargokul/workspace/sagemaker-core/venv/lib/python3.9/site-packages (from botocore<1.35.0,>=1.34.156->boto3) (1.26.18)\r\n",
      "Requirement already satisfied: six>=1.5 in /Users/nargokul/workspace/sagemaker-core/venv/lib/python3.9/site-packages (from python-dateutil>=2.8.2->pandas) (1.16.0)\r\n",
      "\r\n",
      "\u001B[1m[\u001B[0m\u001B[34;49mnotice\u001B[0m\u001B[1;39;49m]\u001B[0m\u001B[39;49m A new release of pip available: \u001B[0m\u001B[31;49m22.3.1\u001B[0m\u001B[39;49m -> \u001B[0m\u001B[32;49m24.2\u001B[0m\r\n",
      "\u001B[1m[\u001B[0m\u001B[34;49mnotice\u001B[0m\u001B[1;39;49m]\u001B[0m\u001B[39;49m To update, run: \u001B[0m\u001B[32;49mpip install --upgrade pip\u001B[0m\r\n"
     ]
    }
   ],
   "source": [
    "# Install additionall packages\n",
    "\n",
    "!pip install -U scikit-learn pandas boto3"
   ]
  },
  {
   "cell_type": "markdown",
   "metadata": {},
   "source": [
    "### Setup\n",
    "\n",
    "Let's start by specifying:\n",
    "- AWS region.\n",
    "- The IAM role arn used to give learning and hosting access to your data. Ensure your enviornment has AWS Credentials configured.\n",
    "- The S3 bucket that you want to use for storing training and model data."
   ]
  },
  {
   "cell_type": "code",
   "execution_count": 6,
   "metadata": {
    "ExecuteTime": {
     "end_time": "2024-08-08T02:08:04.430706Z",
     "start_time": "2024-08-08T02:08:02.530659Z"
    }
   },
   "outputs": [
    {
     "data": {
      "text/plain": "arn:aws:iam::\u001B[1;36m211125564141\u001B[0m:role/Admin\n",
      "text/html": "<pre style=\"white-space:pre;overflow-x:auto;line-height:normal;font-family:Menlo,'DejaVu Sans Mono',consolas,'Courier New',monospace\">arn:aws:iam::<span style=\"color: #008080; text-decoration-color: #008080; font-weight: bold\">211125564141</span>:role/Admin\n</pre>\n"
     },
     "metadata": {},
     "output_type": "display_data"
    }
   ],
   "source": [
    "from sagemaker_core.helper.session_helper import Session, get_execution_role\n",
    "from rich import print\n",
    "\n",
    "# Get region, role, bucket\n",
    "\n",
    "sagemaker_session = Session()\n",
    "region = sagemaker_session.boto_region_name\n",
    "role = get_execution_role()\n",
    "bucket = sagemaker_session.default_bucket()\n",
    "print(role)"
   ]
  },
  {
   "cell_type": "markdown",
   "metadata": {},
   "source": [
    "### Load and Prepare Dataset\n",
    "For this example, we will be using the IRIS data set from `sklearn.datasets` to train our XGBoost container."
   ]
  },
  {
   "cell_type": "code",
   "execution_count": 7,
   "metadata": {
    "ExecuteTime": {
     "end_time": "2024-08-08T02:08:08.831884Z",
     "start_time": "2024-08-08T02:08:04.429108Z"
    }
   },
   "outputs": [],
   "source": [
    "from sklearn.datasets import load_iris\n",
    "from sklearn.model_selection import train_test_split\n",
    "\n",
    "import pandas as pd\n",
    "\n",
    "# Get IRIS Data\n",
    "\n",
    "iris = load_iris()\n",
    "iris_df = pd.DataFrame(iris.data, columns=iris.feature_names)\n",
    "iris_df['target'] = iris.target"
   ]
  },
  {
   "cell_type": "code",
   "execution_count": 8,
   "metadata": {
    "ExecuteTime": {
     "end_time": "2024-08-08T02:08:08.837893Z",
     "start_time": "2024-08-08T02:08:08.834489Z"
    }
   },
   "outputs": [],
   "source": [
    "import os\n",
    "\n",
    "# Prepare Data\n",
    "\n",
    "os.makedirs('./data', exist_ok=True)\n",
    "\n",
    "iris_df = iris_df[['target'] + [col for col in iris_df.columns if col != 'target']]\n",
    "\n",
    "train_data, test_data = train_test_split(iris_df, test_size=0.2, random_state=42)\n",
    "\n",
    "train_data.to_csv('./data/train.csv', index=False, header=False)"
   ]
  },
  {
   "cell_type": "markdown",
   "metadata": {},
   "source": [
    "### Upload Data to S3\n",
    "In this step, we will upload the train and test data to the S3 bucket configured earlier using `sagemaker_session.default_bucket()`"
   ]
  },
  {
   "cell_type": "code",
   "execution_count": 9,
   "metadata": {
    "ExecuteTime": {
     "end_time": "2024-08-08T02:08:09.025961Z",
     "start_time": "2024-08-08T02:08:08.839331Z"
    }
   },
   "outputs": [
    {
     "data": {
      "text/plain": "s3:\u001B[35m/\u001B[0m\u001B[35m/sagemaker-us-west-2-211125564141/DEMO-scikit-iris/data/\u001B[0m\u001B[95mtrain.csv\u001B[0m\n",
      "text/html": "<pre style=\"white-space:pre;overflow-x:auto;line-height:normal;font-family:Menlo,'DejaVu Sans Mono',consolas,'Courier New',monospace\">s3:<span style=\"color: #800080; text-decoration-color: #800080\">//sagemaker-us-west-2-211125564141/DEMO-scikit-iris/data/</span><span style=\"color: #ff00ff; text-decoration-color: #ff00ff\">train.csv</span>\n</pre>\n"
     },
     "metadata": {},
     "output_type": "display_data"
    },
    {
     "data": {
      "text/plain": "s3:\u001B[35m/\u001B[0m\u001B[35m/sagemaker-us-west-2-211125564141/DEMO-scikit-iris/\u001B[0m\u001B[95moutput\u001B[0m\n",
      "text/html": "<pre style=\"white-space:pre;overflow-x:auto;line-height:normal;font-family:Menlo,'DejaVu Sans Mono',consolas,'Courier New',monospace\">s3:<span style=\"color: #800080; text-decoration-color: #800080\">//sagemaker-us-west-2-211125564141/DEMO-scikit-iris/</span><span style=\"color: #ff00ff; text-decoration-color: #ff00ff\">output</span>\n</pre>\n"
     },
     "metadata": {},
     "output_type": "display_data"
    }
   ],
   "source": [
    "# Upload Data\n",
    "\n",
    "prefix = \"DEMO-scikit-iris\"\n",
    "TRAIN_DATA = \"train.csv\"\n",
    "DATA_DIRECTORY = \"data\"\n",
    "\n",
    "train_input = sagemaker_session.upload_data(\n",
    "    DATA_DIRECTORY, bucket=bucket, key_prefix=\"{}/{}\".format(prefix, DATA_DIRECTORY)\n",
    ")\n",
    "\n",
    "s3_input_path = \"s3://{}/{}/data/{}\".format(bucket, prefix, TRAIN_DATA)\n",
    "s3_output_path = \"s3://{}/{}/output\".format(bucket, prefix)\n",
    "\n",
    "print(s3_input_path)\n",
    "print(s3_output_path)"
   ]
  },
  {
   "cell_type": "markdown",
   "metadata": {},
   "source": [
    "### Fetch the XGBoost Image URI\n",
    "In this step, we will fetch the XGBoost Image URI we will use as an input parameter when creating an AWS TrainingJob"
   ]
  },
  {
   "cell_type": "code",
   "execution_count": 10,
   "metadata": {
    "ExecuteTime": {
     "end_time": "2024-08-08T02:08:09.030789Z",
     "start_time": "2024-08-08T02:08:09.027093Z"
    }
   },
   "outputs": [],
   "source": [
    "# Image name is hardcoded here\n",
    "# Image name can be programatically got by using sagemaker package and calling image_uris.retrieve\n",
    "# Since that is a high level abstraction that has multiple dependencies, the image URIs functionalities will live in sagemaker (V2)\n",
    "\n",
    "image = \"433757028032.dkr.ecr.us-west-2.amazonaws.com/xgboost:latest\""
   ]
  },
  {
   "cell_type": "markdown",
   "metadata": {},
   "source": [
    "## Intelligent Defaults"
   ]
  },
  {
   "cell_type": "markdown",
   "metadata": {},
   "source": [
    "### Create Intelligent Defaults JSON\n",
    "\n",
    "In order for SageMakerCore to pick up the Intelligent Defaults Configs to populate API calls, we first must create the json config file and set the `SAGEMAKER_CORE_ADMIN_CONFIG_OVERRIDE` enviornment variable.\n",
    "\n",
    "Below we will create the config file at `data/defaults.json` and assign this path to the `SAGEMAKER_CORE_ADMIN_CONFIG_OVERRIDE` enviornment variable."
   ]
  },
  {
   "cell_type": "code",
   "execution_count": 11,
   "metadata": {
    "ExecuteTime": {
     "end_time": "2024-08-08T02:08:09.035245Z",
     "start_time": "2024-08-08T02:08:09.032100Z"
    }
   },
   "outputs": [],
   "source": [
    "import os\n",
    "import json\n",
    "\n",
    "DEFAULTS_CONTENT = {\n",
    "    \"SchemaVesion\": \"1.0\",\n",
    "    \"SageMaker\": {\n",
    "        \"PythonSDK\": {\n",
    "            \"Resources\": {\n",
    "                \"GlobalDefaults\": {\n",
    "                    \"vpc_config\": {\n",
    "                        \"security_group_ids\": [\n",
    "                            \"sg-xxxxxxxxxxxxxxxxx\" # Replace with security group id\n",
    "                        ],\n",
    "                        \"subnets\": [\n",
    "                            \"subnet-xxxxxxxxxxxxxxxxx\", # Replace with subnet id\n",
    "                            \"subnet-xxxxxxxxxxxxxxxxx\" # Replace with subnet id\n",
    "                        ]\n",
    "                    }\n",
    "                },\n",
    "                \"TrainingJob\": {\n",
    "                    \"role_arn\": role,\n",
    "                    \"output_data_config\": {\n",
    "                        \"s3_output_path\": s3_output_path\n",
    "                    },\n",
    "            \n",
    "                }\n",
    "            }\n",
    "        }\n",
    "    }\n",
    "}\n",
    "\n",
    "path_to_defaults = os.path.join(DATA_DIRECTORY, \"defaults.json\")\n",
    "with open(os.path.join(DATA_DIRECTORY, \"defaults.json\"), \"w\") as f:\n",
    "    json.dump(DEFAULTS_CONTENT, f, indent=4)  "
   ]
  },
  {
   "cell_type": "code",
   "execution_count": 12,
   "metadata": {
    "ExecuteTime": {
     "end_time": "2024-08-08T02:08:09.039139Z",
     "start_time": "2024-08-08T02:08:09.035897Z"
    }
   },
   "outputs": [],
   "source": [
    "import os\n",
    "# Setting path of Config file in environment variable \n",
    "os.environ['SAGEMAKER_CORE_ADMIN_CONFIG_OVERRIDE'] = path_to_defaults"
   ]
  },
  {
   "cell_type": "markdown",
   "metadata": {},
   "source": [
    "### Using GlobalDefaults\n",
    "In the below example,  a `Cluster` resource will be created using the `vpc_config` defined under the `SageMaker.PythonSDK.Resources.GlobalDefaults`."
   ]
  },
  {
   "cell_type": "code",
   "execution_count": 13,
   "metadata": {
    "ExecuteTime": {
     "end_time": "2024-08-08T02:08:12.605432Z",
     "start_time": "2024-08-08T02:08:09.040183Z"
    }
   },
   "outputs": [
    {
     "name": "stderr",
     "output_type": "stream",
     "text": [
      "/Users/nargokul/workspace/sagemaker-core/venv/lib/python3.9/site-packages/pydantic/_internal/_fields.py:200: UserWarning: Field name \"json\" in \"MonitoringDatasetFormat\" shadows an attribute in parent \"Base\"\n",
      "  warnings.warn(\n"
     ]
    },
    {
     "data": {
      "text/plain": "\u001B[2;36m[08/07/24 19:08:10]\u001B[0m\u001B[2;36m \u001B[0m\u001B[34mINFO    \u001B[0m INFO:sagemaker_core.generated.resources:Creating cluster resource.   \u001B]8;id=92420;file:///Users/nargokul/workspace/sagemaker-core/src/sagemaker_core/generated/resources.py\u001B\\\u001B[2mresources.py\u001B[0m\u001B]8;;\u001B\\\u001B[2m:\u001B[0m\u001B]8;id=142115;file:///Users/nargokul/workspace/sagemaker-core/src/sagemaker_core/generated/resources.py#3097\u001B\\\u001B[2m3097\u001B[0m\u001B]8;;\u001B\\\n",
      "text/html": "<pre style=\"white-space:pre;overflow-x:auto;line-height:normal;font-family:Menlo,'DejaVu Sans Mono',consolas,'Courier New',monospace\"><span style=\"color: #7fbfbf; text-decoration-color: #7fbfbf\">[08/07/24 19:08:10] </span><span style=\"color: #000080; text-decoration-color: #000080\">INFO    </span> INFO:sagemaker_core.generated.resources:Creating cluster resource.   <a href=\"file:///Users/nargokul/workspace/sagemaker-core/src/sagemaker_core/generated/resources.py\" target=\"_blank\"><span style=\"color: #7f7f7f; text-decoration-color: #7f7f7f\">resources.py</span></a><span style=\"color: #7f7f7f; text-decoration-color: #7f7f7f\">:</span><a href=\"file:///Users/nargokul/workspace/sagemaker-core/src/sagemaker_core/generated/resources.py#3097\" target=\"_blank\"><span style=\"color: #7f7f7f; text-decoration-color: #7f7f7f\">3097</span></a>\n</pre>\n"
     },
     "metadata": {},
     "output_type": "display_data"
    },
    {
     "data": {
      "text/plain": "\u001B[2;36m                   \u001B[0m\u001B[2;36m \u001B[0m\u001B[31mWARNING \u001B[0m WARNING:sagemaker_core.generated.utils:No boto3 session provided.         \u001B]8;id=367473;file:///Users/nargokul/workspace/sagemaker-core/src/sagemaker_core/generated/utils.py\u001B\\\u001B[2mutils.py\u001B[0m\u001B]8;;\u001B\\\u001B[2m:\u001B[0m\u001B]8;id=788621;file:///Users/nargokul/workspace/sagemaker-core/src/sagemaker_core/generated/utils.py#194\u001B\\\u001B[2m194\u001B[0m\u001B]8;;\u001B\\\n\u001B[2;36m                    \u001B[0m         Creating a new session.                                                   \u001B[2m            \u001B[0m\n",
      "text/html": "<pre style=\"white-space:pre;overflow-x:auto;line-height:normal;font-family:Menlo,'DejaVu Sans Mono',consolas,'Courier New',monospace\"><span style=\"color: #7fbfbf; text-decoration-color: #7fbfbf\">                    </span><span style=\"color: #800000; text-decoration-color: #800000\">WARNING </span> WARNING:sagemaker_core.generated.utils:No boto3 session provided.         <a href=\"file:///Users/nargokul/workspace/sagemaker-core/src/sagemaker_core/generated/utils.py\" target=\"_blank\"><span style=\"color: #7f7f7f; text-decoration-color: #7f7f7f\">utils.py</span></a><span style=\"color: #7f7f7f; text-decoration-color: #7f7f7f\">:</span><a href=\"file:///Users/nargokul/workspace/sagemaker-core/src/sagemaker_core/generated/utils.py#194\" target=\"_blank\"><span style=\"color: #7f7f7f; text-decoration-color: #7f7f7f\">194</span></a>\n<span style=\"color: #7fbfbf; text-decoration-color: #7fbfbf\">                    </span>         Creating a new session.                                                   <span style=\"color: #7f7f7f; text-decoration-color: #7f7f7f\">            </span>\n</pre>\n"
     },
     "metadata": {},
     "output_type": "display_data"
    },
    {
     "data": {
      "text/plain": "\u001B[2;36m                   \u001B[0m\u001B[2;36m \u001B[0m\u001B[31mWARNING \u001B[0m WARNING:sagemaker_core.generated.utils:No region provided. Using default  \u001B]8;id=964649;file:///Users/nargokul/workspace/sagemaker-core/src/sagemaker_core/generated/utils.py\u001B\\\u001B[2mutils.py\u001B[0m\u001B]8;;\u001B\\\u001B[2m:\u001B[0m\u001B]8;id=868941;file:///Users/nargokul/workspace/sagemaker-core/src/sagemaker_core/generated/utils.py#198\u001B\\\u001B[2m198\u001B[0m\u001B]8;;\u001B\\\n\u001B[2;36m                    \u001B[0m         region.                                                                   \u001B[2m            \u001B[0m\n",
      "text/html": "<pre style=\"white-space:pre;overflow-x:auto;line-height:normal;font-family:Menlo,'DejaVu Sans Mono',consolas,'Courier New',monospace\"><span style=\"color: #7fbfbf; text-decoration-color: #7fbfbf\">                    </span><span style=\"color: #800000; text-decoration-color: #800000\">WARNING </span> WARNING:sagemaker_core.generated.utils:No region provided. Using default  <a href=\"file:///Users/nargokul/workspace/sagemaker-core/src/sagemaker_core/generated/utils.py\" target=\"_blank\"><span style=\"color: #7f7f7f; text-decoration-color: #7f7f7f\">utils.py</span></a><span style=\"color: #7f7f7f; text-decoration-color: #7f7f7f\">:</span><a href=\"file:///Users/nargokul/workspace/sagemaker-core/src/sagemaker_core/generated/utils.py#198\" target=\"_blank\"><span style=\"color: #7f7f7f; text-decoration-color: #7f7f7f\">198</span></a>\n<span style=\"color: #7fbfbf; text-decoration-color: #7fbfbf\">                    </span>         region.                                                                   <span style=\"color: #7f7f7f; text-decoration-color: #7f7f7f\">            </span>\n</pre>\n"
     },
     "metadata": {},
     "output_type": "display_data"
    },
    {
     "data": {
      "text/plain": "\u001B[2;36m                   \u001B[0m\u001B[2;36m \u001B[0m\u001B[31mWARNING \u001B[0m WARNING:sagemaker_core.generated.utils:No config provided. Using default  \u001B]8;id=846838;file:///Users/nargokul/workspace/sagemaker-core/src/sagemaker_core/generated/utils.py\u001B\\\u001B[2mutils.py\u001B[0m\u001B]8;;\u001B\\\u001B[2m:\u001B[0m\u001B]8;id=514741;file:///Users/nargokul/workspace/sagemaker-core/src/sagemaker_core/generated/utils.py#202\u001B\\\u001B[2m202\u001B[0m\u001B]8;;\u001B\\\n\u001B[2;36m                    \u001B[0m         config.                                                                   \u001B[2m            \u001B[0m\n",
      "text/html": "<pre style=\"white-space:pre;overflow-x:auto;line-height:normal;font-family:Menlo,'DejaVu Sans Mono',consolas,'Courier New',monospace\"><span style=\"color: #7fbfbf; text-decoration-color: #7fbfbf\">                    </span><span style=\"color: #800000; text-decoration-color: #800000\">WARNING </span> WARNING:sagemaker_core.generated.utils:No config provided. Using default  <a href=\"file:///Users/nargokul/workspace/sagemaker-core/src/sagemaker_core/generated/utils.py\" target=\"_blank\"><span style=\"color: #7f7f7f; text-decoration-color: #7f7f7f\">utils.py</span></a><span style=\"color: #7f7f7f; text-decoration-color: #7f7f7f\">:</span><a href=\"file:///Users/nargokul/workspace/sagemaker-core/src/sagemaker_core/generated/utils.py#202\" target=\"_blank\"><span style=\"color: #7f7f7f; text-decoration-color: #7f7f7f\">202</span></a>\n<span style=\"color: #7fbfbf; text-decoration-color: #7fbfbf\">                    </span>         config.                                                                   <span style=\"color: #7f7f7f; text-decoration-color: #7f7f7f\">            </span>\n</pre>\n"
     },
     "metadata": {},
     "output_type": "display_data"
    },
    {
     "data": {
      "text/plain": "\u001B[2;36m                   \u001B[0m\u001B[2;36m \u001B[0m\u001B[34mINFO    \u001B[0m INFO:botocore.credentials:Found credentials in shared credentials  \u001B]8;id=376488;file:///Users/nargokul/workspace/sagemaker-core/venv/lib/python3.9/site-packages/botocore/credentials.py\u001B\\\u001B[2mcredentials.py\u001B[0m\u001B]8;;\u001B\\\u001B[2m:\u001B[0m\u001B]8;id=972536;file:///Users/nargokul/workspace/sagemaker-core/venv/lib/python3.9/site-packages/botocore/credentials.py#1278\u001B\\\u001B[2m1278\u001B[0m\u001B]8;;\u001B\\\n\u001B[2;36m                    \u001B[0m         file: ~\u001B[35m/.aws/\u001B[0m\u001B[95mcredentials\u001B[0m                                           \u001B[2m                   \u001B[0m\n",
      "text/html": "<pre style=\"white-space:pre;overflow-x:auto;line-height:normal;font-family:Menlo,'DejaVu Sans Mono',consolas,'Courier New',monospace\"><span style=\"color: #7fbfbf; text-decoration-color: #7fbfbf\">                    </span><span style=\"color: #000080; text-decoration-color: #000080\">INFO    </span> INFO:botocore.credentials:Found credentials in shared credentials  <a href=\"file:///Users/nargokul/workspace/sagemaker-core/venv/lib/python3.9/site-packages/botocore/credentials.py\" target=\"_blank\"><span style=\"color: #7f7f7f; text-decoration-color: #7f7f7f\">credentials.py</span></a><span style=\"color: #7f7f7f; text-decoration-color: #7f7f7f\">:</span><a href=\"file:///Users/nargokul/workspace/sagemaker-core/venv/lib/python3.9/site-packages/botocore/credentials.py#1278\" target=\"_blank\"><span style=\"color: #7f7f7f; text-decoration-color: #7f7f7f\">1278</span></a>\n<span style=\"color: #7fbfbf; text-decoration-color: #7fbfbf\">                    </span>         file: ~<span style=\"color: #800080; text-decoration-color: #800080\">/.aws/</span><span style=\"color: #ff00ff; text-decoration-color: #ff00ff\">credentials</span>                                           <span style=\"color: #7f7f7f; text-decoration-color: #7f7f7f\">                   </span>\n</pre>\n"
     },
     "metadata": {},
     "output_type": "display_data"
    },
    {
     "ename": "ClientError",
     "evalue": "An error occurred (ValidationException) when calling the CreateCluster operation: Unable to retrieve security groups. Please ensure that the execution role allows the action sts:AssumeRole for the service principal sagemaker.amazonaws.com, and has all the permissions required to create a cluster.",
     "output_type": "error",
     "traceback": [
      "\u001B[0;31m---------------------------------------------------------------------------\u001B[0m",
      "\u001B[0;31mClientError\u001B[0m                               Traceback (most recent call last)",
      "Cell \u001B[0;32mIn[13], line 8\u001B[0m\n\u001B[1;32m      5\u001B[0m cluster_name_v3 \u001B[38;5;241m=\u001B[39m \u001B[38;5;124m'\u001B[39m\u001B[38;5;124mxgboost-cluster-\u001B[39m\u001B[38;5;124m'\u001B[39m \u001B[38;5;241m+\u001B[39m time\u001B[38;5;241m.\u001B[39mstrftime(\u001B[38;5;124m\"\u001B[39m\u001B[38;5;124m%\u001B[39m\u001B[38;5;124mY-\u001B[39m\u001B[38;5;124m%\u001B[39m\u001B[38;5;124mm-\u001B[39m\u001B[38;5;132;01m%d\u001B[39;00m\u001B[38;5;124m-\u001B[39m\u001B[38;5;124m%\u001B[39m\u001B[38;5;124mH-\u001B[39m\u001B[38;5;124m%\u001B[39m\u001B[38;5;124mM-\u001B[39m\u001B[38;5;124m%\u001B[39m\u001B[38;5;124mS\u001B[39m\u001B[38;5;124m\"\u001B[39m, time\u001B[38;5;241m.\u001B[39mgmtime())\n\u001B[1;32m      7\u001B[0m \u001B[38;5;66;03m# Use vpc_config from Intelligent Defaults JSON config file under the SageMaker.PythonSDK.Resources.GlobalDefaults key\u001B[39;00m\n\u001B[0;32m----> 8\u001B[0m cluster \u001B[38;5;241m=\u001B[39m \u001B[43mCluster\u001B[49m\u001B[38;5;241;43m.\u001B[39;49m\u001B[43mcreate\u001B[49m\u001B[43m(\u001B[49m\n\u001B[1;32m      9\u001B[0m \u001B[43m    \u001B[49m\u001B[43mcluster_name\u001B[49m\u001B[38;5;241;43m=\u001B[39;49m\u001B[43mcluster_name_v3\u001B[49m\u001B[43m,\u001B[49m\n\u001B[1;32m     10\u001B[0m \u001B[43m    \u001B[49m\u001B[43minstance_groups\u001B[49m\u001B[38;5;241;43m=\u001B[39;49m\u001B[43m[\u001B[49m\n\u001B[1;32m     11\u001B[0m \u001B[43m        \u001B[49m\u001B[43mClusterInstanceGroupSpecification\u001B[49m\u001B[43m(\u001B[49m\n\u001B[1;32m     12\u001B[0m \u001B[43m            \u001B[49m\u001B[43minstance_count\u001B[49m\u001B[38;5;241;43m=\u001B[39;49m\u001B[38;5;241;43m1\u001B[39;49m\u001B[43m,\u001B[49m\u001B[43m \u001B[49m\n\u001B[1;32m     13\u001B[0m \u001B[43m            \u001B[49m\u001B[43minstance_group_name\u001B[49m\u001B[38;5;241;43m=\u001B[39;49m\u001B[38;5;124;43m\"\u001B[39;49m\u001B[38;5;124;43minstance-group-11\u001B[39;49m\u001B[38;5;124;43m\"\u001B[39;49m\u001B[43m,\u001B[49m\n\u001B[1;32m     14\u001B[0m \u001B[43m            \u001B[49m\u001B[43minstance_type\u001B[49m\u001B[38;5;241;43m=\u001B[39;49m\u001B[38;5;124;43m\"\u001B[39;49m\u001B[38;5;124;43mml.m5.4xlarge\u001B[39;49m\u001B[38;5;124;43m\"\u001B[39;49m\u001B[43m,\u001B[49m\n\u001B[1;32m     15\u001B[0m \u001B[43m            \u001B[49m\u001B[43mlife_cycle_config\u001B[49m\u001B[38;5;241;43m=\u001B[39;49m\u001B[43mClusterLifeCycleConfig\u001B[49m\u001B[43m(\u001B[49m\u001B[43msource_s3_uri\u001B[49m\u001B[38;5;241;43m=\u001B[39;49m\u001B[43ms3_input_path\u001B[49m\u001B[43m,\u001B[49m\u001B[43m \u001B[49m\u001B[43mon_create\u001B[49m\u001B[38;5;241;43m=\u001B[39;49m\u001B[38;5;124;43m\"\u001B[39;49m\u001B[38;5;124;43mdothis\u001B[39;49m\u001B[38;5;124;43m\"\u001B[39;49m\u001B[43m)\u001B[49m\u001B[43m,\u001B[49m\n\u001B[1;32m     16\u001B[0m \u001B[43m            \u001B[49m\u001B[43mexecution_role\u001B[49m\u001B[38;5;241;43m=\u001B[39;49m\u001B[43mrole\u001B[49m\n\u001B[1;32m     17\u001B[0m \u001B[43m        \u001B[49m\u001B[43m)\u001B[49m\n\u001B[1;32m     18\u001B[0m \u001B[43m    \u001B[49m\u001B[43m]\u001B[49m\n\u001B[1;32m     19\u001B[0m \u001B[43m)\u001B[49m\n",
      "File \u001B[0;32m~/workspace/sagemaker-core/src/sagemaker_core/generated/resources.py:3046\u001B[0m, in \u001B[0;36mCluster.populate_inputs_decorator.<locals>.wrapper\u001B[0;34m(*args, **kwargs)\u001B[0m\n\u001B[1;32m   3038\u001B[0m \u001B[38;5;129m@functools\u001B[39m\u001B[38;5;241m.\u001B[39mwraps(create_func)\n\u001B[1;32m   3039\u001B[0m \u001B[38;5;28;01mdef\u001B[39;00m \u001B[38;5;21mwrapper\u001B[39m(\u001B[38;5;241m*\u001B[39margs, \u001B[38;5;241m*\u001B[39m\u001B[38;5;241m*\u001B[39mkwargs):\n\u001B[1;32m   3040\u001B[0m     config_schema_for_resource \u001B[38;5;241m=\u001B[39m {\n\u001B[1;32m   3041\u001B[0m         \u001B[38;5;124m\"\u001B[39m\u001B[38;5;124mvpc_config\u001B[39m\u001B[38;5;124m\"\u001B[39m: {\n\u001B[1;32m   3042\u001B[0m             \u001B[38;5;124m\"\u001B[39m\u001B[38;5;124msecurity_group_ids\u001B[39m\u001B[38;5;124m\"\u001B[39m: {\u001B[38;5;124m\"\u001B[39m\u001B[38;5;124mtype\u001B[39m\u001B[38;5;124m\"\u001B[39m: \u001B[38;5;124m\"\u001B[39m\u001B[38;5;124marray\u001B[39m\u001B[38;5;124m\"\u001B[39m, \u001B[38;5;124m\"\u001B[39m\u001B[38;5;124mitems\u001B[39m\u001B[38;5;124m\"\u001B[39m: {\u001B[38;5;124m\"\u001B[39m\u001B[38;5;124mtype\u001B[39m\u001B[38;5;124m\"\u001B[39m: \u001B[38;5;124m\"\u001B[39m\u001B[38;5;124mstring\u001B[39m\u001B[38;5;124m\"\u001B[39m}},\n\u001B[1;32m   3043\u001B[0m             \u001B[38;5;124m\"\u001B[39m\u001B[38;5;124msubnets\u001B[39m\u001B[38;5;124m\"\u001B[39m: {\u001B[38;5;124m\"\u001B[39m\u001B[38;5;124mtype\u001B[39m\u001B[38;5;124m\"\u001B[39m: \u001B[38;5;124m\"\u001B[39m\u001B[38;5;124marray\u001B[39m\u001B[38;5;124m\"\u001B[39m, \u001B[38;5;124m\"\u001B[39m\u001B[38;5;124mitems\u001B[39m\u001B[38;5;124m\"\u001B[39m: {\u001B[38;5;124m\"\u001B[39m\u001B[38;5;124mtype\u001B[39m\u001B[38;5;124m\"\u001B[39m: \u001B[38;5;124m\"\u001B[39m\u001B[38;5;124mstring\u001B[39m\u001B[38;5;124m\"\u001B[39m}},\n\u001B[1;32m   3044\u001B[0m         }\n\u001B[1;32m   3045\u001B[0m     }\n\u001B[0;32m-> 3046\u001B[0m     \u001B[38;5;28;01mreturn\u001B[39;00m \u001B[43mcreate_func\u001B[49m\u001B[43m(\u001B[49m\n\u001B[1;32m   3047\u001B[0m \u001B[43m        \u001B[49m\u001B[38;5;241;43m*\u001B[39;49m\u001B[43margs\u001B[49m\u001B[43m,\u001B[49m\n\u001B[1;32m   3048\u001B[0m \u001B[43m        \u001B[49m\u001B[38;5;241;43m*\u001B[39;49m\u001B[38;5;241;43m*\u001B[39;49m\u001B[43mBase\u001B[49m\u001B[38;5;241;43m.\u001B[39;49m\u001B[43mget_updated_kwargs_with_configured_attributes\u001B[49m\u001B[43m(\u001B[49m\n\u001B[1;32m   3049\u001B[0m \u001B[43m            \u001B[49m\u001B[43mconfig_schema_for_resource\u001B[49m\u001B[43m,\u001B[49m\u001B[43m \u001B[49m\u001B[38;5;124;43m\"\u001B[39;49m\u001B[38;5;124;43mCluster\u001B[39;49m\u001B[38;5;124;43m\"\u001B[39;49m\u001B[43m,\u001B[49m\u001B[43m \u001B[49m\u001B[38;5;241;43m*\u001B[39;49m\u001B[38;5;241;43m*\u001B[39;49m\u001B[43mkwargs\u001B[49m\n\u001B[1;32m   3050\u001B[0m \u001B[43m        \u001B[49m\u001B[43m)\u001B[49m\u001B[43m,\u001B[49m\n\u001B[1;32m   3051\u001B[0m \u001B[43m    \u001B[49m\u001B[43m)\u001B[49m\n",
      "File \u001B[0;32m~/workspace/sagemaker-core/src/sagemaker_core/generated/resources.py:3119\u001B[0m, in \u001B[0;36mCluster.create\u001B[0;34m(cls, cluster_name, instance_groups, vpc_config, tags, session, region)\u001B[0m\n\u001B[1;32m   3116\u001B[0m logger\u001B[38;5;241m.\u001B[39mdebug(\u001B[38;5;124mf\u001B[39m\u001B[38;5;124m\"\u001B[39m\u001B[38;5;124mSerialized input request: \u001B[39m\u001B[38;5;132;01m{\u001B[39;00moperation_input_args\u001B[38;5;132;01m}\u001B[39;00m\u001B[38;5;124m\"\u001B[39m)\n\u001B[1;32m   3118\u001B[0m \u001B[38;5;66;03m# create the resource\u001B[39;00m\n\u001B[0;32m-> 3119\u001B[0m response \u001B[38;5;241m=\u001B[39m \u001B[43mclient\u001B[49m\u001B[38;5;241;43m.\u001B[39;49m\u001B[43mcreate_cluster\u001B[49m\u001B[43m(\u001B[49m\u001B[38;5;241;43m*\u001B[39;49m\u001B[38;5;241;43m*\u001B[39;49m\u001B[43moperation_input_args\u001B[49m\u001B[43m)\u001B[49m\n\u001B[1;32m   3120\u001B[0m logger\u001B[38;5;241m.\u001B[39mdebug(\u001B[38;5;124mf\u001B[39m\u001B[38;5;124m\"\u001B[39m\u001B[38;5;124mResponse: \u001B[39m\u001B[38;5;132;01m{\u001B[39;00mresponse\u001B[38;5;132;01m}\u001B[39;00m\u001B[38;5;124m\"\u001B[39m)\n\u001B[1;32m   3122\u001B[0m \u001B[38;5;28;01mreturn\u001B[39;00m \u001B[38;5;28mcls\u001B[39m\u001B[38;5;241m.\u001B[39mget(cluster_name\u001B[38;5;241m=\u001B[39mcluster_name, session\u001B[38;5;241m=\u001B[39msession, region\u001B[38;5;241m=\u001B[39mregion)\n",
      "File \u001B[0;32m~/workspace/sagemaker-core/venv/lib/python3.9/site-packages/botocore/client.py:565\u001B[0m, in \u001B[0;36mClientCreator._create_api_method.<locals>._api_call\u001B[0;34m(self, *args, **kwargs)\u001B[0m\n\u001B[1;32m    561\u001B[0m     \u001B[38;5;28;01mraise\u001B[39;00m \u001B[38;5;167;01mTypeError\u001B[39;00m(\n\u001B[1;32m    562\u001B[0m         \u001B[38;5;124mf\u001B[39m\u001B[38;5;124m\"\u001B[39m\u001B[38;5;132;01m{\u001B[39;00mpy_operation_name\u001B[38;5;132;01m}\u001B[39;00m\u001B[38;5;124m() only accepts keyword arguments.\u001B[39m\u001B[38;5;124m\"\u001B[39m\n\u001B[1;32m    563\u001B[0m     )\n\u001B[1;32m    564\u001B[0m \u001B[38;5;66;03m# The \"self\" in this scope is referring to the BaseClient.\u001B[39;00m\n\u001B[0;32m--> 565\u001B[0m \u001B[38;5;28;01mreturn\u001B[39;00m \u001B[38;5;28;43mself\u001B[39;49m\u001B[38;5;241;43m.\u001B[39;49m\u001B[43m_make_api_call\u001B[49m\u001B[43m(\u001B[49m\u001B[43moperation_name\u001B[49m\u001B[43m,\u001B[49m\u001B[43m \u001B[49m\u001B[43mkwargs\u001B[49m\u001B[43m)\u001B[49m\n",
      "File \u001B[0;32m~/workspace/sagemaker-core/venv/lib/python3.9/site-packages/botocore/client.py:1017\u001B[0m, in \u001B[0;36mBaseClient._make_api_call\u001B[0;34m(self, operation_name, api_params)\u001B[0m\n\u001B[1;32m   1013\u001B[0m     error_code \u001B[38;5;241m=\u001B[39m error_info\u001B[38;5;241m.\u001B[39mget(\u001B[38;5;124m\"\u001B[39m\u001B[38;5;124mQueryErrorCode\u001B[39m\u001B[38;5;124m\"\u001B[39m) \u001B[38;5;129;01mor\u001B[39;00m error_info\u001B[38;5;241m.\u001B[39mget(\n\u001B[1;32m   1014\u001B[0m         \u001B[38;5;124m\"\u001B[39m\u001B[38;5;124mCode\u001B[39m\u001B[38;5;124m\"\u001B[39m\n\u001B[1;32m   1015\u001B[0m     )\n\u001B[1;32m   1016\u001B[0m     error_class \u001B[38;5;241m=\u001B[39m \u001B[38;5;28mself\u001B[39m\u001B[38;5;241m.\u001B[39mexceptions\u001B[38;5;241m.\u001B[39mfrom_code(error_code)\n\u001B[0;32m-> 1017\u001B[0m     \u001B[38;5;28;01mraise\u001B[39;00m error_class(parsed_response, operation_name)\n\u001B[1;32m   1018\u001B[0m \u001B[38;5;28;01melse\u001B[39;00m:\n\u001B[1;32m   1019\u001B[0m     \u001B[38;5;28;01mreturn\u001B[39;00m parsed_response\n",
      "\u001B[0;31mClientError\u001B[0m: An error occurred (ValidationException) when calling the CreateCluster operation: Unable to retrieve security groups. Please ensure that the execution role allows the action sts:AssumeRole for the service principal sagemaker.amazonaws.com, and has all the permissions required to create a cluster."
     ]
    }
   ],
   "source": [
    "import time\n",
    "from sagemaker_core.generated.resources import Cluster\n",
    "from sagemaker_core.generated.shapes import ClusterInstanceGroupSpecification, ClusterLifeCycleConfig\n",
    "    \n",
    "cluster_name_v3 = 'xgboost-cluster-' + time.strftime(\"%Y-%m-%d-%H-%M-%S\", time.gmtime())\n",
    "\n",
    "# Use vpc_config from Intelligent Defaults JSON config file under the SageMaker.PythonSDK.Resources.GlobalDefaults key\n",
    "cluster = Cluster.create(\n",
    "    cluster_name=cluster_name_v3,\n",
    "    instance_groups=[\n",
    "        ClusterInstanceGroupSpecification(\n",
    "            instance_count=1, \n",
    "            instance_group_name=\"instance-group-11\",\n",
    "            instance_type=\"ml.m5.4xlarge\",\n",
    "            life_cycle_config=ClusterLifeCycleConfig(source_s3_uri=s3_input_path, on_create=\"dothis\"),\n",
    "            execution_role=role\n",
    "        )\n",
    "    ]\n",
    ")"
   ]
  },
  {
   "cell_type": "code",
   "execution_count": null,
   "metadata": {
    "ExecuteTime": {
     "start_time": "2024-08-08T02:08:12.596572Z"
    }
   },
   "outputs": [],
   "source": [
    "cluster.wait_for_status(\"InService\")"
   ]
  },
  {
   "cell_type": "markdown",
   "metadata": {},
   "source": [
    "### Using Resource Defaults\n",
    "In the below example, a `TrainingJob` resource will be created using the `role` and `output_data_config` defined under the `SageMaker.Python.Resources.TrainingJob` key. \n",
    "\n",
    "Note: Because `TrainingJob` also excepts a `vpc_config` parameter, the `vpc_config` parameter will be populated from the `GlobalDefaults`"
   ]
  },
  {
   "cell_type": "code",
   "execution_count": null,
   "metadata": {
    "ExecuteTime": {
     "start_time": "2024-08-08T02:08:12.598419Z"
    }
   },
   "outputs": [],
   "source": [
    "import time\n",
    "from sagemaker_core.generated.resources import TrainingJob\n",
    "from sagemaker_core.generated.shapes import  AlgorithmSpecification, Channel, DataSource, S3DataSource, ResourceConfig, StoppingCondition\n",
    "\n",
    "job_name_v3 = 'xgboost-iris-' + time.strftime(\"%Y-%m-%d-%H-%M-%S\", time.gmtime())\n",
    "\n",
    "# Use role and output_data_config from Intelligent Defaults JSON config file under the SageMaker.PythonSDK.Resources.TrainingJob key\n",
    "# Use vpc_config from Intelligent Defaults JSON config file under the SageMaker.PythonSDK.Resources.GlobalDefaults key\n",
    "\n",
    "training_job = TrainingJob.create(\n",
    "    training_job_name=job_name_v3,\n",
    "    hyper_parameters={\n",
    "        'objective': 'multi:softmax',\n",
    "        'num_class': '3',\n",
    "        'num_round': '10',\n",
    "        'eval_metric': 'merror'\n",
    "    },\n",
    "    algorithm_specification=AlgorithmSpecification(\n",
    "        training_image=image,\n",
    "        training_input_mode='File'\n",
    "    ),\n",
    "    input_data_config=[\n",
    "        Channel(\n",
    "            channel_name='train',\n",
    "            content_type='csv',\n",
    "            compression_type='None',\n",
    "            record_wrapper_type='None',\n",
    "            data_source=DataSource(\n",
    "                s3_data_source=S3DataSource(\n",
    "                    s3_data_type='S3Prefix',\n",
    "                    s3_uri=s3_input_path,\n",
    "                    s3_data_distribution_type='FullyReplicated'\n",
    "                )\n",
    "            )\n",
    "        )\n",
    "    ],\n",
    "    resource_config=ResourceConfig(\n",
    "        instance_type='ml.m4.xlarge',\n",
    "        instance_count=1,\n",
    "        volume_size_in_gb=30\n",
    "    ),\n",
    "    stopping_condition=StoppingCondition(\n",
    "        max_runtime_in_seconds=600\n",
    "    )\n",
    ")"
   ]
  },
  {
   "cell_type": "markdown",
   "metadata": {},
   "source": [
    "## Configure Logging Levels\n",
    "\n",
    "Below are 2 examples of how a SageMakerCore user could configure the logging level of the SDK to assist with debugging.\n",
    "\n",
    "To set the logging level users have 2 options:\n",
    "1. Pass a string parameter to utility method with log level they desire - `configure_logging(\"DEBUG\")`\n",
    "2. Set the `LOG_LEVEL=INFO` environment variable and call `configure_logging()` without a parameter"
   ]
  },
  {
   "cell_type": "markdown",
   "metadata": {},
   "source": [
    "### Configure Logging with Parameter"
   ]
  },
  {
   "cell_type": "code",
   "execution_count": null,
   "metadata": {
    "ExecuteTime": {
     "start_time": "2024-08-08T02:08:12.600168Z"
    }
   },
   "outputs": [],
   "source": [
    "# Setting log_level to DEBUG using configure_logging with string parameter \n",
    "from sagemaker_core.generated.utils import configure_logging\n",
    "\n",
    "configure_logging('DEBUG')"
   ]
  },
  {
   "cell_type": "code",
   "execution_count": null,
   "metadata": {
    "ExecuteTime": {
     "start_time": "2024-08-08T02:08:12.601688Z"
    }
   },
   "outputs": [],
   "source": [
    "# Get TrainingJob with DEBUG log_level\n",
    "from sagemaker_core.generated.resources import TrainingJob\n",
    "\n",
    "training_job = TrainingJob.get(job_name_v3)"
   ]
  },
  {
   "cell_type": "markdown",
   "metadata": {},
   "source": [
    "### Configure Logging with Enviornment Variable"
   ]
  },
  {
   "cell_type": "code",
   "execution_count": null,
   "metadata": {
    "ExecuteTime": {
     "start_time": "2024-08-08T02:08:12.603370Z"
    }
   },
   "outputs": [],
   "source": [
    "# Setting log_level to INFO using env variable\n",
    "!export LOG_LEVEL=INFO\n",
    "\n",
    "configure_logging()"
   ]
  },
  {
   "cell_type": "code",
   "execution_count": null,
   "metadata": {
    "ExecuteTime": {
     "start_time": "2024-08-08T02:08:12.604266Z"
    }
   },
   "outputs": [],
   "source": [
    "# List TrainingJobs with INFO log_level\n",
    "training_job = TrainingJob.get(job_name_v3)"
   ]
  },
  {
   "cell_type": "markdown",
   "metadata": {},
   "source": [
    "## Delete All SageMaker Resources\n",
    "The following code block will call the delete() method for any SageMaker Core Resources created during the execution of this notebook which were assigned to local or global variables. If you created any additional deleteable resources without assigning the returning object to a unique variable, you will need to delete the resource manually by doing something like:\n",
    "\n",
    "```python\n",
    "resource = Resource.get(\"resource-name\")\n",
    "resource.delete()\n",
    "```\n"
   ]
  },
  {
   "cell_type": "code",
   "execution_count": null,
   "metadata": {
    "ExecuteTime": {
     "start_time": "2024-08-08T02:08:12.605208Z"
    }
   },
   "outputs": [],
   "source": [
    "# Delete any sagemaker core resource objects created in this notebook\n",
    "def delete_all_sagemaker_resources():\n",
    "    all_objects = list(locals().values()) + list(globals().values())\n",
    "    deletable_objects = [obj for obj in all_objects if hasattr(obj, 'delete') and obj.__class__.__module__ == 'sagemaker_core.generated.resources']\n",
    "    \n",
    "    for obj in deletable_objects:\n",
    "        obj.delete()\n",
    "        \n",
    "delete_all_sagemaker_resources()"
   ]
  }
 ],
 "metadata": {
  "kernelspec": {
   "display_name": "py3.10.14",
   "language": "python",
   "name": "python3"
  },
  "language_info": {
   "codemirror_mode": {
    "name": "ipython",
    "version": 3
   },
   "file_extension": ".py",
   "mimetype": "text/x-python",
   "name": "python",
   "nbconvert_exporter": "python",
   "pygments_lexer": "ipython3",
   "version": "3.10.14"
  }
 },
 "nbformat": 4,
 "nbformat_minor": 2
}
