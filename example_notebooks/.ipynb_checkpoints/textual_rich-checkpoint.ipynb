{
 "cells": [
  {
   "cell_type": "code",
   "execution_count": 160,
   "metadata": {},
   "outputs": [],
   "source": [
    "from rich.console import Console\n",
    "from rich.progress import *\n",
    "from rich.live import Live\n",
    "from rich.traceback import install\n",
    "from rich.logging import RichHandler\n",
    "from rich.style import Style\n",
    "import logging\n",
    "import time"
   ]
  },
  {
   "cell_type": "code",
   "execution_count": 168,
   "metadata": {},
   "outputs": [],
   "source": [
    "install()\n",
    "logging.basicConfig(\n",
    "    handlers=[RichHandler()]\n",
    ")\n",
    "\n",
    "log = logging.getLogger(\"sagemaker-core\")\n",
    "log.setLevel(\"INFO\")\n",
    "style = Style(bgcolor=None)\n",
    "console = Console(force_terminal=False)"
   ]
  },
  {
   "cell_type": "code",
   "execution_count": 169,
   "metadata": {},
   "outputs": [
    {
     "data": {
      "application/vnd.jupyter.widget-view+json": {
       "model_id": "d68756396a924b26bea11709673334f5",
       "version_major": 2,
       "version_minor": 0
      },
      "text/plain": [
       "Output()"
      ]
     },
     "metadata": {},
     "output_type": "display_data"
    },
    {
     "data": {
      "text/html": [
       "<pre style=\"white-space:pre;overflow-x:auto;line-height:normal;font-family:Menlo,'DejaVu Sans Mono',consolas,'Courier New',monospace\"></pre>\n"
      ],
      "text/plain": []
     },
     "metadata": {},
     "output_type": "display_data"
    },
    {
     "data": {
      "text/html": [
       "<pre style=\"white-space:pre;overflow-x:auto;line-height:normal;font-family:Menlo,'DejaVu Sans Mono',consolas,'Courier New',monospace\">\n",
       "</pre>\n"
      ],
      "text/plain": [
       "\n"
      ]
     },
     "metadata": {},
     "output_type": "display_data"
    },
    {
     "data": {
      "text/html": [
       "<pre style=\"white-space:pre;overflow-x:auto;line-height:normal;font-family:Menlo,'DejaVu Sans Mono',consolas,'Courier New',monospace\">\n",
       "</pre>\n"
      ],
      "text/plain": [
       "\n"
      ]
     },
     "metadata": {},
     "output_type": "display_data"
    },
    {
     "data": {
      "text/html": [
       "<pre style=\"white-space:pre;overflow-x:auto;line-height:normal;font-family:Menlo,'DejaVu Sans Mono',consolas,'Courier New',monospace\"><span style=\"color: #7fbfbf; text-decoration-color: #7fbfbf\">[07/23/24 16:36:09] </span><span style=\"color: #000080; text-decoration-color: #000080\">INFO    </span> INFO:sagemaker-core:<span style=\"color: #008000; text-decoration-color: #008000; font-weight: bold\">TrainingJob has been deleted successfully</span>         <a href=\"file:///var/folders/s2/5prf_w791pq79mw481__jy100000gr/T/ipykernel_58376/2120544286.py\" target=\"_blank\"><span style=\"color: #7f7f7f; text-decoration-color: #7f7f7f\">2120544286.py</span></a><span style=\"color: #7f7f7f; text-decoration-color: #7f7f7f\">:</span><a href=\"file:///var/folders/s2/5prf_w791pq79mw481__jy100000gr/T/ipykernel_58376/2120544286.py#26\" target=\"_blank\"><span style=\"color: #7f7f7f; text-decoration-color: #7f7f7f\">26</span></a>\n",
       "</pre>\n"
      ],
      "text/plain": [
       "\u001b[2;36m[07/23/24 16:36:09]\u001b[0m\u001b[2;36m \u001b[0m\u001b[34mINFO    \u001b[0m INFO:sagemaker-core:\u001b[1;32mTrainingJob has been deleted successfully\u001b[0m         \u001b]8;id=227659;file:///var/folders/s2/5prf_w791pq79mw481__jy100000gr/T/ipykernel_58376/2120544286.py\u001b\\\u001b[2m2120544286.py\u001b[0m\u001b]8;;\u001b\\\u001b[2m:\u001b[0m\u001b]8;id=651527;file:///var/folders/s2/5prf_w791pq79mw481__jy100000gr/T/ipykernel_58376/2120544286.py#26\u001b\\\u001b[2m26\u001b[0m\u001b]8;;\u001b\\\n"
      ]
     },
     "metadata": {},
     "output_type": "display_data"
    }
   ],
   "source": [
    "\n",
    "from sagemaker_core.generated.exceptions import TimeoutExceededError\n",
    "\n",
    "def wait(timeout):\n",
    "    with Progress(\n",
    "        SpinnerColumn(\"bouncingBar\"),\n",
    "        TextColumn(\"{task.description}\"),\n",
    "        TimeElapsedColumn(),\n",
    "        console=console,\n",
    "    ) as progress:\n",
    "        task = progress.add_task(f\"Waiting for TrainingJob to be deleted...\")\n",
    "        start_time = time.time()\n",
    "        status = [\"Completed\", \"Failed\", \"Stopped\"]\n",
    "        i = 0\n",
    "        status_task = progress.add_task(\"Current status:\")\n",
    "        while True:\n",
    "            current_status = status[i%3]\n",
    "            status_description = f\"Current status: [bold]{current_status}\"\n",
    "            progress.update(status_task, description=status_description)\n",
    "            time.sleep(1.0)\n",
    "            if time.time() - start_time >= 5:\n",
    "                progress.stop()\n",
    "                break\n",
    "            if timeout is not None and time.time() - start_time >= timeout:\n",
    "                raise TimeoutExceededError(resource_type=\"TrainingJob\", status=current_status)\n",
    "            i += 1\n",
    "    log.info(\"[bold green]TrainingJob has been deleted successfully\", extra={\"markup\": True})\n",
    "\n",
    "wait(6)"
   ]
  },
  {
   "cell_type": "code",
   "execution_count": 131,
   "metadata": {},
   "outputs": [
    {
     "data": {
      "text/html": [
       "<pre style=\"white-space:pre;overflow-x:auto;line-height:normal;font-family:Menlo,'DejaVu Sans Mono',consolas,'Courier New',monospace\"><span style=\"color: #7fbfbf; text-decoration-color: #7fbfbf\">[14:13:52] </span>Current status: Completed                                                                 <a href=\"file:///var/folders/s2/5prf_w791pq79mw481__jy100000gr/T/ipykernel_58376/409683492.py\" target=\"_blank\"><span style=\"color: #7f7f7f; text-decoration-color: #7f7f7f\">409683492.py</span></a><span style=\"color: #7f7f7f; text-decoration-color: #7f7f7f\">:</span><a href=\"file:///var/folders/s2/5prf_w791pq79mw481__jy100000gr/T/ipykernel_58376/409683492.py#9\" target=\"_blank\"><span style=\"color: #7f7f7f; text-decoration-color: #7f7f7f\">9</span></a>\n",
       "</pre>\n"
      ],
      "text/plain": [
       "\u001b[2;36m[14:13:52]\u001b[0m\u001b[2;36m \u001b[0mCurrent status: Completed                                                                 \u001b]8;id=912019;file:///var/folders/s2/5prf_w791pq79mw481__jy100000gr/T/ipykernel_58376/409683492.py\u001b\\\u001b[2m409683492.py\u001b[0m\u001b]8;;\u001b\\\u001b[2m:\u001b[0m\u001b]8;id=451864;file:///var/folders/s2/5prf_w791pq79mw481__jy100000gr/T/ipykernel_58376/409683492.py#9\u001b\\\u001b[2m9\u001b[0m\u001b]8;;\u001b\\\n"
      ]
     },
     "metadata": {},
     "output_type": "display_data"
    },
    {
     "data": {
      "application/vnd.jupyter.widget-view+json": {
       "model_id": "700780ad88be464e97d481437eac2b78",
       "version_major": 2,
       "version_minor": 0
      },
      "text/plain": [
       "Output()"
      ]
     },
     "metadata": {},
     "output_type": "display_data"
    },
    {
     "data": {
      "text/html": [
       "<pre style=\"white-space:pre;overflow-x:auto;line-height:normal;font-family:Menlo,'DejaVu Sans Mono',consolas,'Courier New',monospace\"><span style=\"color: #7fbfbf; text-decoration-color: #7fbfbf\">[14:13:53] </span>Current status: Failed                                                                    <a href=\"file:///var/folders/s2/5prf_w791pq79mw481__jy100000gr/T/ipykernel_58376/409683492.py\" target=\"_blank\"><span style=\"color: #7f7f7f; text-decoration-color: #7f7f7f\">409683492.py</span></a><span style=\"color: #7f7f7f; text-decoration-color: #7f7f7f\">:</span><a href=\"file:///var/folders/s2/5prf_w791pq79mw481__jy100000gr/T/ipykernel_58376/409683492.py#9\" target=\"_blank\"><span style=\"color: #7f7f7f; text-decoration-color: #7f7f7f\">9</span></a>\n",
       "</pre>\n"
      ],
      "text/plain": [
       "\u001b[2;36m[14:13:53]\u001b[0m\u001b[2;36m \u001b[0mCurrent status: Failed                                                                    \u001b]8;id=721719;file:///var/folders/s2/5prf_w791pq79mw481__jy100000gr/T/ipykernel_58376/409683492.py\u001b\\\u001b[2m409683492.py\u001b[0m\u001b]8;;\u001b\\\u001b[2m:\u001b[0m\u001b]8;id=559081;file:///var/folders/s2/5prf_w791pq79mw481__jy100000gr/T/ipykernel_58376/409683492.py#9\u001b\\\u001b[2m9\u001b[0m\u001b]8;;\u001b\\\n"
      ]
     },
     "metadata": {},
     "output_type": "display_data"
    },
    {
     "data": {
      "text/html": [
       "<pre style=\"white-space:pre;overflow-x:auto;line-height:normal;font-family:Menlo,'DejaVu Sans Mono',consolas,'Courier New',monospace\"><span style=\"color: #7fbfbf; text-decoration-color: #7fbfbf\">[14:13:54] </span>Current status: Stopped                                                                   <a href=\"file:///var/folders/s2/5prf_w791pq79mw481__jy100000gr/T/ipykernel_58376/409683492.py\" target=\"_blank\"><span style=\"color: #7f7f7f; text-decoration-color: #7f7f7f\">409683492.py</span></a><span style=\"color: #7f7f7f; text-decoration-color: #7f7f7f\">:</span><a href=\"file:///var/folders/s2/5prf_w791pq79mw481__jy100000gr/T/ipykernel_58376/409683492.py#9\" target=\"_blank\"><span style=\"color: #7f7f7f; text-decoration-color: #7f7f7f\">9</span></a>\n",
       "</pre>\n"
      ],
      "text/plain": [
       "\u001b[2;36m[14:13:54]\u001b[0m\u001b[2;36m \u001b[0mCurrent status: Stopped                                                                   \u001b]8;id=939141;file:///var/folders/s2/5prf_w791pq79mw481__jy100000gr/T/ipykernel_58376/409683492.py\u001b\\\u001b[2m409683492.py\u001b[0m\u001b]8;;\u001b\\\u001b[2m:\u001b[0m\u001b]8;id=970071;file:///var/folders/s2/5prf_w791pq79mw481__jy100000gr/T/ipykernel_58376/409683492.py#9\u001b\\\u001b[2m9\u001b[0m\u001b]8;;\u001b\\\n"
      ]
     },
     "metadata": {},
     "output_type": "display_data"
    },
    {
     "data": {
      "text/html": [
       "<pre style=\"white-space:pre;overflow-x:auto;line-height:normal;font-family:Menlo,'DejaVu Sans Mono',consolas,'Courier New',monospace\"><span style=\"color: #7fbfbf; text-decoration-color: #7fbfbf\">[14:13:55] </span>Current status: Completed                                                                 <a href=\"file:///var/folders/s2/5prf_w791pq79mw481__jy100000gr/T/ipykernel_58376/409683492.py\" target=\"_blank\"><span style=\"color: #7f7f7f; text-decoration-color: #7f7f7f\">409683492.py</span></a><span style=\"color: #7f7f7f; text-decoration-color: #7f7f7f\">:</span><a href=\"file:///var/folders/s2/5prf_w791pq79mw481__jy100000gr/T/ipykernel_58376/409683492.py#9\" target=\"_blank\"><span style=\"color: #7f7f7f; text-decoration-color: #7f7f7f\">9</span></a>\n",
       "</pre>\n"
      ],
      "text/plain": [
       "\u001b[2;36m[14:13:55]\u001b[0m\u001b[2;36m \u001b[0mCurrent status: Completed                                                                 \u001b]8;id=497077;file:///var/folders/s2/5prf_w791pq79mw481__jy100000gr/T/ipykernel_58376/409683492.py\u001b\\\u001b[2m409683492.py\u001b[0m\u001b]8;;\u001b\\\u001b[2m:\u001b[0m\u001b]8;id=250167;file:///var/folders/s2/5prf_w791pq79mw481__jy100000gr/T/ipykernel_58376/409683492.py#9\u001b\\\u001b[2m9\u001b[0m\u001b]8;;\u001b\\\n"
      ]
     },
     "metadata": {},
     "output_type": "display_data"
    },
    {
     "data": {
      "text/html": [
       "<pre style=\"white-space:pre;overflow-x:auto;line-height:normal;font-family:Menlo,'DejaVu Sans Mono',consolas,'Courier New',monospace\"><span style=\"color: #7fbfbf; text-decoration-color: #7fbfbf\">[14:13:56] </span>Current status: Failed                                                                    <a href=\"file:///var/folders/s2/5prf_w791pq79mw481__jy100000gr/T/ipykernel_58376/409683492.py\" target=\"_blank\"><span style=\"color: #7f7f7f; text-decoration-color: #7f7f7f\">409683492.py</span></a><span style=\"color: #7f7f7f; text-decoration-color: #7f7f7f\">:</span><a href=\"file:///var/folders/s2/5prf_w791pq79mw481__jy100000gr/T/ipykernel_58376/409683492.py#9\" target=\"_blank\"><span style=\"color: #7f7f7f; text-decoration-color: #7f7f7f\">9</span></a>\n",
       "</pre>\n"
      ],
      "text/plain": [
       "\u001b[2;36m[14:13:56]\u001b[0m\u001b[2;36m \u001b[0mCurrent status: Failed                                                                    \u001b]8;id=195382;file:///var/folders/s2/5prf_w791pq79mw481__jy100000gr/T/ipykernel_58376/409683492.py\u001b\\\u001b[2m409683492.py\u001b[0m\u001b]8;;\u001b\\\u001b[2m:\u001b[0m\u001b]8;id=252643;file:///var/folders/s2/5prf_w791pq79mw481__jy100000gr/T/ipykernel_58376/409683492.py#9\u001b\\\u001b[2m9\u001b[0m\u001b]8;;\u001b\\\n"
      ]
     },
     "metadata": {},
     "output_type": "display_data"
    },
    {
     "data": {
      "text/html": [
       "<pre style=\"white-space:pre;overflow-x:auto;line-height:normal;font-family:Menlo,'DejaVu Sans Mono',consolas,'Courier New',monospace\"><span style=\"color: #7fbfbf; text-decoration-color: #7fbfbf\">[14:13:57] </span><span style=\"color: #008000; text-decoration-color: #008000; font-weight: bold\">TrainingJob has been deleted successfully</span>                                                <a href=\"file:///var/folders/s2/5prf_w791pq79mw481__jy100000gr/T/ipykernel_58376/409683492.py\" target=\"_blank\"><span style=\"color: #7f7f7f; text-decoration-color: #7f7f7f\">409683492.py</span></a><span style=\"color: #7f7f7f; text-decoration-color: #7f7f7f\">:</span><a href=\"file:///var/folders/s2/5prf_w791pq79mw481__jy100000gr/T/ipykernel_58376/409683492.py#12\" target=\"_blank\"><span style=\"color: #7f7f7f; text-decoration-color: #7f7f7f\">12</span></a>\n",
       "</pre>\n"
      ],
      "text/plain": [
       "\u001b[2;36m[14:13:57]\u001b[0m\u001b[2;36m \u001b[0m\u001b[1;32mTrainingJob has been deleted successfully\u001b[0m                                                \u001b]8;id=814803;file:///var/folders/s2/5prf_w791pq79mw481__jy100000gr/T/ipykernel_58376/409683492.py\u001b\\\u001b[2m409683492.py\u001b[0m\u001b]8;;\u001b\\\u001b[2m:\u001b[0m\u001b]8;id=479949;file:///var/folders/s2/5prf_w791pq79mw481__jy100000gr/T/ipykernel_58376/409683492.py#12\u001b\\\u001b[2m12\u001b[0m\u001b]8;;\u001b\\\n"
      ]
     },
     "metadata": {},
     "output_type": "display_data"
    },
    {
     "data": {
      "text/html": [
       "<pre style=\"white-space:pre;overflow-x:auto;line-height:normal;font-family:Menlo,'DejaVu Sans Mono',consolas,'Courier New',monospace\"></pre>\n"
      ],
      "text/plain": []
     },
     "metadata": {},
     "output_type": "display_data"
    }
   ],
   "source": [
    "def wait(timeout):\n",
    "    with console.status(\"[bold yellow]Waiting for TrainingJob to be deleted...\", spinner=\"bouncingBar\") as status:\n",
    "        start_time = time.time()\n",
    "        status = [\"Completed\", \"Failed\", \"Stopped\"]\n",
    "        i = 0\n",
    "        while True:\n",
    "            current_status = status[i%3]\n",
    "            status_description = f\"Current status: {current_status}\"\n",
    "            console.log(status_description)\n",
    "            time.sleep(1.0)\n",
    "            if time.time() - start_time >= 5:\n",
    "                console.log(\"[bold green]TrainingJob has been deleted successfully\")\n",
    "                return\n",
    "            if timeout is not None and time.time() - start_time >= timeout:\n",
    "                raise TimeoutExceededError(resource_type=\"TrainingJob\", status=current_status)\n",
    "            i += 1\n",
    "\n",
    "wait(6)"
   ]
  },
  {
   "cell_type": "code",
   "execution_count": null,
   "metadata": {},
   "outputs": [],
   "source": []
  }
 ],
 "metadata": {
  "kernelspec": {
   "display_name": "Python 3",
   "language": "python",
   "name": "python3"
  },
  "language_info": {
   "codemirror_mode": {
    "name": "ipython",
    "version": 3
   },
   "file_extension": ".py",
   "mimetype": "text/x-python",
   "name": "python",
   "nbconvert_exporter": "python",
   "pygments_lexer": "ipython3",
   "version": "3.10.14"
  }
 },
 "nbformat": 4,
 "nbformat_minor": 2
}
