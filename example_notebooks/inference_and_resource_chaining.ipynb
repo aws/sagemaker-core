{
 "cells": [
  {
   "cell_type": "markdown",
   "metadata": {},
   "source": [
    "# SageMakerCore Inference, Async Inference, and Resource Chaining"
   ]
  },
  {
   "cell_type": "markdown",
   "metadata": {},
   "source": [
    "---"
   ]
  },
  {
   "cell_type": "markdown",
   "metadata": {},
   "source": [
    "## Introductions\n",
    "\n",
    "In this notebook, we will walkthrough the process of performing Inference using the SageMakerCore SDK. Additionaly, this notebook will highlight how to create an endpoint using the Resource Chaining feature.\n",
    "\n"
   ]
  },
  {
   "cell_type": "markdown",
   "metadata": {},
   "source": [
    "### Resource Chaining\n",
    "\n",
    "Resource Chaining is a feature provided by SageMakerCore that aims to reduce the cognitive load for a user when performing operations with the SDK. The idea is to allow users to create an object, for example a  `Model` resource object, and pass the object directly as a parameter to some other resource like `EndpointConfig`. An example of this chaining can be seen below:\n",
    "\n",
    "```python\n",
    "key = f'xgboost-iris-{strftime(\"%H-%M-%S\", gmtime())}'\n",
    "\n",
    "model = Model.create(...) # Create model object\n",
    "\n",
    "endpoint_config = ndpointConfig.create(\n",
    "    endpoint_config_name=key,\n",
    "    production_variants=[\n",
    "        ProductionVariant(\n",
    "            variant_name=key,\n",
    "            initial_instance_count=1,\n",
    "            instance_type='ml.m5.xlarge',\n",
    "            model_name=model # Pass model object directly\n",
    "        )\n",
    "    ]\n",
    ")\n",
    "```"
   ]
  },
  {
   "cell_type": "markdown",
   "metadata": {},
   "source": [
    "## Pre-Requisites"
   ]
  },
  {
   "cell_type": "markdown",
   "metadata": {},
   "source": [
    "### Install Latest SageMakerCore\n",
    "All SageMakerCore beta distributions will be released to a private s3 bucket. After being allowlisted, run the cells below to install the latest version of SageMakerCore from `s3://sagemaker-core-beta-artifacts/sagemaker_core-latest.tar.gz`\n",
    "\n",
    "Ensure you are using a kernel with python version >=3.8"
   ]
  },
  {
   "cell_type": "code",
   "execution_count": 1,
   "metadata": {
    "ExecuteTime": {
     "end_time": "2024-08-06T00:55:31.146425Z",
     "start_time": "2024-08-06T00:55:30.134797Z"
    }
   },
   "outputs": [
    {
     "name": "stdout",
     "output_type": "stream",
     "text": [
      "Found existing installation: sagemaker-core 0.1.6\r\n",
      "Uninstalling sagemaker-core-0.1.6:\r\n",
      "  Successfully uninstalled sagemaker-core-0.1.6\r\n"
     ]
    }
   ],
   "source": [
    "# Uninstall previous version of sagemaker_core and restart kernel\n",
    "!pip uninstall sagemaker_core -y"
   ]
  },
  {
   "cell_type": "code",
   "execution_count": 2,
   "metadata": {
    "ExecuteTime": {
     "end_time": "2024-08-06T00:55:31.276056Z",
     "start_time": "2024-08-06T00:55:31.147819Z"
    }
   },
   "outputs": [
    {
     "name": "stdout",
     "output_type": "stream",
     "text": [
      "mkdir: dist: File exists\r\n"
     ]
    }
   ],
   "source": [
    "# Make dist/ directory to hold the sagemaker_core beta distribution file\n",
    "!mkdir dist"
   ]
  },
  {
   "cell_type": "code",
   "execution_count": 3,
   "metadata": {
    "ExecuteTime": {
     "end_time": "2024-08-06T00:55:36.093957Z",
     "start_time": "2024-08-06T00:55:31.277553Z"
    }
   },
   "outputs": [
    {
     "name": "stdout",
     "output_type": "stream",
     "text": [
      "download: s3://sagemaker-core-beta-artifacts/sagemaker_core-latest.tar.gz to dist/sagemaker_core-latest.tar.gz\r\n",
      "Processing ./dist/sagemaker_core-latest.tar.gz\r\n",
      "  Installing build dependencies ... \u001B[?25ldone\r\n",
      "\u001B[?25h  Getting requirements to build wheel ... \u001B[?25ldone\r\n",
      "\u001B[?25h  Preparing metadata (pyproject.toml) ... \u001B[?25ldone\r\n",
      "\u001B[?25hRequirement already satisfied: boto3<2.0.0,>=1.34.0 in /Users/nargokul/.pyenv/versions/3.8.18/lib/python3.8/site-packages (from sagemaker-core==0.1.6) (1.34.154)\r\n",
      "Requirement already satisfied: pydantic<3.0.0,>=2.7.0 in /Users/nargokul/.pyenv/versions/3.8.18/lib/python3.8/site-packages (from sagemaker-core==0.1.6) (2.8.2)\r\n",
      "Requirement already satisfied: PyYAML<7.0,>=6.0 in /Users/nargokul/.pyenv/versions/3.8.18/lib/python3.8/site-packages (from sagemaker-core==0.1.6) (6.0.1)\r\n",
      "Requirement already satisfied: jsonschema<5.0.0 in /Users/nargokul/.pyenv/versions/3.8.18/lib/python3.8/site-packages (from sagemaker-core==0.1.6) (4.22.0)\r\n",
      "Requirement already satisfied: platformdirs<5.0.0,>=4.0.0 in /Users/nargokul/.pyenv/versions/3.8.18/lib/python3.8/site-packages (from sagemaker-core==0.1.6) (4.2.0)\r\n",
      "Requirement already satisfied: botocore<1.35.0,>=1.34.154 in /Users/nargokul/.pyenv/versions/3.8.18/lib/python3.8/site-packages (from boto3<2.0.0,>=1.34.0->sagemaker-core==0.1.6) (1.34.154)\r\n",
      "Requirement already satisfied: jmespath<2.0.0,>=0.7.1 in /Users/nargokul/.pyenv/versions/3.8.18/lib/python3.8/site-packages (from boto3<2.0.0,>=1.34.0->sagemaker-core==0.1.6) (1.0.1)\r\n",
      "Requirement already satisfied: s3transfer<0.11.0,>=0.10.0 in /Users/nargokul/.pyenv/versions/3.8.18/lib/python3.8/site-packages (from boto3<2.0.0,>=1.34.0->sagemaker-core==0.1.6) (0.10.1)\r\n",
      "Requirement already satisfied: attrs>=22.2.0 in /Users/nargokul/.pyenv/versions/3.8.18/lib/python3.8/site-packages (from jsonschema<5.0.0->sagemaker-core==0.1.6) (23.2.0)\r\n",
      "Requirement already satisfied: importlib-resources>=1.4.0 in /Users/nargokul/.pyenv/versions/3.8.18/lib/python3.8/site-packages (from jsonschema<5.0.0->sagemaker-core==0.1.6) (6.4.0)\r\n",
      "Requirement already satisfied: jsonschema-specifications>=2023.03.6 in /Users/nargokul/.pyenv/versions/3.8.18/lib/python3.8/site-packages (from jsonschema<5.0.0->sagemaker-core==0.1.6) (2023.12.1)\r\n",
      "Requirement already satisfied: pkgutil-resolve-name>=1.3.10 in /Users/nargokul/.pyenv/versions/3.8.18/lib/python3.8/site-packages (from jsonschema<5.0.0->sagemaker-core==0.1.6) (1.3.10)\r\n",
      "Requirement already satisfied: referencing>=0.28.4 in /Users/nargokul/.pyenv/versions/3.8.18/lib/python3.8/site-packages (from jsonschema<5.0.0->sagemaker-core==0.1.6) (0.35.1)\r\n",
      "Requirement already satisfied: rpds-py>=0.7.1 in /Users/nargokul/.pyenv/versions/3.8.18/lib/python3.8/site-packages (from jsonschema<5.0.0->sagemaker-core==0.1.6) (0.18.1)\r\n",
      "Requirement already satisfied: annotated-types>=0.4.0 in /Users/nargokul/.pyenv/versions/3.8.18/lib/python3.8/site-packages (from pydantic<3.0.0,>=2.7.0->sagemaker-core==0.1.6) (0.7.0)\r\n",
      "Requirement already satisfied: pydantic-core==2.20.1 in /Users/nargokul/.pyenv/versions/3.8.18/lib/python3.8/site-packages (from pydantic<3.0.0,>=2.7.0->sagemaker-core==0.1.6) (2.20.1)\r\n",
      "Requirement already satisfied: typing-extensions>=4.6.1 in /Users/nargokul/.pyenv/versions/3.8.18/lib/python3.8/site-packages (from pydantic<3.0.0,>=2.7.0->sagemaker-core==0.1.6) (4.11.0)\r\n",
      "Requirement already satisfied: python-dateutil<3.0.0,>=2.1 in /Users/nargokul/.pyenv/versions/3.8.18/lib/python3.8/site-packages (from botocore<1.35.0,>=1.34.154->boto3<2.0.0,>=1.34.0->sagemaker-core==0.1.6) (2.9.0.post0)\r\n",
      "Requirement already satisfied: urllib3<1.27,>=1.25.4 in /Users/nargokul/.pyenv/versions/3.8.18/lib/python3.8/site-packages (from botocore<1.35.0,>=1.34.154->boto3<2.0.0,>=1.34.0->sagemaker-core==0.1.6) (1.26.18)\r\n",
      "Requirement already satisfied: zipp>=3.1.0 in /Users/nargokul/.pyenv/versions/3.8.18/lib/python3.8/site-packages (from importlib-resources>=1.4.0->jsonschema<5.0.0->sagemaker-core==0.1.6) (3.19.2)\r\n",
      "Requirement already satisfied: six>=1.5 in /Users/nargokul/.pyenv/versions/3.8.18/lib/python3.8/site-packages (from python-dateutil<3.0.0,>=2.1->botocore<1.35.0,>=1.34.154->boto3<2.0.0,>=1.34.0->sagemaker-core==0.1.6) (1.16.0)\r\n",
      "Building wheels for collected packages: sagemaker-core\r\n",
      "  Building wheel for sagemaker-core (pyproject.toml) ... \u001B[?25ldone\r\n",
      "\u001B[?25h  Created wheel for sagemaker-core: filename=sagemaker_core-0.1.6-py3-none-any.whl size=357502 sha256=cefdb23e773ed0691b16e365a7b45dbaadd546535146436d8d40efac2f7f6372\r\n",
      "  Stored in directory: /Users/nargokul/Library/Caches/pip/wheels/74/1b/f8/a46fab7eb9574f2958d6a1c9b508a0718941bc8cd1eaafd44f\r\n",
      "Successfully built sagemaker-core\r\n",
      "Installing collected packages: sagemaker-core\r\n",
      "Successfully installed sagemaker-core-0.1.6\r\n",
      "\r\n",
      "\u001B[1m[\u001B[0m\u001B[34;49mnotice\u001B[0m\u001B[1;39;49m]\u001B[0m\u001B[39;49m A new release of pip is available: \u001B[0m\u001B[31;49m24.0\u001B[0m\u001B[39;49m -> \u001B[0m\u001B[32;49m24.2\u001B[0m\r\n",
      "\u001B[1m[\u001B[0m\u001B[34;49mnotice\u001B[0m\u001B[1;39;49m]\u001B[0m\u001B[39;49m To update, run: \u001B[0m\u001B[32;49mpip install --upgrade pip\u001B[0m\r\n"
     ]
    }
   ],
   "source": [
    "# Download and Install the latest version of sagemaker_core\n",
    "!aws s3 cp s3://sagemaker-core-beta-artifacts/sagemaker_core-latest.tar.gz dist/\n",
    "\n",
    "!pip install dist/sagemaker_core-latest.tar.gz"
   ]
  },
  {
   "cell_type": "code",
   "execution_count": 4,
   "metadata": {
    "ExecuteTime": {
     "end_time": "2024-08-06T00:55:36.956861Z",
     "start_time": "2024-08-06T00:55:36.095044Z"
    }
   },
   "outputs": [
    {
     "name": "stdout",
     "output_type": "stream",
     "text": [
      "Name: sagemaker-core\r\n",
      "Version: 0.1.6\r\n",
      "Summary: An python package for sagemaker core functionalities\r\n",
      "Home-page: \r\n",
      "Author: \r\n",
      "Author-email: AWS <sagemaker-interests@amazon.com>\r\n",
      "License: \r\n",
      "Location: /Users/nargokul/.pyenv/versions/3.8.18/lib/python3.8/site-packages\r\n",
      "Requires: boto3, jsonschema, platformdirs, pydantic, PyYAML\r\n",
      "Required-by: \r\n",
      "Metadata-Version: 2.1\r\n",
      "Installer: pip\r\n",
      "Classifiers:\r\n",
      "  Development Status :: 3 - Alpha\r\n",
      "  Intended Audience :: Developers\r\n",
      "  License :: OSI Approved :: Apache Software License\r\n",
      "  Programming Language :: Python :: 3.8\r\n",
      "  Programming Language :: Python :: 3.9\r\n",
      "  Programming Language :: Python :: 3.10\r\n",
      "Entry-points:\r\n",
      "Project-URLs:\r\n",
      "  Repository, https://github.com/aws/sagemaker-core.git\r\n"
     ]
    }
   ],
   "source": [
    "# Check the version of sagemaker_core\n",
    "!pip show -v sagemaker_core"
   ]
  },
  {
   "cell_type": "markdown",
   "metadata": {},
   "source": [
    "### Install Additional Packages"
   ]
  },
  {
   "cell_type": "code",
   "execution_count": 5,
   "metadata": {
    "ExecuteTime": {
     "end_time": "2024-08-06T00:55:38.711503Z",
     "start_time": "2024-08-06T00:55:36.959026Z"
    }
   },
   "outputs": [
    {
     "name": "stdout",
     "output_type": "stream",
     "text": [
      "Requirement already satisfied: sagemaker in /Users/nargokul/.pyenv/versions/3.8.18/lib/python3.8/site-packages (2.227.0)\r\n",
      "Requirement already satisfied: scikit-learn in /Users/nargokul/.pyenv/versions/3.8.18/lib/python3.8/site-packages (1.3.2)\r\n",
      "Requirement already satisfied: pandas in /Users/nargokul/.pyenv/versions/3.8.18/lib/python3.8/site-packages (2.0.3)\r\n",
      "Requirement already satisfied: boto3 in /Users/nargokul/.pyenv/versions/3.8.18/lib/python3.8/site-packages (1.34.154)\r\n",
      "Requirement already satisfied: attrs<24,>=23.1.0 in /Users/nargokul/.pyenv/versions/3.8.18/lib/python3.8/site-packages (from sagemaker) (23.2.0)\r\n",
      "Requirement already satisfied: cloudpickle==2.2.1 in /Users/nargokul/.pyenv/versions/3.8.18/lib/python3.8/site-packages (from sagemaker) (2.2.1)\r\n",
      "Requirement already satisfied: google-pasta in /Users/nargokul/.pyenv/versions/3.8.18/lib/python3.8/site-packages (from sagemaker) (0.2.0)\r\n",
      "Requirement already satisfied: numpy<2.0,>=1.9.0 in /Users/nargokul/.pyenv/versions/3.8.18/lib/python3.8/site-packages (from sagemaker) (1.24.4)\r\n",
      "Requirement already satisfied: protobuf<5.0,>=3.12 in /Users/nargokul/.pyenv/versions/3.8.18/lib/python3.8/site-packages (from sagemaker) (4.25.3)\r\n",
      "Requirement already satisfied: smdebug-rulesconfig==1.0.1 in /Users/nargokul/.pyenv/versions/3.8.18/lib/python3.8/site-packages (from sagemaker) (1.0.1)\r\n",
      "Requirement already satisfied: importlib-metadata<7.0,>=1.4.0 in /Users/nargokul/.pyenv/versions/3.8.18/lib/python3.8/site-packages (from sagemaker) (6.11.0)\r\n",
      "Requirement already satisfied: packaging>=20.0 in /Users/nargokul/.pyenv/versions/3.8.18/lib/python3.8/site-packages (from sagemaker) (24.0)\r\n",
      "Requirement already satisfied: pathos in /Users/nargokul/.pyenv/versions/3.8.18/lib/python3.8/site-packages (from sagemaker) (0.3.2)\r\n",
      "Requirement already satisfied: schema in /Users/nargokul/.pyenv/versions/3.8.18/lib/python3.8/site-packages (from sagemaker) (0.7.7)\r\n",
      "Requirement already satisfied: PyYAML~=6.0 in /Users/nargokul/.pyenv/versions/3.8.18/lib/python3.8/site-packages (from sagemaker) (6.0.1)\r\n",
      "Requirement already satisfied: jsonschema in /Users/nargokul/.pyenv/versions/3.8.18/lib/python3.8/site-packages (from sagemaker) (4.22.0)\r\n",
      "Requirement already satisfied: platformdirs in /Users/nargokul/.pyenv/versions/3.8.18/lib/python3.8/site-packages (from sagemaker) (4.2.0)\r\n",
      "Requirement already satisfied: tblib<4,>=1.7.0 in /Users/nargokul/.pyenv/versions/3.8.18/lib/python3.8/site-packages (from sagemaker) (3.0.0)\r\n",
      "Requirement already satisfied: urllib3<3.0.0,>=1.26.8 in /Users/nargokul/.pyenv/versions/3.8.18/lib/python3.8/site-packages (from sagemaker) (1.26.18)\r\n",
      "Requirement already satisfied: requests in /Users/nargokul/.pyenv/versions/3.8.18/lib/python3.8/site-packages (from sagemaker) (2.32.3)\r\n",
      "Requirement already satisfied: docker in /Users/nargokul/.pyenv/versions/3.8.18/lib/python3.8/site-packages (from sagemaker) (7.1.0)\r\n",
      "Requirement already satisfied: tqdm in /Users/nargokul/.pyenv/versions/3.8.18/lib/python3.8/site-packages (from sagemaker) (4.66.4)\r\n",
      "Requirement already satisfied: psutil in /Users/nargokul/.pyenv/versions/3.8.18/lib/python3.8/site-packages (from sagemaker) (5.9.8)\r\n",
      "Requirement already satisfied: scipy>=1.5.0 in /Users/nargokul/.pyenv/versions/3.8.18/lib/python3.8/site-packages (from scikit-learn) (1.10.1)\r\n",
      "Requirement already satisfied: joblib>=1.1.1 in /Users/nargokul/.pyenv/versions/3.8.18/lib/python3.8/site-packages (from scikit-learn) (1.4.2)\r\n",
      "Requirement already satisfied: threadpoolctl>=2.0.0 in /Users/nargokul/.pyenv/versions/3.8.18/lib/python3.8/site-packages (from scikit-learn) (3.5.0)\r\n",
      "Requirement already satisfied: python-dateutil>=2.8.2 in /Users/nargokul/.pyenv/versions/3.8.18/lib/python3.8/site-packages (from pandas) (2.9.0.post0)\r\n",
      "Requirement already satisfied: pytz>=2020.1 in /Users/nargokul/.pyenv/versions/3.8.18/lib/python3.8/site-packages (from pandas) (2024.1)\r\n",
      "Requirement already satisfied: tzdata>=2022.1 in /Users/nargokul/.pyenv/versions/3.8.18/lib/python3.8/site-packages (from pandas) (2024.1)\r\n",
      "Requirement already satisfied: botocore<1.35.0,>=1.34.154 in /Users/nargokul/.pyenv/versions/3.8.18/lib/python3.8/site-packages (from boto3) (1.34.154)\r\n",
      "Requirement already satisfied: jmespath<2.0.0,>=0.7.1 in /Users/nargokul/.pyenv/versions/3.8.18/lib/python3.8/site-packages (from boto3) (1.0.1)\r\n",
      "Requirement already satisfied: s3transfer<0.11.0,>=0.10.0 in /Users/nargokul/.pyenv/versions/3.8.18/lib/python3.8/site-packages (from boto3) (0.10.1)\r\n",
      "Requirement already satisfied: zipp>=0.5 in /Users/nargokul/.pyenv/versions/3.8.18/lib/python3.8/site-packages (from importlib-metadata<7.0,>=1.4.0->sagemaker) (3.19.2)\r\n",
      "Requirement already satisfied: six>=1.5 in /Users/nargokul/.pyenv/versions/3.8.18/lib/python3.8/site-packages (from python-dateutil>=2.8.2->pandas) (1.16.0)\r\n",
      "Requirement already satisfied: charset-normalizer<4,>=2 in /Users/nargokul/.pyenv/versions/3.8.18/lib/python3.8/site-packages (from requests->sagemaker) (3.3.2)\r\n",
      "Requirement already satisfied: idna<4,>=2.5 in /Users/nargokul/.pyenv/versions/3.8.18/lib/python3.8/site-packages (from requests->sagemaker) (3.7)\r\n",
      "Requirement already satisfied: certifi>=2017.4.17 in /Users/nargokul/.pyenv/versions/3.8.18/lib/python3.8/site-packages (from requests->sagemaker) (2024.6.2)\r\n",
      "Requirement already satisfied: importlib-resources>=1.4.0 in /Users/nargokul/.pyenv/versions/3.8.18/lib/python3.8/site-packages (from jsonschema->sagemaker) (6.4.0)\r\n",
      "Requirement already satisfied: jsonschema-specifications>=2023.03.6 in /Users/nargokul/.pyenv/versions/3.8.18/lib/python3.8/site-packages (from jsonschema->sagemaker) (2023.12.1)\r\n",
      "Requirement already satisfied: pkgutil-resolve-name>=1.3.10 in /Users/nargokul/.pyenv/versions/3.8.18/lib/python3.8/site-packages (from jsonschema->sagemaker) (1.3.10)\r\n",
      "Requirement already satisfied: referencing>=0.28.4 in /Users/nargokul/.pyenv/versions/3.8.18/lib/python3.8/site-packages (from jsonschema->sagemaker) (0.35.1)\r\n",
      "Requirement already satisfied: rpds-py>=0.7.1 in /Users/nargokul/.pyenv/versions/3.8.18/lib/python3.8/site-packages (from jsonschema->sagemaker) (0.18.1)\r\n",
      "Requirement already satisfied: ppft>=1.7.6.8 in /Users/nargokul/.pyenv/versions/3.8.18/lib/python3.8/site-packages (from pathos->sagemaker) (1.7.6.8)\r\n",
      "Requirement already satisfied: dill>=0.3.8 in /Users/nargokul/.pyenv/versions/3.8.18/lib/python3.8/site-packages (from pathos->sagemaker) (0.3.8)\r\n",
      "Requirement already satisfied: pox>=0.3.4 in /Users/nargokul/.pyenv/versions/3.8.18/lib/python3.8/site-packages (from pathos->sagemaker) (0.3.4)\r\n",
      "Requirement already satisfied: multiprocess>=0.70.16 in /Users/nargokul/.pyenv/versions/3.8.18/lib/python3.8/site-packages (from pathos->sagemaker) (0.70.16)\r\n",
      "\r\n",
      "\u001B[1m[\u001B[0m\u001B[34;49mnotice\u001B[0m\u001B[1;39;49m]\u001B[0m\u001B[39;49m A new release of pip is available: \u001B[0m\u001B[31;49m24.0\u001B[0m\u001B[39;49m -> \u001B[0m\u001B[32;49m24.2\u001B[0m\r\n",
      "\u001B[1m[\u001B[0m\u001B[34;49mnotice\u001B[0m\u001B[1;39;49m]\u001B[0m\u001B[39;49m To update, run: \u001B[0m\u001B[32;49mpip install --upgrade pip\u001B[0m\r\n"
     ]
    }
   ],
   "source": [
    "# Install additionall packages\n",
    "\n",
    "!pip install -U sagemaker scikit-learn pandas boto3"
   ]
  },
  {
   "cell_type": "markdown",
   "metadata": {},
   "source": [
    "### Setup\n",
    "\n",
    "Let's start by specifying:\n",
    "- AWS region.\n",
    "- The IAM role arn used to give learning and hosting access to your data. Ensure your enviornment has AWS Credentials configured.\n",
    "- The S3 bucket that you want to use for storing training and model data."
   ]
  },
  {
   "cell_type": "code",
   "execution_count": 6,
   "metadata": {
    "ExecuteTime": {
     "end_time": "2024-08-06T00:55:41.587763Z",
     "start_time": "2024-08-06T00:55:38.713572Z"
    }
   },
   "outputs": [
    {
     "name": "stdout",
     "output_type": "stream",
     "text": [
      "sagemaker.config INFO - Not applying SDK defaults from location: /Library/Application Support/sagemaker/config.yaml\n",
      "sagemaker.config INFO - Not applying SDK defaults from location: /Users/nargokul/Library/Application Support/sagemaker/config.yaml\n"
     ]
    },
    {
     "data": {
      "text/plain": "arn:aws:iam::\u001B[1;36m211125564141\u001B[0m:role/Admin\n",
      "text/html": "<pre style=\"white-space:pre;overflow-x:auto;line-height:normal;font-family:Menlo,'DejaVu Sans Mono',consolas,'Courier New',monospace\">arn:aws:iam::<span style=\"color: #008080; text-decoration-color: #008080; font-weight: bold\">211125564141</span>:role/Admin\n</pre>\n"
     },
     "metadata": {},
     "output_type": "display_data"
    }
   ],
   "source": [
    "from sagemaker import get_execution_role, Session\n",
    "from rich import print\n",
    "\n",
    "# Get region, role, bucket\n",
    "\n",
    "sagemaker_session = Session()\n",
    "region = sagemaker_session.boto_region_name\n",
    "role = get_execution_role()\n",
    "bucket = sagemaker_session.default_bucket()\n",
    "print(role)"
   ]
  },
  {
   "cell_type": "markdown",
   "metadata": {},
   "source": [
    "### Load and Prepare Dataset\n",
    "For this example, we will be using the IRIS data set from `sklearn.datasets` to train our XGBoost container."
   ]
  },
  {
   "cell_type": "code",
   "execution_count": 7,
   "metadata": {
    "ExecuteTime": {
     "end_time": "2024-08-06T00:55:41.975238Z",
     "start_time": "2024-08-06T00:55:41.589571Z"
    }
   },
   "outputs": [],
   "source": [
    "from sklearn.datasets import load_iris\n",
    "from sklearn.model_selection import train_test_split\n",
    "\n",
    "import pandas as pd\n",
    "\n",
    "# Get IRIS Data\n",
    "\n",
    "iris = load_iris()\n",
    "iris_df = pd.DataFrame(iris.data, columns=iris.feature_names)\n",
    "iris_df['target'] = iris.target"
   ]
  },
  {
   "cell_type": "code",
   "execution_count": 8,
   "metadata": {
    "ExecuteTime": {
     "end_time": "2024-08-06T00:55:41.982460Z",
     "start_time": "2024-08-06T00:55:41.976556Z"
    }
   },
   "outputs": [],
   "source": [
    "import os\n",
    "\n",
    "# Prepare Data\n",
    "\n",
    "os.makedirs('./data', exist_ok=True)\n",
    "\n",
    "iris_df = iris_df[['target'] + [col for col in iris_df.columns if col != 'target']]\n",
    "\n",
    "train_data, test_data = train_test_split(iris_df, test_size=0.2, random_state=42)\n",
    "\n",
    "train_data.to_csv('./data/train.csv', index=False, header=False)\n",
    "test_data.to_csv('./data/test.csv', index=False, header=False)\n",
    "\n",
    "# Remove the target column from the testing data. We will use this to call invoke_endpoint later\n",
    "test_data_no_target = test_data.drop('target', axis=1)"
   ]
  },
  {
   "cell_type": "markdown",
   "metadata": {},
   "source": [
    "### Upload Data to S3\n",
    "In this step, we will upload the train and test data to the S3 bucket configured earlier using `sagemaker_session.default_bucket()`"
   ]
  },
  {
   "cell_type": "code",
   "execution_count": 9,
   "metadata": {
    "ExecuteTime": {
     "end_time": "2024-08-06T00:55:42.239921Z",
     "start_time": "2024-08-06T00:55:41.983526Z"
    }
   },
   "outputs": [
    {
     "data": {
      "text/plain": "s3:\u001B[35m/\u001B[0m\u001B[35m/sagemaker-us-west-2-211125564141/DEMO-scikit-iris/data/\u001B[0m\u001B[95mtrain.csv\u001B[0m\n",
      "text/html": "<pre style=\"white-space:pre;overflow-x:auto;line-height:normal;font-family:Menlo,'DejaVu Sans Mono',consolas,'Courier New',monospace\">s3:<span style=\"color: #800080; text-decoration-color: #800080\">//sagemaker-us-west-2-211125564141/DEMO-scikit-iris/data/</span><span style=\"color: #ff00ff; text-decoration-color: #ff00ff\">train.csv</span>\n</pre>\n"
     },
     "metadata": {},
     "output_type": "display_data"
    },
    {
     "data": {
      "text/plain": "s3:\u001B[35m/\u001B[0m\u001B[35m/sagemaker-us-west-2-211125564141/DEMO-scikit-iris/\u001B[0m\u001B[95moutput\u001B[0m\n",
      "text/html": "<pre style=\"white-space:pre;overflow-x:auto;line-height:normal;font-family:Menlo,'DejaVu Sans Mono',consolas,'Courier New',monospace\">s3:<span style=\"color: #800080; text-decoration-color: #800080\">//sagemaker-us-west-2-211125564141/DEMO-scikit-iris/</span><span style=\"color: #ff00ff; text-decoration-color: #ff00ff\">output</span>\n</pre>\n"
     },
     "metadata": {},
     "output_type": "display_data"
    }
   ],
   "source": [
    "# Upload Data\n",
    "\n",
    "prefix = \"DEMO-scikit-iris\"\n",
    "TRAIN_DATA = \"train.csv\"\n",
    "DATA_DIRECTORY = \"data\"\n",
    "\n",
    "train_input = sagemaker_session.upload_data(\n",
    "    DATA_DIRECTORY, bucket=bucket, key_prefix=\"{}/{}\".format(prefix, DATA_DIRECTORY)\n",
    ")\n",
    "\n",
    "s3_input_path = \"s3://{}/{}/data/{}\".format(bucket, prefix, TRAIN_DATA)\n",
    "s3_output_path = \"s3://{}/{}/output\".format(bucket, prefix)\n",
    "\n",
    "print(s3_input_path)\n",
    "print(s3_output_path)"
   ]
  },
  {
   "cell_type": "markdown",
   "metadata": {},
   "source": [
    "### Fetch the XGBoost Image URI\n",
    "In this step, we will fetch the XGBoost Image URI we will use as an input parameter when creating an AWS TrainingJob"
   ]
  },
  {
   "cell_type": "code",
   "execution_count": 10,
   "metadata": {
    "ExecuteTime": {
     "end_time": "2024-08-06T00:55:42.254781Z",
     "start_time": "2024-08-06T00:55:42.240495Z"
    }
   },
   "outputs": [
    {
     "data": {
      "text/plain": "\u001B[1;36m433757028032.\u001B[0mdkr.ecr.us-west-\u001B[1;36m2.\u001B[0mamazonaws.com/xgboost:latest\n",
      "text/html": "<pre style=\"white-space:pre;overflow-x:auto;line-height:normal;font-family:Menlo,'DejaVu Sans Mono',consolas,'Courier New',monospace\"><span style=\"color: #008080; text-decoration-color: #008080; font-weight: bold\">433757028032.</span>dkr.ecr.us-west-<span style=\"color: #008080; text-decoration-color: #008080; font-weight: bold\">2.</span>amazonaws.com/xgboost:latest\n</pre>\n"
     },
     "metadata": {},
     "output_type": "display_data"
    }
   ],
   "source": [
    "from sagemaker import image_uris\n",
    "\n",
    "# Fetch XGBOOST image\n",
    "\n",
    "image = image_uris.retrieve(framework='xgboost', region=region, version=\"latest\")\n",
    "print(image)"
   ]
  },
  {
   "cell_type": "markdown",
   "metadata": {},
   "source": [
    "### Train XGBoost Image using IRIS Data\n",
    "\n",
    "Next, we will the SageMakerCore  `TrainingJob.create()` to start a training job for an XGBoost Image using IRIS data and wait for it to complete."
   ]
  },
  {
   "cell_type": "code",
   "execution_count": 11,
   "metadata": {
    "ExecuteTime": {
     "end_time": "2024-08-06T00:55:44.271427Z",
     "start_time": "2024-08-06T00:55:42.257258Z"
    }
   },
   "outputs": [
    {
     "name": "stderr",
     "output_type": "stream",
     "text": [
      "/Library/Python/3.9/site-packages/pydantic/_internal/_fields.py:200: UserWarning: Field name \"json\" in \"MonitoringDatasetFormat\" shadows an attribute in parent \"Base\"\n",
      "  warnings.warn(\n"
     ]
    },
    {
     "data": {
      "text/plain": "\u001B[2;36m[08/05/24 17:55:43]\u001B[0m\u001B[2;36m \u001B[0m\u001B[34mINFO    \u001B[0m INFO:sagemaker_core.main.resources:Creating training_job resource.  \u001B]8;id=441486;file:///Users/nargokul/workspace/sagemaker-core-demo/sagemaker-core/src/sagemaker_core/main/resources.py\u001B\\\u001B[2mresources.py\u001B[0m\u001B]8;;\u001B\\\u001B[2m:\u001B[0m\u001B]8;id=639526;file:///Users/nargokul/workspace/sagemaker-core-demo/sagemaker-core/src/sagemaker_core/main/resources.py#24136\u001B\\\u001B[2m24136\u001B[0m\u001B]8;;\u001B\\\n",
      "text/html": "<pre style=\"white-space:pre;overflow-x:auto;line-height:normal;font-family:Menlo,'DejaVu Sans Mono',consolas,'Courier New',monospace\"><span style=\"color: #7fbfbf; text-decoration-color: #7fbfbf\">[08/05/24 17:55:43] </span><span style=\"color: #000080; text-decoration-color: #000080\">INFO    </span> INFO:sagemaker_core.main.resources:Creating training_job resource.  <a href=\"file:///Users/nargokul/workspace/sagemaker-core-demo/sagemaker-core/src/sagemaker_core/main/resources.py\" target=\"_blank\"><span style=\"color: #7f7f7f; text-decoration-color: #7f7f7f\">resources.py</span></a><span style=\"color: #7f7f7f; text-decoration-color: #7f7f7f\">:</span><a href=\"file:///Users/nargokul/workspace/sagemaker-core-demo/sagemaker-core/src/sagemaker_core/main/resources.py#24136\" target=\"_blank\"><span style=\"color: #7f7f7f; text-decoration-color: #7f7f7f\">24136</span></a>\n</pre>\n"
     },
     "metadata": {},
     "output_type": "display_data"
    },
    {
     "data": {
      "text/plain": "\u001B[2;36m                   \u001B[0m\u001B[2;36m \u001B[0m\u001B[31mWARNING \u001B[0m WARNING:sagemaker_core.main.utils:No boto3 session provided. Creating a   \u001B]8;id=258097;file:///Users/nargokul/workspace/sagemaker-core-demo/sagemaker-core/src/sagemaker_core/main/utils.py\u001B\\\u001B[2mutils.py\u001B[0m\u001B]8;;\u001B\\\u001B[2m:\u001B[0m\u001B]8;id=397477;file:///Users/nargokul/workspace/sagemaker-core-demo/sagemaker-core/src/sagemaker_core/main/utils.py#262\u001B\\\u001B[2m262\u001B[0m\u001B]8;;\u001B\\\n\u001B[2;36m                    \u001B[0m         new session.                                                              \u001B[2m            \u001B[0m\n",
      "text/html": "<pre style=\"white-space:pre;overflow-x:auto;line-height:normal;font-family:Menlo,'DejaVu Sans Mono',consolas,'Courier New',monospace\"><span style=\"color: #7fbfbf; text-decoration-color: #7fbfbf\">                    </span><span style=\"color: #800000; text-decoration-color: #800000\">WARNING </span> WARNING:sagemaker_core.main.utils:No boto3 session provided. Creating a   <a href=\"file:///Users/nargokul/workspace/sagemaker-core-demo/sagemaker-core/src/sagemaker_core/main/utils.py\" target=\"_blank\"><span style=\"color: #7f7f7f; text-decoration-color: #7f7f7f\">utils.py</span></a><span style=\"color: #7f7f7f; text-decoration-color: #7f7f7f\">:</span><a href=\"file:///Users/nargokul/workspace/sagemaker-core-demo/sagemaker-core/src/sagemaker_core/main/utils.py#262\" target=\"_blank\"><span style=\"color: #7f7f7f; text-decoration-color: #7f7f7f\">262</span></a>\n<span style=\"color: #7fbfbf; text-decoration-color: #7fbfbf\">                    </span>         new session.                                                              <span style=\"color: #7f7f7f; text-decoration-color: #7f7f7f\">            </span>\n</pre>\n"
     },
     "metadata": {},
     "output_type": "display_data"
    },
    {
     "data": {
      "text/plain": "\u001B[2;36m                   \u001B[0m\u001B[2;36m \u001B[0m\u001B[31mWARNING \u001B[0m WARNING:sagemaker_core.main.utils:No region provided. Using default       \u001B]8;id=157962;file:///Users/nargokul/workspace/sagemaker-core-demo/sagemaker-core/src/sagemaker_core/main/utils.py\u001B\\\u001B[2mutils.py\u001B[0m\u001B]8;;\u001B\\\u001B[2m:\u001B[0m\u001B]8;id=311831;file:///Users/nargokul/workspace/sagemaker-core-demo/sagemaker-core/src/sagemaker_core/main/utils.py#266\u001B\\\u001B[2m266\u001B[0m\u001B]8;;\u001B\\\n\u001B[2;36m                    \u001B[0m         region.                                                                   \u001B[2m            \u001B[0m\n",
      "text/html": "<pre style=\"white-space:pre;overflow-x:auto;line-height:normal;font-family:Menlo,'DejaVu Sans Mono',consolas,'Courier New',monospace\"><span style=\"color: #7fbfbf; text-decoration-color: #7fbfbf\">                    </span><span style=\"color: #800000; text-decoration-color: #800000\">WARNING </span> WARNING:sagemaker_core.main.utils:No region provided. Using default       <a href=\"file:///Users/nargokul/workspace/sagemaker-core-demo/sagemaker-core/src/sagemaker_core/main/utils.py\" target=\"_blank\"><span style=\"color: #7f7f7f; text-decoration-color: #7f7f7f\">utils.py</span></a><span style=\"color: #7f7f7f; text-decoration-color: #7f7f7f\">:</span><a href=\"file:///Users/nargokul/workspace/sagemaker-core-demo/sagemaker-core/src/sagemaker_core/main/utils.py#266\" target=\"_blank\"><span style=\"color: #7f7f7f; text-decoration-color: #7f7f7f\">266</span></a>\n<span style=\"color: #7fbfbf; text-decoration-color: #7fbfbf\">                    </span>         region.                                                                   <span style=\"color: #7f7f7f; text-decoration-color: #7f7f7f\">            </span>\n</pre>\n"
     },
     "metadata": {},
     "output_type": "display_data"
    },
    {
     "data": {
      "text/plain": "\u001B[2;36m                   \u001B[0m\u001B[2;36m \u001B[0m\u001B[31mWARNING \u001B[0m WARNING:sagemaker_core.main.utils:No config provided. Using default       \u001B]8;id=406540;file:///Users/nargokul/workspace/sagemaker-core-demo/sagemaker-core/src/sagemaker_core/main/utils.py\u001B\\\u001B[2mutils.py\u001B[0m\u001B]8;;\u001B\\\u001B[2m:\u001B[0m\u001B]8;id=999572;file:///Users/nargokul/workspace/sagemaker-core-demo/sagemaker-core/src/sagemaker_core/main/utils.py#270\u001B\\\u001B[2m270\u001B[0m\u001B]8;;\u001B\\\n\u001B[2;36m                    \u001B[0m         config.                                                                   \u001B[2m            \u001B[0m\n",
      "text/html": "<pre style=\"white-space:pre;overflow-x:auto;line-height:normal;font-family:Menlo,'DejaVu Sans Mono',consolas,'Courier New',monospace\"><span style=\"color: #7fbfbf; text-decoration-color: #7fbfbf\">                    </span><span style=\"color: #800000; text-decoration-color: #800000\">WARNING </span> WARNING:sagemaker_core.main.utils:No config provided. Using default       <a href=\"file:///Users/nargokul/workspace/sagemaker-core-demo/sagemaker-core/src/sagemaker_core/main/utils.py\" target=\"_blank\"><span style=\"color: #7f7f7f; text-decoration-color: #7f7f7f\">utils.py</span></a><span style=\"color: #7f7f7f; text-decoration-color: #7f7f7f\">:</span><a href=\"file:///Users/nargokul/workspace/sagemaker-core-demo/sagemaker-core/src/sagemaker_core/main/utils.py#270\" target=\"_blank\"><span style=\"color: #7f7f7f; text-decoration-color: #7f7f7f\">270</span></a>\n<span style=\"color: #7fbfbf; text-decoration-color: #7fbfbf\">                    </span>         config.                                                                   <span style=\"color: #7f7f7f; text-decoration-color: #7f7f7f\">            </span>\n</pre>\n"
     },
     "metadata": {},
     "output_type": "display_data"
    },
    {
     "data": {
      "text/plain": "\u001B[2;36m                   \u001B[0m\u001B[2;36m \u001B[0m\u001B[34mINFO    \u001B[0m INFO:botocore.credentials:Found credentials in shared credentials  \u001B]8;id=722347;file:///Library/Python/3.9/site-packages/botocore/credentials.py\u001B\\\u001B[2mcredentials.py\u001B[0m\u001B]8;;\u001B\\\u001B[2m:\u001B[0m\u001B]8;id=397521;file:///Library/Python/3.9/site-packages/botocore/credentials.py#1278\u001B\\\u001B[2m1278\u001B[0m\u001B]8;;\u001B\\\n\u001B[2;36m                    \u001B[0m         file: ~\u001B[35m/.aws/\u001B[0m\u001B[95mcredentials\u001B[0m                                           \u001B[2m                   \u001B[0m\n",
      "text/html": "<pre style=\"white-space:pre;overflow-x:auto;line-height:normal;font-family:Menlo,'DejaVu Sans Mono',consolas,'Courier New',monospace\"><span style=\"color: #7fbfbf; text-decoration-color: #7fbfbf\">                    </span><span style=\"color: #000080; text-decoration-color: #000080\">INFO    </span> INFO:botocore.credentials:Found credentials in shared credentials  <a href=\"file:///Library/Python/3.9/site-packages/botocore/credentials.py\" target=\"_blank\"><span style=\"color: #7f7f7f; text-decoration-color: #7f7f7f\">credentials.py</span></a><span style=\"color: #7f7f7f; text-decoration-color: #7f7f7f\">:</span><a href=\"file:///Library/Python/3.9/site-packages/botocore/credentials.py#1278\" target=\"_blank\"><span style=\"color: #7f7f7f; text-decoration-color: #7f7f7f\">1278</span></a>\n<span style=\"color: #7fbfbf; text-decoration-color: #7fbfbf\">                    </span>         file: ~<span style=\"color: #800080; text-decoration-color: #800080\">/.aws/</span><span style=\"color: #ff00ff; text-decoration-color: #ff00ff\">credentials</span>                                           <span style=\"color: #7f7f7f; text-decoration-color: #7f7f7f\">                   </span>\n</pre>\n"
     },
     "metadata": {},
     "output_type": "display_data"
    }
   ],
   "source": [
    "# Create TrainingJob with SageMakerCore\n",
    "\n",
    "import time\n",
    "from sagemaker_core.main.resources import TrainingJob, AlgorithmSpecification, Channel, DataSource, S3DataSource, \\\n",
    "    OutputDataConfig, ResourceConfig, StoppingCondition\n",
    "\n",
    "job_name_v3 = 'xgboost-iris-' + time.strftime(\"%Y-%m-%d-%H-%M-%S\", time.gmtime())\n",
    "\n",
    "training_job = TrainingJob.create(\n",
    "    training_job_name=job_name_v3,\n",
    "    hyper_parameters={\n",
    "        'objective': 'multi:softmax',\n",
    "        'num_class': '3',\n",
    "        'num_round': '10',\n",
    "        'eval_metric': 'merror'\n",
    "    },\n",
    "    algorithm_specification=AlgorithmSpecification(\n",
    "        training_image=image,\n",
    "        training_input_mode='File'\n",
    "    ),\n",
    "    role_arn=role,\n",
    "    input_data_config=[\n",
    "        Channel(\n",
    "            channel_name='train',\n",
    "            content_type='csv',\n",
    "            compression_type='None',\n",
    "            record_wrapper_type='None',\n",
    "            data_source=DataSource(\n",
    "                s3_data_source=S3DataSource(\n",
    "                    s3_data_type='S3Prefix',\n",
    "                    s3_uri=s3_input_path,\n",
    "                    s3_data_distribution_type='FullyReplicated'\n",
    "                )\n",
    "            )\n",
    "        )\n",
    "    ],\n",
    "    output_data_config=OutputDataConfig(\n",
    "        s3_output_path=s3_output_path\n",
    "    ),\n",
    "    resource_config=ResourceConfig(\n",
    "        instance_type='ml.m4.xlarge',\n",
    "        instance_count=1,\n",
    "        volume_size_in_gb=30\n",
    "    ),\n",
    "    stopping_condition=StoppingCondition(\n",
    "        max_runtime_in_seconds=600\n",
    "    )\n",
    ")"
   ]
  },
  {
   "cell_type": "code",
   "execution_count": 12,
   "metadata": {
    "ExecuteTime": {
     "end_time": "2024-08-06T00:58:16.782944Z",
     "start_time": "2024-08-06T00:55:44.272824Z"
    }
   },
   "outputs": [
    {
     "name": "stdout",
     "output_type": "stream",
     "text": [
      "------------------------------\n",
      "Final Resource Status: Completed\n"
     ]
    }
   ],
   "source": [
    "training_job.wait()"
   ]
  },
  {
   "cell_type": "markdown",
   "metadata": {},
   "source": [
    "## Create Endpoint Using Resource Chaining\n",
    "\n",
    "In the following cells, we will walkthrough the process of creating an Endpoint using the Resource Chaining feature of SageMakerCore. Resource Chaining aims to reduce the cognitive load for a user by autoresolving necessary attributes when chaing resource objects together during operations.\n",
    "\n",
    "1. First, we will create a `Model` using the model data from the training job in the previous step.\n",
    "2. We will create an `EndpointConfig` and pass the `Model` object directly as a parameter. SageMakerCore will autoresolve the neccessary attributes from the `Model` object.\n",
    "3. We will create an `Endpoint` using the `EndpointConfig` object as a parameter. SageMakerCore will autoresolve the neccessary attributes from the `EndpointConfig` object.\n",
    "\n"
   ]
  },
  {
   "cell_type": "markdown",
   "metadata": {},
   "source": [
    "### Create and Wait for Endpoint"
   ]
  },
  {
   "cell_type": "markdown",
   "metadata": {},
   "source": [
    "Create a `Model` by specifying the `image` and `model_data_url`. For the `model_data_url` we will use the S3 path of the model output from the TrainingJob we performed previously.\n",
    "\n",
    "Notice that we are able to set the `model_data_url` directly by referencing the `s3_model_artifacts` from the nested `ModelArtifacts` object attribute. This is possible due to SageMakerCore's object-oriented programming experience. \n",
    "\n",
    "\n",
    "Class Definitions example:\n",
    "\n",
    "```python\n",
    "class TrainingJob(Base):\n",
    "    ...\n",
    "    model_artifacts: Optional[ModelArtifacts] = Unassigned()\n",
    "\n",
    "class ModelArtifacts(Base):\n",
    "    s3_model_artifacts: str\n",
    "```\n",
    "\n",
    "\n",
    "A user can then reference attributes for nested objects like:\n",
    "\n",
    "```python\n",
    "model_data_url = training_job.model_artifacts.s3_model_artifacts\n",
    "```\n"
   ]
  },
  {
   "cell_type": "code",
   "execution_count": 13,
   "metadata": {
    "ExecuteTime": {
     "end_time": "2024-08-06T00:58:17.390045Z",
     "start_time": "2024-08-06T00:58:16.780161Z"
    }
   },
   "outputs": [
    {
     "data": {
      "text/plain": "Key: xgboost-iris-\u001B[1;36m00\u001B[0m-\u001B[1;36m58\u001B[0m-\u001B[1;36m16\u001B[0m\n",
      "text/html": "<pre style=\"white-space:pre;overflow-x:auto;line-height:normal;font-family:Menlo,'DejaVu Sans Mono',consolas,'Courier New',monospace\">Key: xgboost-iris-<span style=\"color: #008080; text-decoration-color: #008080; font-weight: bold\">00</span>-<span style=\"color: #008080; text-decoration-color: #008080; font-weight: bold\">58</span>-<span style=\"color: #008080; text-decoration-color: #008080; font-weight: bold\">16</span>\n</pre>\n"
     },
     "metadata": {},
     "output_type": "display_data"
    },
    {
     "data": {
      "text/plain": "\u001B[2;36m[08/05/24 17:58:16]\u001B[0m\u001B[2;36m \u001B[0m\u001B[34mINFO    \u001B[0m INFO:sagemaker_core.main.resources:Creating model resource.         \u001B]8;id=505049;file:///Users/nargokul/workspace/sagemaker-core-demo/sagemaker-core/src/sagemaker_core/main/resources.py\u001B\\\u001B[2mresources.py\u001B[0m\u001B]8;;\u001B\\\u001B[2m:\u001B[0m\u001B]8;id=294425;file:///Users/nargokul/workspace/sagemaker-core-demo/sagemaker-core/src/sagemaker_core/main/resources.py#15137\u001B\\\u001B[2m15137\u001B[0m\u001B]8;;\u001B\\\n",
      "text/html": "<pre style=\"white-space:pre;overflow-x:auto;line-height:normal;font-family:Menlo,'DejaVu Sans Mono',consolas,'Courier New',monospace\"><span style=\"color: #7fbfbf; text-decoration-color: #7fbfbf\">[08/05/24 17:58:16] </span><span style=\"color: #000080; text-decoration-color: #000080\">INFO    </span> INFO:sagemaker_core.main.resources:Creating model resource.         <a href=\"file:///Users/nargokul/workspace/sagemaker-core-demo/sagemaker-core/src/sagemaker_core/main/resources.py\" target=\"_blank\"><span style=\"color: #7f7f7f; text-decoration-color: #7f7f7f\">resources.py</span></a><span style=\"color: #7f7f7f; text-decoration-color: #7f7f7f\">:</span><a href=\"file:///Users/nargokul/workspace/sagemaker-core-demo/sagemaker-core/src/sagemaker_core/main/resources.py#15137\" target=\"_blank\"><span style=\"color: #7f7f7f; text-decoration-color: #7f7f7f\">15137</span></a>\n</pre>\n"
     },
     "metadata": {},
     "output_type": "display_data"
    }
   ],
   "source": [
    "from sagemaker_core.main.shapes import ContainerDefinition, ProductionVariant\n",
    "from sagemaker_core.main.resources import Model, EndpointConfig, Endpoint\n",
    "from time import gmtime, strftime\n",
    "\n",
    "# Get model_data_url from training_job object\n",
    "model_data_url = training_job.model_artifacts.s3_model_artifacts\n",
    "\n",
    "key = f'xgboost-iris-{strftime(\"%H-%M-%S\", gmtime())}'\n",
    "print(\"Key:\", key)\n",
    "\n",
    "model = Model.create(\n",
    "    model_name=key,\n",
    "    primary_container=ContainerDefinition(\n",
    "        image=image,\n",
    "        model_data_url=model_data_url,\n",
    "    ),\n",
    "    execution_role_arn=role,\n",
    ")"
   ]
  },
  {
   "cell_type": "markdown",
   "metadata": {},
   "source": [
    "Create the `Endpoint` and wait for it to be `InService`"
   ]
  },
  {
   "cell_type": "code",
   "execution_count": 14,
   "metadata": {
    "ExecuteTime": {
     "end_time": "2024-08-06T00:58:18.314176Z",
     "start_time": "2024-08-06T00:58:17.394892Z"
    }
   },
   "outputs": [
    {
     "data": {
      "text/plain": "\u001B[2;36m[08/05/24 17:58:17]\u001B[0m\u001B[2;36m \u001B[0m\u001B[34mINFO    \u001B[0m INFO:sagemaker_core.main.resources:Creating endpoint_config          \u001B]8;id=504027;file:///Users/nargokul/workspace/sagemaker-core-demo/sagemaker-core/src/sagemaker_core/main/resources.py\u001B\\\u001B[2mresources.py\u001B[0m\u001B]8;;\u001B\\\u001B[2m:\u001B[0m\u001B]8;id=309472;file:///Users/nargokul/workspace/sagemaker-core-demo/sagemaker-core/src/sagemaker_core/main/resources.py#8031\u001B\\\u001B[2m8031\u001B[0m\u001B]8;;\u001B\\\n\u001B[2;36m                    \u001B[0m         resource.                                                            \u001B[2m                 \u001B[0m\n",
      "text/html": "<pre style=\"white-space:pre;overflow-x:auto;line-height:normal;font-family:Menlo,'DejaVu Sans Mono',consolas,'Courier New',monospace\"><span style=\"color: #7fbfbf; text-decoration-color: #7fbfbf\">[08/05/24 17:58:17] </span><span style=\"color: #000080; text-decoration-color: #000080\">INFO    </span> INFO:sagemaker_core.main.resources:Creating endpoint_config          <a href=\"file:///Users/nargokul/workspace/sagemaker-core-demo/sagemaker-core/src/sagemaker_core/main/resources.py\" target=\"_blank\"><span style=\"color: #7f7f7f; text-decoration-color: #7f7f7f\">resources.py</span></a><span style=\"color: #7f7f7f; text-decoration-color: #7f7f7f\">:</span><a href=\"file:///Users/nargokul/workspace/sagemaker-core-demo/sagemaker-core/src/sagemaker_core/main/resources.py#8031\" target=\"_blank\"><span style=\"color: #7f7f7f; text-decoration-color: #7f7f7f\">8031</span></a>\n<span style=\"color: #7fbfbf; text-decoration-color: #7fbfbf\">                    </span>         resource.                                                            <span style=\"color: #7f7f7f; text-decoration-color: #7f7f7f\">                 </span>\n</pre>\n"
     },
     "metadata": {},
     "output_type": "display_data"
    },
    {
     "data": {
      "text/plain": "\u001B[2;36m                   \u001B[0m\u001B[2;36m \u001B[0m\u001B[34mINFO    \u001B[0m INFO:sagemaker_core.main.resources:Creating endpoint resource.       \u001B]8;id=695342;file:///Users/nargokul/workspace/sagemaker-core-demo/sagemaker-core/src/sagemaker_core/main/resources.py\u001B\\\u001B[2mresources.py\u001B[0m\u001B]8;;\u001B\\\u001B[2m:\u001B[0m\u001B]8;id=625640;file:///Users/nargokul/workspace/sagemaker-core-demo/sagemaker-core/src/sagemaker_core/main/resources.py#7288\u001B\\\u001B[2m7288\u001B[0m\u001B]8;;\u001B\\\n",
      "text/html": "<pre style=\"white-space:pre;overflow-x:auto;line-height:normal;font-family:Menlo,'DejaVu Sans Mono',consolas,'Courier New',monospace\"><span style=\"color: #7fbfbf; text-decoration-color: #7fbfbf\">                    </span><span style=\"color: #000080; text-decoration-color: #000080\">INFO    </span> INFO:sagemaker_core.main.resources:Creating endpoint resource.       <a href=\"file:///Users/nargokul/workspace/sagemaker-core-demo/sagemaker-core/src/sagemaker_core/main/resources.py\" target=\"_blank\"><span style=\"color: #7f7f7f; text-decoration-color: #7f7f7f\">resources.py</span></a><span style=\"color: #7f7f7f; text-decoration-color: #7f7f7f\">:</span><a href=\"file:///Users/nargokul/workspace/sagemaker-core-demo/sagemaker-core/src/sagemaker_core/main/resources.py#7288\" target=\"_blank\"><span style=\"color: #7f7f7f; text-decoration-color: #7f7f7f\">7288</span></a>\n</pre>\n"
     },
     "metadata": {},
     "output_type": "display_data"
    }
   ],
   "source": [
    "endpoint_config = EndpointConfig.create(\n",
    "    endpoint_config_name=key,\n",
    "    production_variants=[\n",
    "        ProductionVariant(\n",
    "            variant_name=key,\n",
    "            initial_instance_count=1,\n",
    "            instance_type='ml.m5.xlarge',\n",
    "            model_name=model # Pass `Model`` object created above\n",
    "        )\n",
    "    ]\n",
    ")\n",
    "\n",
    "endpoint: Endpoint = Endpoint.create(\n",
    "    endpoint_name=key,\n",
    "    endpoint_config_name=endpoint_config # Pass `EndpointConfig` object created above\n",
    ")"
   ]
  },
  {
   "cell_type": "code",
   "execution_count": 15,
   "metadata": {
    "ExecuteTime": {
     "end_time": "2024-08-06T01:01:42.546588Z",
     "start_time": "2024-08-06T00:58:18.325266Z"
    }
   },
   "outputs": [
    {
     "name": "stdout",
     "output_type": "stream",
     "text": [
      "----------------------------------------\n",
      "Final Resource Status: InService\n"
     ]
    }
   ],
   "source": [
    "endpoint.wait_for_status(\"InService\")"
   ]
  },
  {
   "cell_type": "markdown",
   "metadata": {},
   "source": [
    "### Endpoint Invoke\n",
    "\n",
    "The below cells demonstrates how an endpoint would be invoked synchronously in SageMakerCore using `endpoint.invoke()` or `endpoint.inoke_with_response_stream()`. \n",
    "\n",
    "In these examples, we are using CSV data to train the model and to invoking the endpoint. We will rely on the `CSVSerializer` and `CSVDeserializer` from the the sagemaker-python-sdk to assist with serilizing and deserializing the invoke input and output."
   ]
  },
  {
   "cell_type": "code",
   "execution_count": 16,
   "metadata": {
    "ExecuteTime": {
     "end_time": "2024-08-06T01:01:42.981727Z",
     "start_time": "2024-08-06T01:01:42.546477Z"
    }
   },
   "outputs": [
    {
     "data": {
      "text/plain": "\u001B[2;36m[08/05/24 18:01:42]\u001B[0m\u001B[2;36m \u001B[0m\u001B[34mINFO    \u001B[0m INFO:sagemaker_core.main.resources:Invoking endpoint resource.       \u001B]8;id=590738;file:///Users/nargokul/workspace/sagemaker-core-demo/sagemaker-core/src/sagemaker_core/main/resources.py\u001B\\\u001B[2mresources.py\u001B[0m\u001B]8;;\u001B\\\u001B[2m:\u001B[0m\u001B]8;id=587826;file:///Users/nargokul/workspace/sagemaker-core-demo/sagemaker-core/src/sagemaker_core/main/resources.py#7618\u001B\\\u001B[2m7618\u001B[0m\u001B]8;;\u001B\\\n",
      "text/html": "<pre style=\"white-space:pre;overflow-x:auto;line-height:normal;font-family:Menlo,'DejaVu Sans Mono',consolas,'Courier New',monospace\"><span style=\"color: #7fbfbf; text-decoration-color: #7fbfbf\">[08/05/24 18:01:42] </span><span style=\"color: #000080; text-decoration-color: #000080\">INFO    </span> INFO:sagemaker_core.main.resources:Invoking endpoint resource.       <a href=\"file:///Users/nargokul/workspace/sagemaker-core-demo/sagemaker-core/src/sagemaker_core/main/resources.py\" target=\"_blank\"><span style=\"color: #7f7f7f; text-decoration-color: #7f7f7f\">resources.py</span></a><span style=\"color: #7f7f7f; text-decoration-color: #7f7f7f\">:</span><a href=\"file:///Users/nargokul/workspace/sagemaker-core-demo/sagemaker-core/src/sagemaker_core/main/resources.py#7618\" target=\"_blank\"><span style=\"color: #7f7f7f; text-decoration-color: #7f7f7f\">7618</span></a>\n</pre>\n"
     },
     "metadata": {},
     "output_type": "display_data"
    },
    {
     "data": {
      "text/plain": "\u001B[2;36m                   \u001B[0m\u001B[2;36m \u001B[0m\u001B[31mWARNING \u001B[0m WARNING:sagemaker_core.main.utils:No boto3 session provided. Creating a   \u001B]8;id=939619;file:///Users/nargokul/workspace/sagemaker-core-demo/sagemaker-core/src/sagemaker_core/main/utils.py\u001B\\\u001B[2mutils.py\u001B[0m\u001B]8;;\u001B\\\u001B[2m:\u001B[0m\u001B]8;id=541719;file:///Users/nargokul/workspace/sagemaker-core-demo/sagemaker-core/src/sagemaker_core/main/utils.py#297\u001B\\\u001B[2m297\u001B[0m\u001B]8;;\u001B\\\n\u001B[2;36m                    \u001B[0m         new session.                                                              \u001B[2m            \u001B[0m\n",
      "text/html": "<pre style=\"white-space:pre;overflow-x:auto;line-height:normal;font-family:Menlo,'DejaVu Sans Mono',consolas,'Courier New',monospace\"><span style=\"color: #7fbfbf; text-decoration-color: #7fbfbf\">                    </span><span style=\"color: #800000; text-decoration-color: #800000\">WARNING </span> WARNING:sagemaker_core.main.utils:No boto3 session provided. Creating a   <a href=\"file:///Users/nargokul/workspace/sagemaker-core-demo/sagemaker-core/src/sagemaker_core/main/utils.py\" target=\"_blank\"><span style=\"color: #7f7f7f; text-decoration-color: #7f7f7f\">utils.py</span></a><span style=\"color: #7f7f7f; text-decoration-color: #7f7f7f\">:</span><a href=\"file:///Users/nargokul/workspace/sagemaker-core-demo/sagemaker-core/src/sagemaker_core/main/utils.py#297\" target=\"_blank\"><span style=\"color: #7f7f7f; text-decoration-color: #7f7f7f\">297</span></a>\n<span style=\"color: #7fbfbf; text-decoration-color: #7fbfbf\">                    </span>         new session.                                                              <span style=\"color: #7f7f7f; text-decoration-color: #7f7f7f\">            </span>\n</pre>\n"
     },
     "metadata": {},
     "output_type": "display_data"
    },
    {
     "data": {
      "text/plain": "\u001B[2;36m                   \u001B[0m\u001B[2;36m \u001B[0m\u001B[31mWARNING \u001B[0m WARNING:sagemaker_core.main.utils:No region provided. Using default       \u001B]8;id=194460;file:///Users/nargokul/workspace/sagemaker-core-demo/sagemaker-core/src/sagemaker_core/main/utils.py\u001B\\\u001B[2mutils.py\u001B[0m\u001B]8;;\u001B\\\u001B[2m:\u001B[0m\u001B]8;id=372452;file:///Users/nargokul/workspace/sagemaker-core-demo/sagemaker-core/src/sagemaker_core/main/utils.py#301\u001B\\\u001B[2m301\u001B[0m\u001B]8;;\u001B\\\n\u001B[2;36m                    \u001B[0m         region.                                                                   \u001B[2m            \u001B[0m\n",
      "text/html": "<pre style=\"white-space:pre;overflow-x:auto;line-height:normal;font-family:Menlo,'DejaVu Sans Mono',consolas,'Courier New',monospace\"><span style=\"color: #7fbfbf; text-decoration-color: #7fbfbf\">                    </span><span style=\"color: #800000; text-decoration-color: #800000\">WARNING </span> WARNING:sagemaker_core.main.utils:No region provided. Using default       <a href=\"file:///Users/nargokul/workspace/sagemaker-core-demo/sagemaker-core/src/sagemaker_core/main/utils.py\" target=\"_blank\"><span style=\"color: #7f7f7f; text-decoration-color: #7f7f7f\">utils.py</span></a><span style=\"color: #7f7f7f; text-decoration-color: #7f7f7f\">:</span><a href=\"file:///Users/nargokul/workspace/sagemaker-core-demo/sagemaker-core/src/sagemaker_core/main/utils.py#301\" target=\"_blank\"><span style=\"color: #7f7f7f; text-decoration-color: #7f7f7f\">301</span></a>\n<span style=\"color: #7fbfbf; text-decoration-color: #7fbfbf\">                    </span>         region.                                                                   <span style=\"color: #7f7f7f; text-decoration-color: #7f7f7f\">            </span>\n</pre>\n"
     },
     "metadata": {},
     "output_type": "display_data"
    },
    {
     "data": {
      "text/plain": "\u001B[2;36m                   \u001B[0m\u001B[2;36m \u001B[0m\u001B[31mWARNING \u001B[0m WARNING:sagemaker_core.main.utils:No config provided. Using default       \u001B]8;id=980351;file:///Users/nargokul/workspace/sagemaker-core-demo/sagemaker-core/src/sagemaker_core/main/utils.py\u001B\\\u001B[2mutils.py\u001B[0m\u001B]8;;\u001B\\\u001B[2m:\u001B[0m\u001B]8;id=991668;file:///Users/nargokul/workspace/sagemaker-core-demo/sagemaker-core/src/sagemaker_core/main/utils.py#305\u001B\\\u001B[2m305\u001B[0m\u001B]8;;\u001B\\\n\u001B[2;36m                    \u001B[0m         config.                                                                   \u001B[2m            \u001B[0m\n",
      "text/html": "<pre style=\"white-space:pre;overflow-x:auto;line-height:normal;font-family:Menlo,'DejaVu Sans Mono',consolas,'Courier New',monospace\"><span style=\"color: #7fbfbf; text-decoration-color: #7fbfbf\">                    </span><span style=\"color: #800000; text-decoration-color: #800000\">WARNING </span> WARNING:sagemaker_core.main.utils:No config provided. Using default       <a href=\"file:///Users/nargokul/workspace/sagemaker-core-demo/sagemaker-core/src/sagemaker_core/main/utils.py\" target=\"_blank\"><span style=\"color: #7f7f7f; text-decoration-color: #7f7f7f\">utils.py</span></a><span style=\"color: #7f7f7f; text-decoration-color: #7f7f7f\">:</span><a href=\"file:///Users/nargokul/workspace/sagemaker-core-demo/sagemaker-core/src/sagemaker_core/main/utils.py#305\" target=\"_blank\"><span style=\"color: #7f7f7f; text-decoration-color: #7f7f7f\">305</span></a>\n<span style=\"color: #7fbfbf; text-decoration-color: #7fbfbf\">                    </span>         config.                                                                   <span style=\"color: #7f7f7f; text-decoration-color: #7f7f7f\">            </span>\n</pre>\n"
     },
     "metadata": {},
     "output_type": "display_data"
    },
    {
     "data": {
      "text/plain": "\u001B[2;36m                   \u001B[0m\u001B[2;36m \u001B[0m\u001B[34mINFO    \u001B[0m INFO:botocore.credentials:Found credentials in shared credentials  \u001B]8;id=298803;file:///Library/Python/3.9/site-packages/botocore/credentials.py\u001B\\\u001B[2mcredentials.py\u001B[0m\u001B]8;;\u001B\\\u001B[2m:\u001B[0m\u001B]8;id=325167;file:///Library/Python/3.9/site-packages/botocore/credentials.py#1278\u001B\\\u001B[2m1278\u001B[0m\u001B]8;;\u001B\\\n\u001B[2;36m                    \u001B[0m         file: ~\u001B[35m/.aws/\u001B[0m\u001B[95mcredentials\u001B[0m                                           \u001B[2m                   \u001B[0m\n",
      "text/html": "<pre style=\"white-space:pre;overflow-x:auto;line-height:normal;font-family:Menlo,'DejaVu Sans Mono',consolas,'Courier New',monospace\"><span style=\"color: #7fbfbf; text-decoration-color: #7fbfbf\">                    </span><span style=\"color: #000080; text-decoration-color: #000080\">INFO    </span> INFO:botocore.credentials:Found credentials in shared credentials  <a href=\"file:///Library/Python/3.9/site-packages/botocore/credentials.py\" target=\"_blank\"><span style=\"color: #7f7f7f; text-decoration-color: #7f7f7f\">credentials.py</span></a><span style=\"color: #7f7f7f; text-decoration-color: #7f7f7f\">:</span><a href=\"file:///Library/Python/3.9/site-packages/botocore/credentials.py#1278\" target=\"_blank\"><span style=\"color: #7f7f7f; text-decoration-color: #7f7f7f\">1278</span></a>\n<span style=\"color: #7fbfbf; text-decoration-color: #7fbfbf\">                    </span>         file: ~<span style=\"color: #800080; text-decoration-color: #800080\">/.aws/</span><span style=\"color: #ff00ff; text-decoration-color: #ff00ff\">credentials</span>                                           <span style=\"color: #7f7f7f; text-decoration-color: #7f7f7f\">                   </span>\n</pre>\n"
     },
     "metadata": {},
     "output_type": "display_data"
    },
    {
     "data": {
      "text/plain": "Endpoint Response:\n\u001B[1m[\u001B[0m\n    \u001B[1m[\u001B[0m\n        \u001B[32m'1.0'\u001B[0m,\n        \u001B[32m'0.0'\u001B[0m,\n        \u001B[32m'2.0'\u001B[0m,\n        \u001B[32m'1.0'\u001B[0m,\n        \u001B[32m'1.0'\u001B[0m,\n        \u001B[32m'0.0'\u001B[0m,\n        \u001B[32m'1.0'\u001B[0m,\n        \u001B[32m'2.0'\u001B[0m,\n        \u001B[32m'1.0'\u001B[0m,\n        \u001B[32m'1.0'\u001B[0m,\n        \u001B[32m'2.0'\u001B[0m,\n        \u001B[32m'0.0'\u001B[0m,\n        \u001B[32m'0.0'\u001B[0m,\n        \u001B[32m'0.0'\u001B[0m,\n        \u001B[32m'0.0'\u001B[0m,\n        \u001B[32m'1.0'\u001B[0m,\n        \u001B[32m'2.0'\u001B[0m,\n        \u001B[32m'1.0'\u001B[0m,\n        \u001B[32m'1.0'\u001B[0m,\n        \u001B[32m'2.0'\u001B[0m,\n        \u001B[32m'0.0'\u001B[0m,\n        \u001B[32m'2.0'\u001B[0m,\n        \u001B[32m'0.0'\u001B[0m,\n        \u001B[32m'2.0'\u001B[0m,\n        \u001B[32m'2.0'\u001B[0m,\n        \u001B[32m'2.0'\u001B[0m,\n        \u001B[32m'2.0'\u001B[0m,\n        \u001B[32m'2.0'\u001B[0m,\n        \u001B[32m'0.0'\u001B[0m,\n        \u001B[32m'0.0'\u001B[0m\n    \u001B[1m]\u001B[0m\n\u001B[1m]\u001B[0m\n",
      "text/html": "<pre style=\"white-space:pre;overflow-x:auto;line-height:normal;font-family:Menlo,'DejaVu Sans Mono',consolas,'Courier New',monospace\">Endpoint Response:\n<span style=\"font-weight: bold\">[</span>\n    <span style=\"font-weight: bold\">[</span>\n        <span style=\"color: #008000; text-decoration-color: #008000\">'1.0'</span>,\n        <span style=\"color: #008000; text-decoration-color: #008000\">'0.0'</span>,\n        <span style=\"color: #008000; text-decoration-color: #008000\">'2.0'</span>,\n        <span style=\"color: #008000; text-decoration-color: #008000\">'1.0'</span>,\n        <span style=\"color: #008000; text-decoration-color: #008000\">'1.0'</span>,\n        <span style=\"color: #008000; text-decoration-color: #008000\">'0.0'</span>,\n        <span style=\"color: #008000; text-decoration-color: #008000\">'1.0'</span>,\n        <span style=\"color: #008000; text-decoration-color: #008000\">'2.0'</span>,\n        <span style=\"color: #008000; text-decoration-color: #008000\">'1.0'</span>,\n        <span style=\"color: #008000; text-decoration-color: #008000\">'1.0'</span>,\n        <span style=\"color: #008000; text-decoration-color: #008000\">'2.0'</span>,\n        <span style=\"color: #008000; text-decoration-color: #008000\">'0.0'</span>,\n        <span style=\"color: #008000; text-decoration-color: #008000\">'0.0'</span>,\n        <span style=\"color: #008000; text-decoration-color: #008000\">'0.0'</span>,\n        <span style=\"color: #008000; text-decoration-color: #008000\">'0.0'</span>,\n        <span style=\"color: #008000; text-decoration-color: #008000\">'1.0'</span>,\n        <span style=\"color: #008000; text-decoration-color: #008000\">'2.0'</span>,\n        <span style=\"color: #008000; text-decoration-color: #008000\">'1.0'</span>,\n        <span style=\"color: #008000; text-decoration-color: #008000\">'1.0'</span>,\n        <span style=\"color: #008000; text-decoration-color: #008000\">'2.0'</span>,\n        <span style=\"color: #008000; text-decoration-color: #008000\">'0.0'</span>,\n        <span style=\"color: #008000; text-decoration-color: #008000\">'2.0'</span>,\n        <span style=\"color: #008000; text-decoration-color: #008000\">'0.0'</span>,\n        <span style=\"color: #008000; text-decoration-color: #008000\">'2.0'</span>,\n        <span style=\"color: #008000; text-decoration-color: #008000\">'2.0'</span>,\n        <span style=\"color: #008000; text-decoration-color: #008000\">'2.0'</span>,\n        <span style=\"color: #008000; text-decoration-color: #008000\">'2.0'</span>,\n        <span style=\"color: #008000; text-decoration-color: #008000\">'2.0'</span>,\n        <span style=\"color: #008000; text-decoration-color: #008000\">'0.0'</span>,\n        <span style=\"color: #008000; text-decoration-color: #008000\">'0.0'</span>\n    <span style=\"font-weight: bold\">]</span>\n<span style=\"font-weight: bold\">]</span>\n</pre>\n"
     },
     "metadata": {},
     "output_type": "display_data"
    }
   ],
   "source": [
    "from sagemaker.base_serializers import CSVSerializer\n",
    "from sagemaker.deserializers import CSVDeserializer\n",
    "\n",
    "deserializer = CSVDeserializer()\n",
    "serializer = CSVSerializer()\n",
    "\n",
    "invoke_result = endpoint.invoke(body=serializer.serialize(test_data_no_target),\n",
    "                                content_type='text/csv',\n",
    "                                accept='text/csv')\n",
    "\n",
    "deserialized_result = deserializer.deserialize(invoke_result['Body'], invoke_result['ContentType'])\n",
    "\n",
    "print(\"Endpoint Response:\", deserialized_result)"
   ]
  },
  {
   "cell_type": "markdown",
   "metadata": {},
   "source": [
    "### Endpoint Invoke With Response Stream"
   ]
  },
  {
   "cell_type": "code",
   "execution_count": 17,
   "metadata": {
    "ExecuteTime": {
     "end_time": "2024-08-06T01:01:43.356815Z",
     "start_time": "2024-08-06T01:01:42.979586Z"
    }
   },
   "outputs": [
    {
     "data": {
      "text/plain": "\u001B[2;36m                   \u001B[0m\u001B[2;36m \u001B[0m\u001B[34mINFO    \u001B[0m INFO:sagemaker_core.main.resources:Invoking endpoint resource with   \u001B]8;id=422933;file:///Users/nargokul/workspace/sagemaker-core-demo/sagemaker-core/src/sagemaker_core/main/resources.py\u001B\\\u001B[2mresources.py\u001B[0m\u001B]8;;\u001B\\\u001B[2m:\u001B[0m\u001B]8;id=118119;file:///Users/nargokul/workspace/sagemaker-core-demo/sagemaker-core/src/sagemaker_core/main/resources.py#7753\u001B\\\u001B[2m7753\u001B[0m\u001B]8;;\u001B\\\n\u001B[2;36m                    \u001B[0m         Response Stream.                                                     \u001B[2m                 \u001B[0m\n",
      "text/html": "<pre style=\"white-space:pre;overflow-x:auto;line-height:normal;font-family:Menlo,'DejaVu Sans Mono',consolas,'Courier New',monospace\"><span style=\"color: #7fbfbf; text-decoration-color: #7fbfbf\">                    </span><span style=\"color: #000080; text-decoration-color: #000080\">INFO    </span> INFO:sagemaker_core.main.resources:Invoking endpoint resource with   <a href=\"file:///Users/nargokul/workspace/sagemaker-core-demo/sagemaker-core/src/sagemaker_core/main/resources.py\" target=\"_blank\"><span style=\"color: #7f7f7f; text-decoration-color: #7f7f7f\">resources.py</span></a><span style=\"color: #7f7f7f; text-decoration-color: #7f7f7f\">:</span><a href=\"file:///Users/nargokul/workspace/sagemaker-core-demo/sagemaker-core/src/sagemaker_core/main/resources.py#7753\" target=\"_blank\"><span style=\"color: #7f7f7f; text-decoration-color: #7f7f7f\">7753</span></a>\n<span style=\"color: #7fbfbf; text-decoration-color: #7fbfbf\">                    </span>         Response Stream.                                                     <span style=\"color: #7f7f7f; text-decoration-color: #7f7f7f\">                 </span>\n</pre>\n"
     },
     "metadata": {},
     "output_type": "display_data"
    },
    {
     "data": {
      "text/plain": "Endpoint Stream Response:\n\u001B[1m[\u001B[0m\n    \u001B[1m{\u001B[0m\n        \u001B[32m'PayloadPart'\u001B[0m: \u001B[1m{\u001B[0m\n            \u001B[32m'Bytes'\u001B[0m: \n\u001B[32mb'1.0,0.0,2.0,1.0,1.0,0.0,1.0,2.0,1.0,1.0,2.0,0.0,0.0,0.0,0.0,1.0,2.0,1.0,1.0,2.0,0.0,2.0,0.0,2.0,2.0,2.0,2.0,2.0,0\u001B[0m\n\u001B[32m.0,0.0'\u001B[0m\n        \u001B[1m}\u001B[0m\n    \u001B[1m}\u001B[0m\n\u001B[1m]\u001B[0m\n",
      "text/html": "<pre style=\"white-space:pre;overflow-x:auto;line-height:normal;font-family:Menlo,'DejaVu Sans Mono',consolas,'Courier New',monospace\">Endpoint Stream Response:\n<span style=\"font-weight: bold\">[</span>\n    <span style=\"font-weight: bold\">{</span>\n        <span style=\"color: #008000; text-decoration-color: #008000\">'PayloadPart'</span>: <span style=\"font-weight: bold\">{</span>\n            <span style=\"color: #008000; text-decoration-color: #008000\">'Bytes'</span>: \n<span style=\"color: #008000; text-decoration-color: #008000\">b'1.0,0.0,2.0,1.0,1.0,0.0,1.0,2.0,1.0,1.0,2.0,0.0,0.0,0.0,0.0,1.0,2.0,1.0,1.0,2.0,0.0,2.0,0.0,2.0,2.0,2.0,2.0,2.0,0</span>\n<span style=\"color: #008000; text-decoration-color: #008000\">.0,0.0'</span>\n        <span style=\"font-weight: bold\">}</span>\n    <span style=\"font-weight: bold\">}</span>\n<span style=\"font-weight: bold\">]</span>\n</pre>\n"
     },
     "metadata": {},
     "output_type": "display_data"
    }
   ],
   "source": [
    "def deserialise(response):\n",
    "    return [\n",
    "        res_part\n",
    "        for res_part in response['Body']\n",
    "    ]\n",
    "\n",
    "\n",
    "invoke_result = endpoint.invoke_with_response_stream(body=serializer.serialize(test_data_no_target),\n",
    "                                                     content_type='text/csv',\n",
    "                                                     accept='application/csv')\n",
    "\n",
    "print(\"Endpoint Stream Response:\", deserialise(invoke_result))"
   ]
  },
  {
   "cell_type": "markdown",
   "metadata": {},
   "source": [
    "## Create Endpoint for Async Invoke\n",
    "\n",
    "Now that we have gone through the process of creating and invoking endpoint synchronously using SageMakerCore. In the next section, we will create a new endpoint for asynchronous invocations and call `endpoint.invoke_async()`."
   ]
  },
  {
   "cell_type": "markdown",
   "metadata": {},
   "source": [
    "### Download the Input Files and Pre-Trained Model tar.gz from S3"
   ]
  },
  {
   "cell_type": "code",
   "execution_count": 18,
   "metadata": {
    "ExecuteTime": {
     "end_time": "2024-08-06T01:01:56.184719Z",
     "start_time": "2024-08-06T01:01:43.360195Z"
    }
   },
   "outputs": [
    {
     "data": {
      "text/plain": "\u001B[2;36m[08/05/24 18:01:43]\u001B[0m\u001B[2;36m \u001B[0m\u001B[34mINFO    \u001B[0m INFO:botocore.credentials:Found credentials in shared credentials  \u001B]8;id=801814;file:///Library/Python/3.9/site-packages/botocore/credentials.py\u001B\\\u001B[2mcredentials.py\u001B[0m\u001B]8;;\u001B\\\u001B[2m:\u001B[0m\u001B]8;id=189302;file:///Library/Python/3.9/site-packages/botocore/credentials.py#1278\u001B\\\u001B[2m1278\u001B[0m\u001B]8;;\u001B\\\n\u001B[2;36m                    \u001B[0m         file: ~\u001B[35m/.aws/\u001B[0m\u001B[95mcredentials\u001B[0m                                           \u001B[2m                   \u001B[0m\n",
      "text/html": "<pre style=\"white-space:pre;overflow-x:auto;line-height:normal;font-family:Menlo,'DejaVu Sans Mono',consolas,'Courier New',monospace\"><span style=\"color: #7fbfbf; text-decoration-color: #7fbfbf\">[08/05/24 18:01:43] </span><span style=\"color: #000080; text-decoration-color: #000080\">INFO    </span> INFO:botocore.credentials:Found credentials in shared credentials  <a href=\"file:///Library/Python/3.9/site-packages/botocore/credentials.py\" target=\"_blank\"><span style=\"color: #7f7f7f; text-decoration-color: #7f7f7f\">credentials.py</span></a><span style=\"color: #7f7f7f; text-decoration-color: #7f7f7f\">:</span><a href=\"file:///Library/Python/3.9/site-packages/botocore/credentials.py#1278\" target=\"_blank\"><span style=\"color: #7f7f7f; text-decoration-color: #7f7f7f\">1278</span></a>\n<span style=\"color: #7fbfbf; text-decoration-color: #7fbfbf\">                    </span>         file: ~<span style=\"color: #800080; text-decoration-color: #800080\">/.aws/</span><span style=\"color: #ff00ff; text-decoration-color: #ff00ff\">credentials</span>                                           <span style=\"color: #7f7f7f; text-decoration-color: #7f7f7f\">                   </span>\n</pre>\n"
     },
     "metadata": {},
     "output_type": "display_data"
    }
   ],
   "source": [
    "import boto3\n",
    "import os\n",
    "\n",
    "# Download the Input files and model from S3 bucket\n",
    "os.makedirs('./input', exist_ok=True)\n",
    "os.makedirs('./model', exist_ok=True)\n",
    "\n",
    "s3 = boto3.client(\"s3\")\n",
    "for key in s3.list_objects(\n",
    "    Bucket=f\"sagemaker-example-files-prod-{region}\", Prefix=\"models/async-inference/input-files/\"\n",
    ")[\"Contents\"]:\n",
    "    s3.download_file(\n",
    "        f\"sagemaker-example-files-prod-{region}\", key[\"Key\"], \"input/\" + key[\"Key\"].split(\"/\")[-1]\n",
    "    )\n",
    "s3.download_file(\n",
    "    f\"sagemaker-example-files-prod-{region}\",\n",
    "    \"models/async-inference/demo-xgboost-model.tar.gz\",\n",
    "    \"model/demo-xgboost-model.tar.gz\",\n",
    ")"
   ]
  },
  {
   "cell_type": "markdown",
   "metadata": {},
   "source": [
    "### Upload Data to S3\n",
    "In this step, we will upload the input and model data to the S3 bucket configured earlier using `sagemaker_session.default_bucket()` and set the `model_url` variable that we will use to create a `Model` resource object."
   ]
  },
  {
   "cell_type": "code",
   "execution_count": 19,
   "metadata": {
    "ExecuteTime": {
     "end_time": "2024-08-06T01:01:56.488883Z",
     "start_time": "2024-08-06T01:01:56.192541Z"
    }
   },
   "outputs": [
    {
     "data": {
      "text/plain": "Uploading Model to s3:\u001B[35m/\u001B[0m\u001B[35m/sagemaker-us-west-2-211125564141/async-inference-demo/\u001B[0m\u001B[95mdemo-xgboost-model.tar.gz\u001B[0m\n",
      "text/html": "<pre style=\"white-space:pre;overflow-x:auto;line-height:normal;font-family:Menlo,'DejaVu Sans Mono',consolas,'Courier New',monospace\">Uploading Model to s3:<span style=\"color: #800080; text-decoration-color: #800080\">//sagemaker-us-west-2-211125564141/async-inference-demo/</span><span style=\"color: #ff00ff; text-decoration-color: #ff00ff\">demo-xgboost-model.tar.gz</span>\n</pre>\n"
     },
     "metadata": {},
     "output_type": "display_data"
    }
   ],
   "source": [
    "# Upload the model to S3 bucket\n",
    "bucket_prefix = \"async-inference-demo\"\n",
    "bucket = sagemaker_session.default_bucket()\n",
    "\n",
    "model_s3_key = f\"{bucket_prefix}/demo-xgboost-model.tar.gz\"\n",
    "async_s3_output_path = f\"s3://{bucket}/{bucket_prefix}/output\"\n",
    "\n",
    "model_url = sagemaker_session.upload_data(\"model/demo-xgboost-model.tar.gz\", bucket, bucket_prefix)\n",
    "\n",
    "print(f\"Uploading Model to {model_url}\")"
   ]
  },
  {
   "cell_type": "markdown",
   "metadata": {},
   "source": [
    "### Create and Wait for Endpoint"
   ]
  },
  {
   "cell_type": "markdown",
   "metadata": {},
   "source": [
    "Create a `Model` by specifying the `image` and `model_data_url`. For the `model_data_url` we will use the S3 path of the pretrained model uploaded previously."
   ]
  },
  {
   "cell_type": "code",
   "execution_count": 20,
   "metadata": {
    "ExecuteTime": {
     "end_time": "2024-08-06T01:01:57.133516Z",
     "start_time": "2024-08-06T01:01:56.485622Z"
    }
   },
   "outputs": [
    {
     "data": {
      "text/plain": "Key: xgboost-iris-\u001B[1;36m01\u001B[0m-\u001B[1;36m01\u001B[0m-\u001B[1;36m56\u001B[0m\n",
      "text/html": "<pre style=\"white-space:pre;overflow-x:auto;line-height:normal;font-family:Menlo,'DejaVu Sans Mono',consolas,'Courier New',monospace\">Key: xgboost-iris-<span style=\"color: #008080; text-decoration-color: #008080; font-weight: bold\">01</span>-<span style=\"color: #008080; text-decoration-color: #008080; font-weight: bold\">01</span>-<span style=\"color: #008080; text-decoration-color: #008080; font-weight: bold\">56</span>\n</pre>\n"
     },
     "metadata": {},
     "output_type": "display_data"
    },
    {
     "data": {
      "text/plain": "\u001B[2;36m[08/05/24 18:01:56]\u001B[0m\u001B[2;36m \u001B[0m\u001B[34mINFO    \u001B[0m INFO:sagemaker.image_uris:Defaulting to only available Python        \u001B]8;id=372908;file:///Library/Python/3.9/site-packages/sagemaker/image_uris.py\u001B\\\u001B[2mimage_uris.py\u001B[0m\u001B]8;;\u001B\\\u001B[2m:\u001B[0m\u001B]8;id=836297;file:///Library/Python/3.9/site-packages/sagemaker/image_uris.py#598\u001B\\\u001B[2m598\u001B[0m\u001B]8;;\u001B\\\n\u001B[2;36m                    \u001B[0m         version: py3                                                         \u001B[2m                 \u001B[0m\n",
      "text/html": "<pre style=\"white-space:pre;overflow-x:auto;line-height:normal;font-family:Menlo,'DejaVu Sans Mono',consolas,'Courier New',monospace\"><span style=\"color: #7fbfbf; text-decoration-color: #7fbfbf\">[08/05/24 18:01:56] </span><span style=\"color: #000080; text-decoration-color: #000080\">INFO    </span> INFO:sagemaker.image_uris:Defaulting to only available Python        <a href=\"file:///Library/Python/3.9/site-packages/sagemaker/image_uris.py\" target=\"_blank\"><span style=\"color: #7f7f7f; text-decoration-color: #7f7f7f\">image_uris.py</span></a><span style=\"color: #7f7f7f; text-decoration-color: #7f7f7f\">:</span><a href=\"file:///Library/Python/3.9/site-packages/sagemaker/image_uris.py#598\" target=\"_blank\"><span style=\"color: #7f7f7f; text-decoration-color: #7f7f7f\">598</span></a>\n<span style=\"color: #7fbfbf; text-decoration-color: #7fbfbf\">                    </span>         version: py3                                                         <span style=\"color: #7f7f7f; text-decoration-color: #7f7f7f\">                 </span>\n</pre>\n"
     },
     "metadata": {},
     "output_type": "display_data"
    },
    {
     "data": {
      "text/plain": "\u001B[2;36m                   \u001B[0m\u001B[2;36m \u001B[0m\u001B[34mINFO    \u001B[0m INFO:sagemaker.image_uris:Defaulting to only supported image scope:  \u001B]8;id=593714;file:///Library/Python/3.9/site-packages/sagemaker/image_uris.py\u001B\\\u001B[2mimage_uris.py\u001B[0m\u001B]8;;\u001B\\\u001B[2m:\u001B[0m\u001B]8;id=909294;file:///Library/Python/3.9/site-packages/sagemaker/image_uris.py#522\u001B\\\u001B[2m522\u001B[0m\u001B]8;;\u001B\\\n\u001B[2;36m                    \u001B[0m         cpu.                                                                 \u001B[2m                 \u001B[0m\n",
      "text/html": "<pre style=\"white-space:pre;overflow-x:auto;line-height:normal;font-family:Menlo,'DejaVu Sans Mono',consolas,'Courier New',monospace\"><span style=\"color: #7fbfbf; text-decoration-color: #7fbfbf\">                    </span><span style=\"color: #000080; text-decoration-color: #000080\">INFO    </span> INFO:sagemaker.image_uris:Defaulting to only supported image scope:  <a href=\"file:///Library/Python/3.9/site-packages/sagemaker/image_uris.py\" target=\"_blank\"><span style=\"color: #7f7f7f; text-decoration-color: #7f7f7f\">image_uris.py</span></a><span style=\"color: #7f7f7f; text-decoration-color: #7f7f7f\">:</span><a href=\"file:///Library/Python/3.9/site-packages/sagemaker/image_uris.py#522\" target=\"_blank\"><span style=\"color: #7f7f7f; text-decoration-color: #7f7f7f\">522</span></a>\n<span style=\"color: #7fbfbf; text-decoration-color: #7fbfbf\">                    </span>         cpu.                                                                 <span style=\"color: #7f7f7f; text-decoration-color: #7f7f7f\">                 </span>\n</pre>\n"
     },
     "metadata": {},
     "output_type": "display_data"
    },
    {
     "data": {
      "text/plain": "\u001B[2;36m                   \u001B[0m\u001B[2;36m \u001B[0m\u001B[34mINFO    \u001B[0m INFO:sagemaker_core.main.resources:Creating model resource.         \u001B]8;id=191933;file:///Users/nargokul/workspace/sagemaker-core-demo/sagemaker-core/src/sagemaker_core/main/resources.py\u001B\\\u001B[2mresources.py\u001B[0m\u001B]8;;\u001B\\\u001B[2m:\u001B[0m\u001B]8;id=872663;file:///Users/nargokul/workspace/sagemaker-core-demo/sagemaker-core/src/sagemaker_core/main/resources.py#15137\u001B\\\u001B[2m15137\u001B[0m\u001B]8;;\u001B\\\n",
      "text/html": "<pre style=\"white-space:pre;overflow-x:auto;line-height:normal;font-family:Menlo,'DejaVu Sans Mono',consolas,'Courier New',monospace\"><span style=\"color: #7fbfbf; text-decoration-color: #7fbfbf\">                    </span><span style=\"color: #000080; text-decoration-color: #000080\">INFO    </span> INFO:sagemaker_core.main.resources:Creating model resource.         <a href=\"file:///Users/nargokul/workspace/sagemaker-core-demo/sagemaker-core/src/sagemaker_core/main/resources.py\" target=\"_blank\"><span style=\"color: #7f7f7f; text-decoration-color: #7f7f7f\">resources.py</span></a><span style=\"color: #7f7f7f; text-decoration-color: #7f7f7f\">:</span><a href=\"file:///Users/nargokul/workspace/sagemaker-core-demo/sagemaker-core/src/sagemaker_core/main/resources.py#15137\" target=\"_blank\"><span style=\"color: #7f7f7f; text-decoration-color: #7f7f7f\">15137</span></a>\n</pre>\n"
     },
     "metadata": {},
     "output_type": "display_data"
    }
   ],
   "source": [
    "key = f'xgboost-iris-{strftime(\"%H-%M-%S\", gmtime())}'\n",
    "print(\"Key:\", key)\n",
    "\n",
    "# Specify an AWS container image and region as desired\n",
    "image = image_uris.retrieve(region=region, framework=\"xgboost\", version=\"0.90-1\")\n",
    "\n",
    "async_model = Model.create(\n",
    "    model_name=key,\n",
    "    primary_container=ContainerDefinition(\n",
    "        image=image,\n",
    "        model_data_url=model_url,\n",
    "    ),\n",
    "    execution_role_arn=role,\n",
    ")"
   ]
  },
  {
   "cell_type": "markdown",
   "metadata": {},
   "source": [
    "Create the `Endpoint` and wait for it to be `InService`"
   ]
  },
  {
   "cell_type": "code",
   "execution_count": 21,
   "metadata": {
    "ExecuteTime": {
     "end_time": "2024-08-06T01:01:58.025849Z",
     "start_time": "2024-08-06T01:01:57.128469Z"
    }
   },
   "outputs": [
    {
     "data": {
      "text/plain": "\u001B[2;36m[08/05/24 18:01:57]\u001B[0m\u001B[2;36m \u001B[0m\u001B[34mINFO    \u001B[0m INFO:sagemaker_core.main.resources:Creating endpoint_config          \u001B]8;id=210782;file:///Users/nargokul/workspace/sagemaker-core-demo/sagemaker-core/src/sagemaker_core/main/resources.py\u001B\\\u001B[2mresources.py\u001B[0m\u001B]8;;\u001B\\\u001B[2m:\u001B[0m\u001B]8;id=65546;file:///Users/nargokul/workspace/sagemaker-core-demo/sagemaker-core/src/sagemaker_core/main/resources.py#8031\u001B\\\u001B[2m8031\u001B[0m\u001B]8;;\u001B\\\n\u001B[2;36m                    \u001B[0m         resource.                                                            \u001B[2m                 \u001B[0m\n",
      "text/html": "<pre style=\"white-space:pre;overflow-x:auto;line-height:normal;font-family:Menlo,'DejaVu Sans Mono',consolas,'Courier New',monospace\"><span style=\"color: #7fbfbf; text-decoration-color: #7fbfbf\">[08/05/24 18:01:57] </span><span style=\"color: #000080; text-decoration-color: #000080\">INFO    </span> INFO:sagemaker_core.main.resources:Creating endpoint_config          <a href=\"file:///Users/nargokul/workspace/sagemaker-core-demo/sagemaker-core/src/sagemaker_core/main/resources.py\" target=\"_blank\"><span style=\"color: #7f7f7f; text-decoration-color: #7f7f7f\">resources.py</span></a><span style=\"color: #7f7f7f; text-decoration-color: #7f7f7f\">:</span><a href=\"file:///Users/nargokul/workspace/sagemaker-core-demo/sagemaker-core/src/sagemaker_core/main/resources.py#8031\" target=\"_blank\"><span style=\"color: #7f7f7f; text-decoration-color: #7f7f7f\">8031</span></a>\n<span style=\"color: #7fbfbf; text-decoration-color: #7fbfbf\">                    </span>         resource.                                                            <span style=\"color: #7f7f7f; text-decoration-color: #7f7f7f\">                 </span>\n</pre>\n"
     },
     "metadata": {},
     "output_type": "display_data"
    },
    {
     "data": {
      "text/plain": "\u001B[2;36m                   \u001B[0m\u001B[2;36m \u001B[0m\u001B[34mINFO    \u001B[0m INFO:sagemaker_core.main.resources:Creating endpoint resource.       \u001B]8;id=888682;file:///Users/nargokul/workspace/sagemaker-core-demo/sagemaker-core/src/sagemaker_core/main/resources.py\u001B\\\u001B[2mresources.py\u001B[0m\u001B]8;;\u001B\\\u001B[2m:\u001B[0m\u001B]8;id=165109;file:///Users/nargokul/workspace/sagemaker-core-demo/sagemaker-core/src/sagemaker_core/main/resources.py#7288\u001B\\\u001B[2m7288\u001B[0m\u001B]8;;\u001B\\\n",
      "text/html": "<pre style=\"white-space:pre;overflow-x:auto;line-height:normal;font-family:Menlo,'DejaVu Sans Mono',consolas,'Courier New',monospace\"><span style=\"color: #7fbfbf; text-decoration-color: #7fbfbf\">                    </span><span style=\"color: #000080; text-decoration-color: #000080\">INFO    </span> INFO:sagemaker_core.main.resources:Creating endpoint resource.       <a href=\"file:///Users/nargokul/workspace/sagemaker-core-demo/sagemaker-core/src/sagemaker_core/main/resources.py\" target=\"_blank\"><span style=\"color: #7f7f7f; text-decoration-color: #7f7f7f\">resources.py</span></a><span style=\"color: #7f7f7f; text-decoration-color: #7f7f7f\">:</span><a href=\"file:///Users/nargokul/workspace/sagemaker-core-demo/sagemaker-core/src/sagemaker_core/main/resources.py#7288\" target=\"_blank\"><span style=\"color: #7f7f7f; text-decoration-color: #7f7f7f\">7288</span></a>\n</pre>\n"
     },
     "metadata": {},
     "output_type": "display_data"
    }
   ],
   "source": [
    "from sagemaker_core.main.shapes import ProductionVariant, AsyncInferenceConfig, AsyncInferenceOutputConfig, AsyncInferenceClientConfig\n",
    "\n",
    "async_endpoint_config = EndpointConfig.create(\n",
    "    endpoint_config_name=key,\n",
    "    production_variants=[\n",
    "        ProductionVariant(\n",
    "            variant_name=\"variant1\",\n",
    "            model_name=async_model,\n",
    "            instance_type='ml.m5.xlarge',\n",
    "            initial_instance_count=1\n",
    "        )\n",
    "    ],\n",
    "    async_inference_config=AsyncInferenceConfig(\n",
    "        output_config=AsyncInferenceOutputConfig(s3_output_path=async_s3_output_path),\n",
    "        client_config=AsyncInferenceClientConfig(\n",
    "            max_concurrent_invocations_per_instance=4\n",
    "        )\n",
    "    )\n",
    ")\n",
    "\n",
    "async_endpoint = Endpoint.create(endpoint_name=key, endpoint_config_name=async_endpoint_config)"
   ]
  },
  {
   "cell_type": "code",
   "execution_count": 22,
   "metadata": {
    "ExecuteTime": {
     "end_time": "2024-08-06T01:04:49.508Z",
     "start_time": "2024-08-06T01:01:58.019322Z"
    }
   },
   "outputs": [
    {
     "name": "stdout",
     "output_type": "stream",
     "text": [
      "---------------------------------\n",
      "Final Resource Status: InService\n"
     ]
    }
   ],
   "source": [
    "async_endpoint.wait_for_status(\"InService\")"
   ]
  },
  {
   "cell_type": "markdown",
   "metadata": {},
   "source": [
    "### Upload the Async Invoke Payload\n",
    "To invoke an endpoint asynchronously, we first must upload the request payload to S3."
   ]
  },
  {
   "cell_type": "code",
   "execution_count": 23,
   "metadata": {
    "ExecuteTime": {
     "end_time": "2024-08-06T01:04:49.785189Z",
     "start_time": "2024-08-06T01:04:49.502110Z"
    }
   },
   "outputs": [],
   "source": [
    "def upload_file(input_location):\n",
    "    prefix = f\"{bucket_prefix}/input\"\n",
    "    return sagemaker_session.upload_data(\n",
    "        input_location,\n",
    "        bucket=sagemaker_session.default_bucket(),\n",
    "        key_prefix=prefix,\n",
    "        extra_args={\"ContentType\": \"text/libsvm\"},\n",
    "    )\n",
    "\n",
    "input_path = \"input/test_point_0.libsvm\"\n",
    "input_s3_path = upload_file(input_path)"
   ]
  },
  {
   "cell_type": "markdown",
   "metadata": {},
   "source": [
    "### Endpoint Async Invoke\n",
    "\n",
    "Call `endpoint.invoke_async()` using the s3 path of the invoke request payload and store the \"OutputLocation\" of from the response."
   ]
  },
  {
   "cell_type": "code",
   "execution_count": 24,
   "metadata": {
    "ExecuteTime": {
     "end_time": "2024-08-06T01:04:50.012303Z",
     "start_time": "2024-08-06T01:04:49.787275Z"
    }
   },
   "outputs": [
    {
     "data": {
      "text/plain": "\u001B[2;36m[08/05/24 18:04:49]\u001B[0m\u001B[2;36m \u001B[0m\u001B[34mINFO    \u001B[0m INFO:sagemaker_core.main.resources:Invoking endpoint resource Async. \u001B]8;id=987495;file:///Users/nargokul/workspace/sagemaker-core-demo/sagemaker-core/src/sagemaker_core/main/resources.py\u001B\\\u001B[2mresources.py\u001B[0m\u001B]8;;\u001B\\\u001B[2m:\u001B[0m\u001B]8;id=598844;file:///Users/nargokul/workspace/sagemaker-core-demo/sagemaker-core/src/sagemaker_core/main/resources.py#7684\u001B\\\u001B[2m7684\u001B[0m\u001B]8;;\u001B\\\n",
      "text/html": "<pre style=\"white-space:pre;overflow-x:auto;line-height:normal;font-family:Menlo,'DejaVu Sans Mono',consolas,'Courier New',monospace\"><span style=\"color: #7fbfbf; text-decoration-color: #7fbfbf\">[08/05/24 18:04:49] </span><span style=\"color: #000080; text-decoration-color: #000080\">INFO    </span> INFO:sagemaker_core.main.resources:Invoking endpoint resource Async. <a href=\"file:///Users/nargokul/workspace/sagemaker-core-demo/sagemaker-core/src/sagemaker_core/main/resources.py\" target=\"_blank\"><span style=\"color: #7f7f7f; text-decoration-color: #7f7f7f\">resources.py</span></a><span style=\"color: #7f7f7f; text-decoration-color: #7f7f7f\">:</span><a href=\"file:///Users/nargokul/workspace/sagemaker-core-demo/sagemaker-core/src/sagemaker_core/main/resources.py#7684\" target=\"_blank\"><span style=\"color: #7f7f7f; text-decoration-color: #7f7f7f\">7684</span></a>\n</pre>\n"
     },
     "metadata": {},
     "output_type": "display_data"
    },
    {
     "data": {
      "text/plain": "s3:\u001B[35m/\u001B[0m\u001B[35m/sagemaker-us-west-2-211125564141/async-inference-demo/output/\u001B[0m\u001B[95mbdc145ac-63bc-4495-9e82-c5ea93f801ff.out\u001B[0m\n",
      "text/html": "<pre style=\"white-space:pre;overflow-x:auto;line-height:normal;font-family:Menlo,'DejaVu Sans Mono',consolas,'Courier New',monospace\">s3:<span style=\"color: #800080; text-decoration-color: #800080\">//sagemaker-us-west-2-211125564141/async-inference-demo/output/</span><span style=\"color: #ff00ff; text-decoration-color: #ff00ff\">bdc145ac-63bc-4495-9e82-c5ea93f801ff.out</span>\n</pre>\n"
     },
     "metadata": {},
     "output_type": "display_data"
    }
   ],
   "source": [
    "response = async_endpoint.invoke_async(input_location=input_s3_path)\n",
    "output_location = response[\"OutputLocation\"]\n",
    "print(output_location)"
   ]
  },
  {
   "cell_type": "markdown",
   "metadata": {},
   "source": [
    "### Check the Output Location\n",
    "Check the output location from the `endpoint.invoke_async()` response to get the async inference results."
   ]
  },
  {
   "cell_type": "code",
   "execution_count": 25,
   "metadata": {
    "ExecuteTime": {
     "end_time": "2024-08-06T01:04:50.020687Z",
     "start_time": "2024-08-06T01:04:50.011604Z"
    }
   },
   "outputs": [],
   "source": [
    "import urllib, time\n",
    "from botocore.exceptions import ClientError\n",
    "\n",
    "\n",
    "def get_output(output_location):\n",
    "    output_url = urllib.parse.urlparse(output_location)\n",
    "    bucket = output_url.netloc\n",
    "    key = output_url.path[1:]\n",
    "    while True:\n",
    "        try:\n",
    "            return sagemaker_session.read_s3_file(bucket=output_url.netloc, key_prefix=output_url.path[1:])\n",
    "        except ClientError as e:\n",
    "            if e.response[\"Error\"][\"Code\"] == \"NoSuchKey\":\n",
    "                print(\"waiting for output...\")\n",
    "                time.sleep(2)\n",
    "                continue\n",
    "            raise"
   ]
  },
  {
   "cell_type": "code",
   "execution_count": 26,
   "metadata": {
    "ExecuteTime": {
     "end_time": "2024-08-06T01:04:54.323987Z",
     "start_time": "2024-08-06T01:04:50.021133Z"
    }
   },
   "outputs": [
    {
     "data": {
      "text/plain": "waiting for output\u001B[33m...\u001B[0m\n",
      "text/html": "<pre style=\"white-space:pre;overflow-x:auto;line-height:normal;font-family:Menlo,'DejaVu Sans Mono',consolas,'Courier New',monospace\">waiting for output<span style=\"color: #808000; text-decoration-color: #808000\">...</span>\n</pre>\n"
     },
     "metadata": {},
     "output_type": "display_data"
    },
    {
     "data": {
      "text/plain": "waiting for output\u001B[33m...\u001B[0m\n",
      "text/html": "<pre style=\"white-space:pre;overflow-x:auto;line-height:normal;font-family:Menlo,'DejaVu Sans Mono',consolas,'Courier New',monospace\">waiting for output<span style=\"color: #808000; text-decoration-color: #808000\">...</span>\n</pre>\n"
     },
     "metadata": {},
     "output_type": "display_data"
    },
    {
     "data": {
      "text/plain": "Output: \u001B[1;36m0.809421181678772\u001B[0m\n",
      "text/html": "<pre style=\"white-space:pre;overflow-x:auto;line-height:normal;font-family:Menlo,'DejaVu Sans Mono',consolas,'Courier New',monospace\">Output: <span style=\"color: #008080; text-decoration-color: #008080; font-weight: bold\">0.809421181678772</span>\n</pre>\n"
     },
     "metadata": {},
     "output_type": "display_data"
    }
   ],
   "source": [
    "output = get_output(output_location)\n",
    "print(f\"Output: {output}\")"
   ]
  },
  {
   "cell_type": "markdown",
   "metadata": {},
   "source": [
    "## Delete All SageMaker Resources\n",
    "The following code block will call the delete() method for any SageMaker Core Resources created during the execution of this notebook which were assigned to local or global variables. If you created any additional deleteable resources without assigning the returning object to a unique variable, you will need to delete the resource manually by doing something like:\n",
    "\n",
    "```python\n",
    "resource = Resource.get(\"resource-name\")\n",
    "resource.delete()\n",
    "```"
   ]
  },
  {
   "cell_type": "code",
   "execution_count": 27,
   "metadata": {
    "ExecuteTime": {
     "end_time": "2024-08-06T01:04:56.981672Z",
     "start_time": "2024-08-06T01:04:54.314856Z"
    }
   },
   "outputs": [
    {
     "data": {
      "text/plain": "\u001B[2;36m[08/05/24 18:04:54]\u001B[0m\u001B[2;36m \u001B[0m\u001B[34mINFO    \u001B[0m INFO:sagemaker_core.main.resources:Deleting Model -                 \u001B]8;id=61313;file:///Users/nargokul/workspace/sagemaker-core-demo/sagemaker-core/src/sagemaker_core/main/resources.py\u001B\\\u001B[2mresources.py\u001B[0m\u001B]8;;\u001B\\\u001B[2m:\u001B[0m\u001B]8;id=326032;file:///Users/nargokul/workspace/sagemaker-core-demo/sagemaker-core/src/sagemaker_core/main/resources.py#15269\u001B\\\u001B[2m15269\u001B[0m\u001B]8;;\u001B\\\n\u001B[2;36m                    \u001B[0m         xgboost-iris-\u001B[1;36m00\u001B[0m-\u001B[1;36m58\u001B[0m-\u001B[1;36m16\u001B[0m                                               \u001B[2m                  \u001B[0m\n",
      "text/html": "<pre style=\"white-space:pre;overflow-x:auto;line-height:normal;font-family:Menlo,'DejaVu Sans Mono',consolas,'Courier New',monospace\"><span style=\"color: #7fbfbf; text-decoration-color: #7fbfbf\">[08/05/24 18:04:54] </span><span style=\"color: #000080; text-decoration-color: #000080\">INFO    </span> INFO:sagemaker_core.main.resources:Deleting Model -                 <a href=\"file:///Users/nargokul/workspace/sagemaker-core-demo/sagemaker-core/src/sagemaker_core/main/resources.py\" target=\"_blank\"><span style=\"color: #7f7f7f; text-decoration-color: #7f7f7f\">resources.py</span></a><span style=\"color: #7f7f7f; text-decoration-color: #7f7f7f\">:</span><a href=\"file:///Users/nargokul/workspace/sagemaker-core-demo/sagemaker-core/src/sagemaker_core/main/resources.py#15269\" target=\"_blank\"><span style=\"color: #7f7f7f; text-decoration-color: #7f7f7f\">15269</span></a>\n<span style=\"color: #7fbfbf; text-decoration-color: #7fbfbf\">                    </span>         xgboost-iris-<span style=\"color: #008080; text-decoration-color: #008080; font-weight: bold\">00</span>-<span style=\"color: #008080; text-decoration-color: #008080; font-weight: bold\">58</span>-<span style=\"color: #008080; text-decoration-color: #008080; font-weight: bold\">16</span>                                               <span style=\"color: #7f7f7f; text-decoration-color: #7f7f7f\">                  </span>\n</pre>\n"
     },
     "metadata": {},
     "output_type": "display_data"
    },
    {
     "data": {
      "text/plain": "\u001B[2;36m                   \u001B[0m\u001B[2;36m \u001B[0m\u001B[34mINFO    \u001B[0m INFO:sagemaker_core.main.resources:Deleting EndpointConfig -         \u001B]8;id=162642;file:///Users/nargokul/workspace/sagemaker-core-demo/sagemaker-core/src/sagemaker_core/main/resources.py\u001B\\\u001B[2mresources.py\u001B[0m\u001B]8;;\u001B\\\u001B[2m:\u001B[0m\u001B]8;id=668862;file:///Users/nargokul/workspace/sagemaker-core-demo/sagemaker-core/src/sagemaker_core/main/resources.py#8166\u001B\\\u001B[2m8166\u001B[0m\u001B]8;;\u001B\\\n\u001B[2;36m                    \u001B[0m         xgboost-iris-\u001B[1;36m00\u001B[0m-\u001B[1;36m58\u001B[0m-\u001B[1;36m16\u001B[0m                                                \u001B[2m                 \u001B[0m\n",
      "text/html": "<pre style=\"white-space:pre;overflow-x:auto;line-height:normal;font-family:Menlo,'DejaVu Sans Mono',consolas,'Courier New',monospace\"><span style=\"color: #7fbfbf; text-decoration-color: #7fbfbf\">                    </span><span style=\"color: #000080; text-decoration-color: #000080\">INFO    </span> INFO:sagemaker_core.main.resources:Deleting EndpointConfig -         <a href=\"file:///Users/nargokul/workspace/sagemaker-core-demo/sagemaker-core/src/sagemaker_core/main/resources.py\" target=\"_blank\"><span style=\"color: #7f7f7f; text-decoration-color: #7f7f7f\">resources.py</span></a><span style=\"color: #7f7f7f; text-decoration-color: #7f7f7f\">:</span><a href=\"file:///Users/nargokul/workspace/sagemaker-core-demo/sagemaker-core/src/sagemaker_core/main/resources.py#8166\" target=\"_blank\"><span style=\"color: #7f7f7f; text-decoration-color: #7f7f7f\">8166</span></a>\n<span style=\"color: #7fbfbf; text-decoration-color: #7fbfbf\">                    </span>         xgboost-iris-<span style=\"color: #008080; text-decoration-color: #008080; font-weight: bold\">00</span>-<span style=\"color: #008080; text-decoration-color: #008080; font-weight: bold\">58</span>-<span style=\"color: #008080; text-decoration-color: #008080; font-weight: bold\">16</span>                                                <span style=\"color: #7f7f7f; text-decoration-color: #7f7f7f\">                 </span>\n</pre>\n"
     },
     "metadata": {},
     "output_type": "display_data"
    },
    {
     "data": {
      "text/plain": "\u001B[2;36m[08/05/24 18:04:55]\u001B[0m\u001B[2;36m \u001B[0m\u001B[34mINFO    \u001B[0m INFO:sagemaker_core.main.resources:Deleting Endpoint -               \u001B]8;id=654191;file:///Users/nargokul/workspace/sagemaker-core-demo/sagemaker-core/src/sagemaker_core/main/resources.py\u001B\\\u001B[2mresources.py\u001B[0m\u001B]8;;\u001B\\\u001B[2m:\u001B[0m\u001B]8;id=188959;file:///Users/nargokul/workspace/sagemaker-core-demo/sagemaker-core/src/sagemaker_core/main/resources.py#7472\u001B\\\u001B[2m7472\u001B[0m\u001B]8;;\u001B\\\n\u001B[2;36m                    \u001B[0m         xgboost-iris-\u001B[1;36m00\u001B[0m-\u001B[1;36m58\u001B[0m-\u001B[1;36m16\u001B[0m                                                \u001B[2m                 \u001B[0m\n",
      "text/html": "<pre style=\"white-space:pre;overflow-x:auto;line-height:normal;font-family:Menlo,'DejaVu Sans Mono',consolas,'Courier New',monospace\"><span style=\"color: #7fbfbf; text-decoration-color: #7fbfbf\">[08/05/24 18:04:55] </span><span style=\"color: #000080; text-decoration-color: #000080\">INFO    </span> INFO:sagemaker_core.main.resources:Deleting Endpoint -               <a href=\"file:///Users/nargokul/workspace/sagemaker-core-demo/sagemaker-core/src/sagemaker_core/main/resources.py\" target=\"_blank\"><span style=\"color: #7f7f7f; text-decoration-color: #7f7f7f\">resources.py</span></a><span style=\"color: #7f7f7f; text-decoration-color: #7f7f7f\">:</span><a href=\"file:///Users/nargokul/workspace/sagemaker-core-demo/sagemaker-core/src/sagemaker_core/main/resources.py#7472\" target=\"_blank\"><span style=\"color: #7f7f7f; text-decoration-color: #7f7f7f\">7472</span></a>\n<span style=\"color: #7fbfbf; text-decoration-color: #7fbfbf\">                    </span>         xgboost-iris-<span style=\"color: #008080; text-decoration-color: #008080; font-weight: bold\">00</span>-<span style=\"color: #008080; text-decoration-color: #008080; font-weight: bold\">58</span>-<span style=\"color: #008080; text-decoration-color: #008080; font-weight: bold\">16</span>                                                <span style=\"color: #7f7f7f; text-decoration-color: #7f7f7f\">                 </span>\n</pre>\n"
     },
     "metadata": {},
     "output_type": "display_data"
    },
    {
     "data": {
      "text/plain": "\u001B[2;36m                   \u001B[0m\u001B[2;36m \u001B[0m\u001B[34mINFO    \u001B[0m INFO:sagemaker_core.main.resources:Deleting Model -                 \u001B]8;id=721823;file:///Users/nargokul/workspace/sagemaker-core-demo/sagemaker-core/src/sagemaker_core/main/resources.py\u001B\\\u001B[2mresources.py\u001B[0m\u001B]8;;\u001B\\\u001B[2m:\u001B[0m\u001B]8;id=69816;file:///Users/nargokul/workspace/sagemaker-core-demo/sagemaker-core/src/sagemaker_core/main/resources.py#15269\u001B\\\u001B[2m15269\u001B[0m\u001B]8;;\u001B\\\n\u001B[2;36m                    \u001B[0m         xgboost-iris-\u001B[1;36m01\u001B[0m-\u001B[1;36m01\u001B[0m-\u001B[1;36m56\u001B[0m                                               \u001B[2m                  \u001B[0m\n",
      "text/html": "<pre style=\"white-space:pre;overflow-x:auto;line-height:normal;font-family:Menlo,'DejaVu Sans Mono',consolas,'Courier New',monospace\"><span style=\"color: #7fbfbf; text-decoration-color: #7fbfbf\">                    </span><span style=\"color: #000080; text-decoration-color: #000080\">INFO    </span> INFO:sagemaker_core.main.resources:Deleting Model -                 <a href=\"file:///Users/nargokul/workspace/sagemaker-core-demo/sagemaker-core/src/sagemaker_core/main/resources.py\" target=\"_blank\"><span style=\"color: #7f7f7f; text-decoration-color: #7f7f7f\">resources.py</span></a><span style=\"color: #7f7f7f; text-decoration-color: #7f7f7f\">:</span><a href=\"file:///Users/nargokul/workspace/sagemaker-core-demo/sagemaker-core/src/sagemaker_core/main/resources.py#15269\" target=\"_blank\"><span style=\"color: #7f7f7f; text-decoration-color: #7f7f7f\">15269</span></a>\n<span style=\"color: #7fbfbf; text-decoration-color: #7fbfbf\">                    </span>         xgboost-iris-<span style=\"color: #008080; text-decoration-color: #008080; font-weight: bold\">01</span>-<span style=\"color: #008080; text-decoration-color: #008080; font-weight: bold\">01</span>-<span style=\"color: #008080; text-decoration-color: #008080; font-weight: bold\">56</span>                                               <span style=\"color: #7f7f7f; text-decoration-color: #7f7f7f\">                  </span>\n</pre>\n"
     },
     "metadata": {},
     "output_type": "display_data"
    },
    {
     "data": {
      "text/plain": "\u001B[2;36m[08/05/24 18:04:56]\u001B[0m\u001B[2;36m \u001B[0m\u001B[34mINFO    \u001B[0m INFO:sagemaker_core.main.resources:Deleting EndpointConfig -         \u001B]8;id=945790;file:///Users/nargokul/workspace/sagemaker-core-demo/sagemaker-core/src/sagemaker_core/main/resources.py\u001B\\\u001B[2mresources.py\u001B[0m\u001B]8;;\u001B\\\u001B[2m:\u001B[0m\u001B]8;id=606574;file:///Users/nargokul/workspace/sagemaker-core-demo/sagemaker-core/src/sagemaker_core/main/resources.py#8166\u001B\\\u001B[2m8166\u001B[0m\u001B]8;;\u001B\\\n\u001B[2;36m                    \u001B[0m         xgboost-iris-\u001B[1;36m01\u001B[0m-\u001B[1;36m01\u001B[0m-\u001B[1;36m56\u001B[0m                                                \u001B[2m                 \u001B[0m\n",
      "text/html": "<pre style=\"white-space:pre;overflow-x:auto;line-height:normal;font-family:Menlo,'DejaVu Sans Mono',consolas,'Courier New',monospace\"><span style=\"color: #7fbfbf; text-decoration-color: #7fbfbf\">[08/05/24 18:04:56] </span><span style=\"color: #000080; text-decoration-color: #000080\">INFO    </span> INFO:sagemaker_core.main.resources:Deleting EndpointConfig -         <a href=\"file:///Users/nargokul/workspace/sagemaker-core-demo/sagemaker-core/src/sagemaker_core/main/resources.py\" target=\"_blank\"><span style=\"color: #7f7f7f; text-decoration-color: #7f7f7f\">resources.py</span></a><span style=\"color: #7f7f7f; text-decoration-color: #7f7f7f\">:</span><a href=\"file:///Users/nargokul/workspace/sagemaker-core-demo/sagemaker-core/src/sagemaker_core/main/resources.py#8166\" target=\"_blank\"><span style=\"color: #7f7f7f; text-decoration-color: #7f7f7f\">8166</span></a>\n<span style=\"color: #7fbfbf; text-decoration-color: #7fbfbf\">                    </span>         xgboost-iris-<span style=\"color: #008080; text-decoration-color: #008080; font-weight: bold\">01</span>-<span style=\"color: #008080; text-decoration-color: #008080; font-weight: bold\">01</span>-<span style=\"color: #008080; text-decoration-color: #008080; font-weight: bold\">56</span>                                                <span style=\"color: #7f7f7f; text-decoration-color: #7f7f7f\">                 </span>\n</pre>\n"
     },
     "metadata": {},
     "output_type": "display_data"
    },
    {
     "data": {
      "text/plain": "\u001B[2;36m                   \u001B[0m\u001B[2;36m \u001B[0m\u001B[34mINFO    \u001B[0m INFO:sagemaker_core.main.resources:Deleting Endpoint -               \u001B]8;id=680342;file:///Users/nargokul/workspace/sagemaker-core-demo/sagemaker-core/src/sagemaker_core/main/resources.py\u001B\\\u001B[2mresources.py\u001B[0m\u001B]8;;\u001B\\\u001B[2m:\u001B[0m\u001B]8;id=707542;file:///Users/nargokul/workspace/sagemaker-core-demo/sagemaker-core/src/sagemaker_core/main/resources.py#7472\u001B\\\u001B[2m7472\u001B[0m\u001B]8;;\u001B\\\n\u001B[2;36m                    \u001B[0m         xgboost-iris-\u001B[1;36m01\u001B[0m-\u001B[1;36m01\u001B[0m-\u001B[1;36m56\u001B[0m                                                \u001B[2m                 \u001B[0m\n",
      "text/html": "<pre style=\"white-space:pre;overflow-x:auto;line-height:normal;font-family:Menlo,'DejaVu Sans Mono',consolas,'Courier New',monospace\"><span style=\"color: #7fbfbf; text-decoration-color: #7fbfbf\">                    </span><span style=\"color: #000080; text-decoration-color: #000080\">INFO    </span> INFO:sagemaker_core.main.resources:Deleting Endpoint -               <a href=\"file:///Users/nargokul/workspace/sagemaker-core-demo/sagemaker-core/src/sagemaker_core/main/resources.py\" target=\"_blank\"><span style=\"color: #7f7f7f; text-decoration-color: #7f7f7f\">resources.py</span></a><span style=\"color: #7f7f7f; text-decoration-color: #7f7f7f\">:</span><a href=\"file:///Users/nargokul/workspace/sagemaker-core-demo/sagemaker-core/src/sagemaker_core/main/resources.py#7472\" target=\"_blank\"><span style=\"color: #7f7f7f; text-decoration-color: #7f7f7f\">7472</span></a>\n<span style=\"color: #7fbfbf; text-decoration-color: #7fbfbf\">                    </span>         xgboost-iris-<span style=\"color: #008080; text-decoration-color: #008080; font-weight: bold\">01</span>-<span style=\"color: #008080; text-decoration-color: #008080; font-weight: bold\">01</span>-<span style=\"color: #008080; text-decoration-color: #008080; font-weight: bold\">56</span>                                                <span style=\"color: #7f7f7f; text-decoration-color: #7f7f7f\">                 </span>\n</pre>\n"
     },
     "metadata": {},
     "output_type": "display_data"
    }
   ],
   "source": [
    "# Delete any sagemaker core resource objects created in this notebook\n",
    "def delete_all_sagemaker_resources():\n",
    "    all_objects = list(locals().values()) + list(globals().values())\n",
    "    deletable_objects = [obj for obj in all_objects if hasattr(obj, 'delete') and obj.__class__.__module__ == 'sagemaker_core.main.resources']\n",
    "    \n",
    "    for obj in deletable_objects:\n",
    "        obj.delete()\n",
    "        \n",
    "delete_all_sagemaker_resources()"
   ]
  }
 ],
 "metadata": {
  "kernelspec": {
   "display_name": "Python 3 (ipykernel)",
   "language": "python",
   "name": "python3"
  },
  "language_info": {
   "codemirror_mode": {
    "name": "ipython",
    "version": 3
   },
   "file_extension": ".py",
   "mimetype": "text/x-python",
   "name": "python",
   "nbconvert_exporter": "python",
   "pygments_lexer": "ipython3",
   "version": "3.10.14"
  }
 },
 "nbformat": 4,
 "nbformat_minor": 4
}
