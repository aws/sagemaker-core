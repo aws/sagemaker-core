{
 "cells": [
  {
   "cell_type": "markdown",
   "metadata": {},
   "source": [
    "# SageMakerCore Overview of Resource Level Abstractions - XGBoost Training Example"
   ]
  },
  {
   "cell_type": "markdown",
   "metadata": {},
   "source": [
    "---\n",
    "## Introductions\n",
    "SageMakerCore is a Python SDK designed as a lightweight layer over boto3, the AWS SDK for Python. It is built on the concept of resource level abstractions, where SageMaker Resources are represented as Python classes. This approach enables SageMakerCore to simplify the management of SageMaker Resources and provide a more object-oriented programming interface.\n",
    "\n",
    "### Resource Level Abstraction\n",
    "Resource Level Abstractions can be best understood by examining how the AWS TrainingJob APIs are transfromed into a TrainingJob Python class abstraction in SageMakerCore.\n",
    "\n",
    "For instance, an AWS TrainingJob has the following APIs:\n",
    "1. CreateTrainingJob\n",
    "2. DescribeTrainingJob\n",
    "3. UpdateTrainingJob\n",
    "4. StopTrainingJob\n",
    "5. ListTrainingJobs\n",
    "\n",
    "In SageMakerCore, these APIs are encapsulated within a TrainingJob class that exposes these operations as methods and attributes. The details of the TrainingJob class are below:"
   ]
  },
  {
   "cell_type": "markdown",
   "metadata": {},
   "source": [
    "```python\n",
    "class TrainingJob(Base):\n",
    "    # Class attributes are mapped to describe_training_job response\n",
    "    training_job_name: str\n",
    "    training_job_arn: Optional[str] = Unassigned()\n",
    "    tuning_job_arn: Optional[str] = Unassigned()\n",
    "    labeling_job_arn: Optional[str] = Unassigned()\n",
    "    auto_ml_job_arn: Optional[str] = Unassigned()\n",
    "    model_artifacts: Optional[ModelArtifacts] = Unassigned()\n",
    "    training_job_status: Optional[str] = Unassigned()\n",
    "    ...\n",
    "\n",
    "    @classmethod\n",
    "    def create():       # Calls `create_training_job`\n",
    "\n",
    "    @classmethod\n",
    "    def get():          # Calls `describe_training_job`\n",
    "\n",
    "    @classmethod\n",
    "    def get_all():      # Calls `list_training_job`\n",
    "\n",
    "    \n",
    "    def update():       # Calls `update_training_job`\n",
    "\n",
    "\n",
    "    def stop():         # Calls `stop_training_job`\n",
    "\n",
    "\n",
    "    def refresh():      # Calls `describe_training_job` and refreshes instance attributes\n",
    "\n",
    "\n",
    "    def wait():         # Calls `describe_training_job` and waits for TrainingJob to enter terminal state\n",
    "```"
   ]
  },
  {
   "cell_type": "markdown",
   "metadata": {},
   "source": [
    "## Comparing Boto3 and SageMakerCore SDKs\n",
    "\n",
    "In this notebook, we create an AWS TrainingJob to train an XGBoost Container. We will be using both Boto3 and the SageMakerCore SDKs with the goal of highlighting and comparing the differences in user experience for performing operations such as creating, updating, waiting, and listing AWS TrainingJobs."
   ]
  },
  {
   "cell_type": "markdown",
   "metadata": {},
   "source": [
    "### Install Latest SageMakerCore\n",
    "All SageMakerCore beta distributions will be released to a private s3 bucket. After being allowlisted, run the cells below to install the latest version of SageMakerCore from `s3://sagemaker-core-beta-artifacts/sagemaker_core-latest.tar.gz`\n",
    "\n",
    "Ensure you are using a kernel with python version >=3.8"
   ]
  },
  {
   "cell_type": "code",
   "execution_count": 14,
   "metadata": {
    "ExecuteTime": {
     "end_time": "2024-08-06T00:48:12.477029Z",
     "start_time": "2024-08-06T00:48:11.425806Z"
    }
   },
   "outputs": [
    {
     "name": "stdout",
     "output_type": "stream",
     "text": [
      "Found existing installation: sagemaker-core 0.1.6\r\n",
      "Uninstalling sagemaker-core-0.1.6:\r\n",
      "  Successfully uninstalled sagemaker-core-0.1.6\r\n"
     ]
    }
   ],
   "source": [
    "# Uninstall previous version of sagemaker_core and restart kernel\n",
    "!pip uninstall sagemaker_core -y"
   ]
  },
  {
   "cell_type": "code",
   "execution_count": 15,
   "metadata": {
    "ExecuteTime": {
     "end_time": "2024-08-06T00:48:12.615181Z",
     "start_time": "2024-08-06T00:48:12.478453Z"
    }
   },
   "outputs": [
    {
     "name": "stdout",
     "output_type": "stream",
     "text": [
      "mkdir: dist: File exists\r\n"
     ]
    }
   ],
   "source": [
    "# Make dist/ directory to hold the sagemaker_core beta distribution file\n",
    "!mkdir dist"
   ]
  },
  {
   "cell_type": "code",
   "execution_count": 16,
   "metadata": {
    "ExecuteTime": {
     "end_time": "2024-08-06T00:48:17.799530Z",
     "start_time": "2024-08-06T00:48:12.616890Z"
    }
   },
   "outputs": [
    {
     "name": "stdout",
     "output_type": "stream",
     "text": [
      "download: s3://sagemaker-core-beta-artifacts/sagemaker_core-latest.tar.gz to dist/sagemaker_core-latest.tar.gz\r\n",
      "Processing ./dist/sagemaker_core-latest.tar.gz\r\n",
      "  Installing build dependencies ... \u001B[?25ldone\r\n",
      "\u001B[?25h  Getting requirements to build wheel ... \u001B[?25ldone\r\n",
      "\u001B[?25h  Preparing metadata (pyproject.toml) ... \u001B[?25ldone\r\n",
      "\u001B[?25hRequirement already satisfied: boto3<2.0.0,>=1.34.0 in /Users/nargokul/.pyenv/versions/3.8.18/lib/python3.8/site-packages (from sagemaker-core==0.1.6) (1.34.154)\r\n",
      "Requirement already satisfied: pydantic<3.0.0,>=2.7.0 in /Users/nargokul/.pyenv/versions/3.8.18/lib/python3.8/site-packages (from sagemaker-core==0.1.6) (2.8.2)\r\n",
      "Requirement already satisfied: PyYAML<7.0,>=6.0 in /Users/nargokul/.pyenv/versions/3.8.18/lib/python3.8/site-packages (from sagemaker-core==0.1.6) (6.0.1)\r\n",
      "Requirement already satisfied: jsonschema<5.0.0 in /Users/nargokul/.pyenv/versions/3.8.18/lib/python3.8/site-packages (from sagemaker-core==0.1.6) (4.22.0)\r\n",
      "Requirement already satisfied: platformdirs<5.0.0,>=4.0.0 in /Users/nargokul/.pyenv/versions/3.8.18/lib/python3.8/site-packages (from sagemaker-core==0.1.6) (4.2.0)\r\n",
      "Requirement already satisfied: botocore<1.35.0,>=1.34.154 in /Users/nargokul/.pyenv/versions/3.8.18/lib/python3.8/site-packages (from boto3<2.0.0,>=1.34.0->sagemaker-core==0.1.6) (1.34.154)\r\n",
      "Requirement already satisfied: jmespath<2.0.0,>=0.7.1 in /Users/nargokul/.pyenv/versions/3.8.18/lib/python3.8/site-packages (from boto3<2.0.0,>=1.34.0->sagemaker-core==0.1.6) (1.0.1)\r\n",
      "Requirement already satisfied: s3transfer<0.11.0,>=0.10.0 in /Users/nargokul/.pyenv/versions/3.8.18/lib/python3.8/site-packages (from boto3<2.0.0,>=1.34.0->sagemaker-core==0.1.6) (0.10.1)\r\n",
      "Requirement already satisfied: attrs>=22.2.0 in /Users/nargokul/.pyenv/versions/3.8.18/lib/python3.8/site-packages (from jsonschema<5.0.0->sagemaker-core==0.1.6) (23.2.0)\r\n",
      "Requirement already satisfied: importlib-resources>=1.4.0 in /Users/nargokul/.pyenv/versions/3.8.18/lib/python3.8/site-packages (from jsonschema<5.0.0->sagemaker-core==0.1.6) (6.4.0)\r\n",
      "Requirement already satisfied: jsonschema-specifications>=2023.03.6 in /Users/nargokul/.pyenv/versions/3.8.18/lib/python3.8/site-packages (from jsonschema<5.0.0->sagemaker-core==0.1.6) (2023.12.1)\r\n",
      "Requirement already satisfied: pkgutil-resolve-name>=1.3.10 in /Users/nargokul/.pyenv/versions/3.8.18/lib/python3.8/site-packages (from jsonschema<5.0.0->sagemaker-core==0.1.6) (1.3.10)\r\n",
      "Requirement already satisfied: referencing>=0.28.4 in /Users/nargokul/.pyenv/versions/3.8.18/lib/python3.8/site-packages (from jsonschema<5.0.0->sagemaker-core==0.1.6) (0.35.1)\r\n",
      "Requirement already satisfied: rpds-py>=0.7.1 in /Users/nargokul/.pyenv/versions/3.8.18/lib/python3.8/site-packages (from jsonschema<5.0.0->sagemaker-core==0.1.6) (0.18.1)\r\n",
      "Requirement already satisfied: annotated-types>=0.4.0 in /Users/nargokul/.pyenv/versions/3.8.18/lib/python3.8/site-packages (from pydantic<3.0.0,>=2.7.0->sagemaker-core==0.1.6) (0.7.0)\r\n",
      "Requirement already satisfied: pydantic-core==2.20.1 in /Users/nargokul/.pyenv/versions/3.8.18/lib/python3.8/site-packages (from pydantic<3.0.0,>=2.7.0->sagemaker-core==0.1.6) (2.20.1)\r\n",
      "Requirement already satisfied: typing-extensions>=4.6.1 in /Users/nargokul/.pyenv/versions/3.8.18/lib/python3.8/site-packages (from pydantic<3.0.0,>=2.7.0->sagemaker-core==0.1.6) (4.11.0)\r\n",
      "Requirement already satisfied: python-dateutil<3.0.0,>=2.1 in /Users/nargokul/.pyenv/versions/3.8.18/lib/python3.8/site-packages (from botocore<1.35.0,>=1.34.154->boto3<2.0.0,>=1.34.0->sagemaker-core==0.1.6) (2.9.0.post0)\r\n",
      "Requirement already satisfied: urllib3<1.27,>=1.25.4 in /Users/nargokul/.pyenv/versions/3.8.18/lib/python3.8/site-packages (from botocore<1.35.0,>=1.34.154->boto3<2.0.0,>=1.34.0->sagemaker-core==0.1.6) (1.26.18)\r\n",
      "Requirement already satisfied: zipp>=3.1.0 in /Users/nargokul/.pyenv/versions/3.8.18/lib/python3.8/site-packages (from importlib-resources>=1.4.0->jsonschema<5.0.0->sagemaker-core==0.1.6) (3.19.2)\r\n",
      "Requirement already satisfied: six>=1.5 in /Users/nargokul/.pyenv/versions/3.8.18/lib/python3.8/site-packages (from python-dateutil<3.0.0,>=2.1->botocore<1.35.0,>=1.34.154->boto3<2.0.0,>=1.34.0->sagemaker-core==0.1.6) (1.16.0)\r\n",
      "Building wheels for collected packages: sagemaker-core\r\n",
      "  Building wheel for sagemaker-core (pyproject.toml) ... \u001B[?25ldone\r\n",
      "\u001B[?25h  Created wheel for sagemaker-core: filename=sagemaker_core-0.1.6-py3-none-any.whl size=357502 sha256=b207d1dfe61d75ac3d0f6b04c1da2002521018a737c42d2f3770a2cbe3240c45\r\n",
      "  Stored in directory: /Users/nargokul/Library/Caches/pip/wheels/74/1b/f8/a46fab7eb9574f2958d6a1c9b508a0718941bc8cd1eaafd44f\r\n",
      "Successfully built sagemaker-core\r\n",
      "Installing collected packages: sagemaker-core\r\n",
      "Successfully installed sagemaker-core-0.1.6\r\n",
      "\r\n",
      "\u001B[1m[\u001B[0m\u001B[34;49mnotice\u001B[0m\u001B[1;39;49m]\u001B[0m\u001B[39;49m A new release of pip is available: \u001B[0m\u001B[31;49m24.0\u001B[0m\u001B[39;49m -> \u001B[0m\u001B[32;49m24.2\u001B[0m\r\n",
      "\u001B[1m[\u001B[0m\u001B[34;49mnotice\u001B[0m\u001B[1;39;49m]\u001B[0m\u001B[39;49m To update, run: \u001B[0m\u001B[32;49mpip install --upgrade pip\u001B[0m\r\n"
     ]
    }
   ],
   "source": [
    "# Download and Install the latest version of sagemaker_core\n",
    "!aws s3 cp s3://sagemaker-core-beta-artifacts/sagemaker_core-latest.tar.gz dist/\n",
    "\n",
    "!pip install dist/sagemaker_core-latest.tar.gz"
   ]
  },
  {
   "cell_type": "code",
   "execution_count": 17,
   "metadata": {
    "ExecuteTime": {
     "end_time": "2024-08-06T00:48:18.795724Z",
     "start_time": "2024-08-06T00:48:17.799949Z"
    }
   },
   "outputs": [
    {
     "name": "stdout",
     "output_type": "stream",
     "text": [
      "Name: sagemaker-core\r\n",
      "Version: 0.1.6\r\n",
      "Summary: An python package for sagemaker core functionalities\r\n",
      "Home-page: \r\n",
      "Author: \r\n",
      "Author-email: AWS <sagemaker-interests@amazon.com>\r\n",
      "License: \r\n",
      "Location: /Users/nargokul/.pyenv/versions/3.8.18/lib/python3.8/site-packages\r\n",
      "Requires: boto3, jsonschema, platformdirs, pydantic, PyYAML\r\n",
      "Required-by: \r\n",
      "Metadata-Version: 2.1\r\n",
      "Installer: pip\r\n",
      "Classifiers:\r\n",
      "  Development Status :: 3 - Alpha\r\n",
      "  Intended Audience :: Developers\r\n",
      "  License :: OSI Approved :: Apache Software License\r\n",
      "  Programming Language :: Python :: 3.8\r\n",
      "  Programming Language :: Python :: 3.9\r\n",
      "  Programming Language :: Python :: 3.10\r\n",
      "Entry-points:\r\n",
      "Project-URLs:\r\n",
      "  Repository, https://github.com/aws/sagemaker-core.git\r\n"
     ]
    }
   ],
   "source": [
    "# Check the version of sagemaker_core\n",
    "!pip show -v sagemaker_core"
   ]
  },
  {
   "cell_type": "markdown",
   "metadata": {},
   "source": [
    "### Install Additional Packages"
   ]
  },
  {
   "cell_type": "code",
   "execution_count": 18,
   "metadata": {
    "ExecuteTime": {
     "end_time": "2024-08-06T00:48:20.720263Z",
     "start_time": "2024-08-06T00:48:18.798805Z"
    }
   },
   "outputs": [
    {
     "name": "stdout",
     "output_type": "stream",
     "text": [
      "Requirement already satisfied: sagemaker in /Users/nargokul/.pyenv/versions/3.8.18/lib/python3.8/site-packages (2.227.0)\r\n",
      "Requirement already satisfied: scikit-learn in /Users/nargokul/.pyenv/versions/3.8.18/lib/python3.8/site-packages (1.3.2)\r\n",
      "Requirement already satisfied: pandas in /Users/nargokul/.pyenv/versions/3.8.18/lib/python3.8/site-packages (2.0.3)\r\n",
      "Requirement already satisfied: boto3 in /Users/nargokul/.pyenv/versions/3.8.18/lib/python3.8/site-packages (1.34.154)\r\n",
      "Requirement already satisfied: rich in /Users/nargokul/.pyenv/versions/3.8.18/lib/python3.8/site-packages (13.7.1)\r\n",
      "Requirement already satisfied: attrs<24,>=23.1.0 in /Users/nargokul/.pyenv/versions/3.8.18/lib/python3.8/site-packages (from sagemaker) (23.2.0)\r\n",
      "Requirement already satisfied: cloudpickle==2.2.1 in /Users/nargokul/.pyenv/versions/3.8.18/lib/python3.8/site-packages (from sagemaker) (2.2.1)\r\n",
      "Requirement already satisfied: google-pasta in /Users/nargokul/.pyenv/versions/3.8.18/lib/python3.8/site-packages (from sagemaker) (0.2.0)\r\n",
      "Requirement already satisfied: numpy<2.0,>=1.9.0 in /Users/nargokul/.pyenv/versions/3.8.18/lib/python3.8/site-packages (from sagemaker) (1.24.4)\r\n",
      "Requirement already satisfied: protobuf<5.0,>=3.12 in /Users/nargokul/.pyenv/versions/3.8.18/lib/python3.8/site-packages (from sagemaker) (4.25.3)\r\n",
      "Requirement already satisfied: smdebug-rulesconfig==1.0.1 in /Users/nargokul/.pyenv/versions/3.8.18/lib/python3.8/site-packages (from sagemaker) (1.0.1)\r\n",
      "Requirement already satisfied: importlib-metadata<7.0,>=1.4.0 in /Users/nargokul/.pyenv/versions/3.8.18/lib/python3.8/site-packages (from sagemaker) (6.11.0)\r\n",
      "Requirement already satisfied: packaging>=20.0 in /Users/nargokul/.pyenv/versions/3.8.18/lib/python3.8/site-packages (from sagemaker) (24.0)\r\n",
      "Requirement already satisfied: pathos in /Users/nargokul/.pyenv/versions/3.8.18/lib/python3.8/site-packages (from sagemaker) (0.3.2)\r\n",
      "Requirement already satisfied: schema in /Users/nargokul/.pyenv/versions/3.8.18/lib/python3.8/site-packages (from sagemaker) (0.7.7)\r\n",
      "Requirement already satisfied: PyYAML~=6.0 in /Users/nargokul/.pyenv/versions/3.8.18/lib/python3.8/site-packages (from sagemaker) (6.0.1)\r\n",
      "Requirement already satisfied: jsonschema in /Users/nargokul/.pyenv/versions/3.8.18/lib/python3.8/site-packages (from sagemaker) (4.22.0)\r\n",
      "Requirement already satisfied: platformdirs in /Users/nargokul/.pyenv/versions/3.8.18/lib/python3.8/site-packages (from sagemaker) (4.2.0)\r\n",
      "Requirement already satisfied: tblib<4,>=1.7.0 in /Users/nargokul/.pyenv/versions/3.8.18/lib/python3.8/site-packages (from sagemaker) (3.0.0)\r\n",
      "Requirement already satisfied: urllib3<3.0.0,>=1.26.8 in /Users/nargokul/.pyenv/versions/3.8.18/lib/python3.8/site-packages (from sagemaker) (1.26.18)\r\n",
      "Requirement already satisfied: requests in /Users/nargokul/.pyenv/versions/3.8.18/lib/python3.8/site-packages (from sagemaker) (2.32.3)\r\n",
      "Requirement already satisfied: docker in /Users/nargokul/.pyenv/versions/3.8.18/lib/python3.8/site-packages (from sagemaker) (7.1.0)\r\n",
      "Requirement already satisfied: tqdm in /Users/nargokul/.pyenv/versions/3.8.18/lib/python3.8/site-packages (from sagemaker) (4.66.4)\r\n",
      "Requirement already satisfied: psutil in /Users/nargokul/.pyenv/versions/3.8.18/lib/python3.8/site-packages (from sagemaker) (5.9.8)\r\n",
      "Requirement already satisfied: scipy>=1.5.0 in /Users/nargokul/.pyenv/versions/3.8.18/lib/python3.8/site-packages (from scikit-learn) (1.10.1)\r\n",
      "Requirement already satisfied: joblib>=1.1.1 in /Users/nargokul/.pyenv/versions/3.8.18/lib/python3.8/site-packages (from scikit-learn) (1.4.2)\r\n",
      "Requirement already satisfied: threadpoolctl>=2.0.0 in /Users/nargokul/.pyenv/versions/3.8.18/lib/python3.8/site-packages (from scikit-learn) (3.5.0)\r\n",
      "Requirement already satisfied: python-dateutil>=2.8.2 in /Users/nargokul/.pyenv/versions/3.8.18/lib/python3.8/site-packages (from pandas) (2.9.0.post0)\r\n",
      "Requirement already satisfied: pytz>=2020.1 in /Users/nargokul/.pyenv/versions/3.8.18/lib/python3.8/site-packages (from pandas) (2024.1)\r\n",
      "Requirement already satisfied: tzdata>=2022.1 in /Users/nargokul/.pyenv/versions/3.8.18/lib/python3.8/site-packages (from pandas) (2024.1)\r\n",
      "Requirement already satisfied: botocore<1.35.0,>=1.34.154 in /Users/nargokul/.pyenv/versions/3.8.18/lib/python3.8/site-packages (from boto3) (1.34.154)\r\n",
      "Requirement already satisfied: jmespath<2.0.0,>=0.7.1 in /Users/nargokul/.pyenv/versions/3.8.18/lib/python3.8/site-packages (from boto3) (1.0.1)\r\n",
      "Requirement already satisfied: s3transfer<0.11.0,>=0.10.0 in /Users/nargokul/.pyenv/versions/3.8.18/lib/python3.8/site-packages (from boto3) (0.10.1)\r\n",
      "Requirement already satisfied: markdown-it-py>=2.2.0 in /Users/nargokul/.pyenv/versions/3.8.18/lib/python3.8/site-packages (from rich) (3.0.0)\r\n",
      "Requirement already satisfied: pygments<3.0.0,>=2.13.0 in /Users/nargokul/.pyenv/versions/3.8.18/lib/python3.8/site-packages (from rich) (2.18.0)\r\n",
      "Requirement already satisfied: typing-extensions<5.0,>=4.0.0 in /Users/nargokul/.pyenv/versions/3.8.18/lib/python3.8/site-packages (from rich) (4.11.0)\r\n",
      "Requirement already satisfied: zipp>=0.5 in /Users/nargokul/.pyenv/versions/3.8.18/lib/python3.8/site-packages (from importlib-metadata<7.0,>=1.4.0->sagemaker) (3.19.2)\r\n",
      "Requirement already satisfied: mdurl~=0.1 in /Users/nargokul/.pyenv/versions/3.8.18/lib/python3.8/site-packages (from markdown-it-py>=2.2.0->rich) (0.1.2)\r\n",
      "Requirement already satisfied: six>=1.5 in /Users/nargokul/.pyenv/versions/3.8.18/lib/python3.8/site-packages (from python-dateutil>=2.8.2->pandas) (1.16.0)\r\n",
      "Requirement already satisfied: charset-normalizer<4,>=2 in /Users/nargokul/.pyenv/versions/3.8.18/lib/python3.8/site-packages (from requests->sagemaker) (3.3.2)\r\n",
      "Requirement already satisfied: idna<4,>=2.5 in /Users/nargokul/.pyenv/versions/3.8.18/lib/python3.8/site-packages (from requests->sagemaker) (3.7)\r\n",
      "Requirement already satisfied: certifi>=2017.4.17 in /Users/nargokul/.pyenv/versions/3.8.18/lib/python3.8/site-packages (from requests->sagemaker) (2024.6.2)\r\n",
      "Requirement already satisfied: importlib-resources>=1.4.0 in /Users/nargokul/.pyenv/versions/3.8.18/lib/python3.8/site-packages (from jsonschema->sagemaker) (6.4.0)\r\n",
      "Requirement already satisfied: jsonschema-specifications>=2023.03.6 in /Users/nargokul/.pyenv/versions/3.8.18/lib/python3.8/site-packages (from jsonschema->sagemaker) (2023.12.1)\r\n",
      "Requirement already satisfied: pkgutil-resolve-name>=1.3.10 in /Users/nargokul/.pyenv/versions/3.8.18/lib/python3.8/site-packages (from jsonschema->sagemaker) (1.3.10)\r\n",
      "Requirement already satisfied: referencing>=0.28.4 in /Users/nargokul/.pyenv/versions/3.8.18/lib/python3.8/site-packages (from jsonschema->sagemaker) (0.35.1)\r\n",
      "Requirement already satisfied: rpds-py>=0.7.1 in /Users/nargokul/.pyenv/versions/3.8.18/lib/python3.8/site-packages (from jsonschema->sagemaker) (0.18.1)\r\n",
      "Requirement already satisfied: ppft>=1.7.6.8 in /Users/nargokul/.pyenv/versions/3.8.18/lib/python3.8/site-packages (from pathos->sagemaker) (1.7.6.8)\r\n",
      "Requirement already satisfied: dill>=0.3.8 in /Users/nargokul/.pyenv/versions/3.8.18/lib/python3.8/site-packages (from pathos->sagemaker) (0.3.8)\r\n",
      "Requirement already satisfied: pox>=0.3.4 in /Users/nargokul/.pyenv/versions/3.8.18/lib/python3.8/site-packages (from pathos->sagemaker) (0.3.4)\r\n",
      "Requirement already satisfied: multiprocess>=0.70.16 in /Users/nargokul/.pyenv/versions/3.8.18/lib/python3.8/site-packages (from pathos->sagemaker) (0.70.16)\r\n",
      "\r\n",
      "\u001B[1m[\u001B[0m\u001B[34;49mnotice\u001B[0m\u001B[1;39;49m]\u001B[0m\u001B[39;49m A new release of pip is available: \u001B[0m\u001B[31;49m24.0\u001B[0m\u001B[39;49m -> \u001B[0m\u001B[32;49m24.2\u001B[0m\r\n",
      "\u001B[1m[\u001B[0m\u001B[34;49mnotice\u001B[0m\u001B[1;39;49m]\u001B[0m\u001B[39;49m To update, run: \u001B[0m\u001B[32;49mpip install --upgrade pip\u001B[0m\r\n"
     ]
    }
   ],
   "source": [
    "# Install additional packages\n",
    "\n",
    "!pip install -U sagemaker scikit-learn pandas boto3 rich"
   ]
  },
  {
   "cell_type": "markdown",
   "metadata": {},
   "source": [
    "### Setup\n",
    "\n",
    "Let's start by specifying:\n",
    "- AWS region.\n",
    "- The IAM role arn used to give learning and hosting access to your data. Ensure your enviornment has AWS Credentials configured.\n",
    "- The S3 bucket that you want to use for storing training and model data."
   ]
  },
  {
   "cell_type": "code",
   "execution_count": 19,
   "metadata": {
    "ExecuteTime": {
     "end_time": "2024-08-06T00:48:22.220439Z",
     "start_time": "2024-08-06T00:48:20.727301Z"
    }
   },
   "outputs": [
    {
     "data": {
      "text/plain": "arn:aws:iam::\u001B[1;36m211125564141\u001B[0m:role/Admin\n",
      "text/html": "<pre style=\"white-space:pre;overflow-x:auto;line-height:normal;font-family:Menlo,'DejaVu Sans Mono',consolas,'Courier New',monospace\">arn:aws:iam::<span style=\"color: #008080; text-decoration-color: #008080; font-weight: bold\">211125564141</span>:role/Admin\n</pre>\n"
     },
     "metadata": {},
     "output_type": "display_data"
    }
   ],
   "source": [
    "from sagemaker import get_execution_role, Session\n",
    "from rich import print\n",
    "\n",
    "# Get region, role, bucket\n",
    "\n",
    "sagemaker_session = Session()\n",
    "region = sagemaker_session.boto_region_name\n",
    "role = get_execution_role()\n",
    "bucket = sagemaker_session.default_bucket()\n",
    "print(role)"
   ]
  },
  {
   "cell_type": "markdown",
   "metadata": {},
   "source": [
    "### Load and Prepare Dataset\n",
    "For this example, we will be using the IRIS data set from `sklearn.datasets` to train our XGBoost container."
   ]
  },
  {
   "cell_type": "code",
   "execution_count": 20,
   "metadata": {
    "ExecuteTime": {
     "end_time": "2024-08-06T00:48:22.220686Z",
     "start_time": "2024-08-06T00:48:22.213800Z"
    }
   },
   "outputs": [],
   "source": [
    "from sklearn.datasets import load_iris\n",
    "from sklearn.model_selection import train_test_split\n",
    "\n",
    "import pandas as pd\n",
    "\n",
    "# Get IRIS Data\n",
    "\n",
    "iris = load_iris()\n",
    "iris_df = pd.DataFrame(iris.data, columns=iris.feature_names)\n",
    "iris_df['target'] = iris.target"
   ]
  },
  {
   "cell_type": "code",
   "execution_count": 21,
   "metadata": {
    "ExecuteTime": {
     "end_time": "2024-08-06T00:48:22.230187Z",
     "start_time": "2024-08-06T00:48:22.222208Z"
    }
   },
   "outputs": [],
   "source": [
    "import os\n",
    "\n",
    "# Prepare Data\n",
    "\n",
    "os.makedirs('./data', exist_ok=True)\n",
    "\n",
    "iris_df = iris_df[['target'] + [col for col in iris_df.columns if col != 'target']]\n",
    "\n",
    "train_data, test_data = train_test_split(iris_df, test_size=0.2, random_state=42)\n",
    "\n",
    "train_data.to_csv('./data/train.csv', index=False, header=False)"
   ]
  },
  {
   "cell_type": "markdown",
   "metadata": {},
   "source": [
    "### Upload Data to S3\n",
    "In this step, we will upload the train and test data to the S3 bucket configured earlier using `sagemaker_session.default_bucket()`"
   ]
  },
  {
   "cell_type": "code",
   "execution_count": 22,
   "metadata": {
    "ExecuteTime": {
     "end_time": "2024-08-06T00:48:22.408525Z",
     "start_time": "2024-08-06T00:48:22.230946Z"
    }
   },
   "outputs": [
    {
     "data": {
      "text/plain": "s3:\u001B[35m/\u001B[0m\u001B[35m/sagemaker-us-west-2-211125564141/DEMO-scikit-iris/data/\u001B[0m\u001B[95mtrain.csv\u001B[0m\n",
      "text/html": "<pre style=\"white-space:pre;overflow-x:auto;line-height:normal;font-family:Menlo,'DejaVu Sans Mono',consolas,'Courier New',monospace\">s3:<span style=\"color: #800080; text-decoration-color: #800080\">//sagemaker-us-west-2-211125564141/DEMO-scikit-iris/data/</span><span style=\"color: #ff00ff; text-decoration-color: #ff00ff\">train.csv</span>\n</pre>\n"
     },
     "metadata": {},
     "output_type": "display_data"
    },
    {
     "data": {
      "text/plain": "s3:\u001B[35m/\u001B[0m\u001B[35m/sagemaker-us-west-2-211125564141/DEMO-scikit-iris/\u001B[0m\u001B[95moutput\u001B[0m\n",
      "text/html": "<pre style=\"white-space:pre;overflow-x:auto;line-height:normal;font-family:Menlo,'DejaVu Sans Mono',consolas,'Courier New',monospace\">s3:<span style=\"color: #800080; text-decoration-color: #800080\">//sagemaker-us-west-2-211125564141/DEMO-scikit-iris/</span><span style=\"color: #ff00ff; text-decoration-color: #ff00ff\">output</span>\n</pre>\n"
     },
     "metadata": {},
     "output_type": "display_data"
    }
   ],
   "source": [
    "# Upload Data\n",
    "\n",
    "prefix = \"DEMO-scikit-iris\"\n",
    "TRAIN_DATA = \"train.csv\"\n",
    "DATA_DIRECTORY = \"data\"\n",
    "\n",
    "train_input = sagemaker_session.upload_data(\n",
    "    DATA_DIRECTORY, bucket=bucket, key_prefix=\"{}/{}\".format(prefix, DATA_DIRECTORY)\n",
    ")\n",
    "\n",
    "s3_input_path = \"s3://{}/{}/data/{}\".format(bucket, prefix, TRAIN_DATA)\n",
    "s3_output_path = \"s3://{}/{}/output\".format(bucket, prefix)\n",
    "\n",
    "print(s3_input_path)\n",
    "print(s3_output_path)"
   ]
  },
  {
   "cell_type": "markdown",
   "metadata": {},
   "source": [
    "### Fetch the XGBoost Image URI\n",
    "In this step, we will fetch the XGBoost Image URI we will use as an input parameter when creating an AWS TrainingJob"
   ]
  },
  {
   "cell_type": "code",
   "execution_count": 23,
   "metadata": {
    "ExecuteTime": {
     "end_time": "2024-08-06T00:48:22.424225Z",
     "start_time": "2024-08-06T00:48:22.404316Z"
    }
   },
   "outputs": [
    {
     "data": {
      "text/plain": "\u001B[1;36m433757028032.\u001B[0mdkr.ecr.us-west-\u001B[1;36m2.\u001B[0mamazonaws.com/xgboost:latest\n",
      "text/html": "<pre style=\"white-space:pre;overflow-x:auto;line-height:normal;font-family:Menlo,'DejaVu Sans Mono',consolas,'Courier New',monospace\"><span style=\"color: #008080; text-decoration-color: #008080; font-weight: bold\">433757028032.</span>dkr.ecr.us-west-<span style=\"color: #008080; text-decoration-color: #008080; font-weight: bold\">2.</span>amazonaws.com/xgboost:latest\n</pre>\n"
     },
     "metadata": {},
     "output_type": "display_data"
    }
   ],
   "source": [
    "from sagemaker import image_uris\n",
    "\n",
    "# Fetch XGBOOST image\n",
    "\n",
    "image = image_uris.retrieve(framework='xgboost', region=region, version=\"latest\")\n",
    "print(image)"
   ]
  },
  {
   "cell_type": "markdown",
   "metadata": {},
   "source": [
    "### Create TrainingJob with Boto3\n",
    "With the necessary setup completed, we can now create an AWS TrainingJob. First we will begin by creating a TrainingJob with Boto3 to understand what the experience is like when interecting directly with low-level APIs through Boto3.\n",
    "\n",
    "When executing the following cells there are a few things to note about the experience with Boto3:\n",
    "1. Boto3 dynamically generates the API operation methods like `create_training_job`. When a client is instantiated, the methods are generated from the JSON service model description and are not statically coded into the boto3 library.\n",
    "2. Boto3 returns a JSON response. As a result, users must either be familiar with the structure of these responses or refer to the documentation to parse them correctly.\n",
    "3. Boto3 client methods expect keyword arguments. Similar to the experience with JSON response, users must be familiar with what keyword argumnets are expected or refer to the documentation to pass them correctly.\n"
   ]
  },
  {
   "cell_type": "code",
   "execution_count": 24,
   "metadata": {
    "ExecuteTime": {
     "end_time": "2024-08-06T00:48:22.865498Z",
     "start_time": "2024-08-06T00:48:22.424097Z"
    }
   },
   "outputs": [
    {
     "data": {
      "text/plain": "\u001B[1m{\u001B[0m\n    \u001B[32m'TrainingJobArn'\u001B[0m: \u001B[32m'arn:aws:sagemaker:us-west-2:211125564141:training-job/xgboost-iris-2024-08-06-00-48-22'\u001B[0m,\n    \u001B[32m'ResponseMetadata'\u001B[0m: \u001B[1m{\u001B[0m\n        \u001B[32m'RequestId'\u001B[0m: \u001B[32m'b463eb86-fb53-426e-b55b-2176329eb3a4'\u001B[0m,\n        \u001B[32m'HTTPStatusCode'\u001B[0m: \u001B[1;36m200\u001B[0m,\n        \u001B[32m'HTTPHeaders'\u001B[0m: \u001B[1m{\u001B[0m\n            \u001B[32m'x-amzn-requestid'\u001B[0m: \u001B[32m'b463eb86-fb53-426e-b55b-2176329eb3a4'\u001B[0m,\n            \u001B[32m'content-type'\u001B[0m: \u001B[32m'application/x-amz-json-1.1'\u001B[0m,\n            \u001B[32m'content-length'\u001B[0m: \u001B[32m'107'\u001B[0m,\n            \u001B[32m'date'\u001B[0m: \u001B[32m'Tue, 06 Aug 2024 00:48:22 GMT'\u001B[0m\n        \u001B[1m}\u001B[0m,\n        \u001B[32m'RetryAttempts'\u001B[0m: \u001B[1;36m0\u001B[0m\n    \u001B[1m}\u001B[0m\n\u001B[1m}\u001B[0m\n",
      "text/html": "<pre style=\"white-space:pre;overflow-x:auto;line-height:normal;font-family:Menlo,'DejaVu Sans Mono',consolas,'Courier New',monospace\"><span style=\"font-weight: bold\">{</span>\n    <span style=\"color: #008000; text-decoration-color: #008000\">'TrainingJobArn'</span>: <span style=\"color: #008000; text-decoration-color: #008000\">'arn:aws:sagemaker:us-west-2:211125564141:training-job/xgboost-iris-2024-08-06-00-48-22'</span>,\n    <span style=\"color: #008000; text-decoration-color: #008000\">'ResponseMetadata'</span>: <span style=\"font-weight: bold\">{</span>\n        <span style=\"color: #008000; text-decoration-color: #008000\">'RequestId'</span>: <span style=\"color: #008000; text-decoration-color: #008000\">'b463eb86-fb53-426e-b55b-2176329eb3a4'</span>,\n        <span style=\"color: #008000; text-decoration-color: #008000\">'HTTPStatusCode'</span>: <span style=\"color: #008080; text-decoration-color: #008080; font-weight: bold\">200</span>,\n        <span style=\"color: #008000; text-decoration-color: #008000\">'HTTPHeaders'</span>: <span style=\"font-weight: bold\">{</span>\n            <span style=\"color: #008000; text-decoration-color: #008000\">'x-amzn-requestid'</span>: <span style=\"color: #008000; text-decoration-color: #008000\">'b463eb86-fb53-426e-b55b-2176329eb3a4'</span>,\n            <span style=\"color: #008000; text-decoration-color: #008000\">'content-type'</span>: <span style=\"color: #008000; text-decoration-color: #008000\">'application/x-amz-json-1.1'</span>,\n            <span style=\"color: #008000; text-decoration-color: #008000\">'content-length'</span>: <span style=\"color: #008000; text-decoration-color: #008000\">'107'</span>,\n            <span style=\"color: #008000; text-decoration-color: #008000\">'date'</span>: <span style=\"color: #008000; text-decoration-color: #008000\">'Tue, 06 Aug 2024 00:48:22 GMT'</span>\n        <span style=\"font-weight: bold\">}</span>,\n        <span style=\"color: #008000; text-decoration-color: #008000\">'RetryAttempts'</span>: <span style=\"color: #008080; text-decoration-color: #008080; font-weight: bold\">0</span>\n    <span style=\"font-weight: bold\">}</span>\n<span style=\"font-weight: bold\">}</span>\n</pre>\n"
     },
     "metadata": {},
     "output_type": "display_data"
    }
   ],
   "source": [
    "# Create TrainingJob with Boto3\n",
    "\n",
    "import time\n",
    "import boto3\n",
    "\n",
    "client = boto3.client('sagemaker')\n",
    "job_name_boto = 'xgboost-iris-' + time.strftime(\"%Y-%m-%d-%H-%M-%S\", time.gmtime())\n",
    "\n",
    "response = client.create_training_job(\n",
    "    TrainingJobName=job_name_boto,\n",
    "    HyperParameters={\n",
    "        'objective': 'multi:softmax',\n",
    "        'num_class': '3',\n",
    "        'num_round': '10',\n",
    "        'eval_metric': 'merror'\n",
    "    },\n",
    "    AlgorithmSpecification={\n",
    "        'TrainingImage': image,\n",
    "        'TrainingInputMode': 'File'\n",
    "    },\n",
    "    RoleArn=role,\n",
    "    InputDataConfig=[\n",
    "        {\n",
    "            'ChannelName': 'train',\n",
    "            'ContentType': 'csv',\n",
    "            'DataSource': {\n",
    "                'S3DataSource': {\n",
    "                    'S3DataType': 'S3Prefix',\n",
    "                    'S3Uri': s3_input_path,\n",
    "                    'S3DataDistributionType': 'FullyReplicated'\n",
    "                }\n",
    "            },\n",
    "            'CompressionType': 'None',\n",
    "            'RecordWrapperType': 'None'\n",
    "        }\n",
    "    ],\n",
    "    OutputDataConfig={\n",
    "        'S3OutputPath': s3_output_path\n",
    "    },\n",
    "    ResourceConfig={\n",
    "        'InstanceType': 'ml.m4.xlarge',\n",
    "        'InstanceCount': 1,\n",
    "        'VolumeSizeInGB': 30\n",
    "    },\n",
    "    StoppingCondition={\n",
    "        'MaxRuntimeInSeconds': 600\n",
    "    }\n",
    ")\n",
    "print(response)"
   ]
  },
  {
   "cell_type": "markdown",
   "metadata": {},
   "source": [
    "### Wait for TrainingJob with Boto3\n",
    "When a user creates a TrainingJob it is often the case that they would wish to wait on the TrainingJob to complete. Below is an example of how a user wait on a TrainingJob using Boto3. Notebly, this requires creating some logic to poll the TrainingJob using `describe_training_job` until the `TrainingJobStatus` is `'Failed'`, `'Completed'`, or `'Stopped'`."
   ]
  },
  {
   "cell_type": "code",
   "execution_count": 25,
   "metadata": {
    "ExecuteTime": {
     "end_time": "2024-08-06T00:51:00.399598Z",
     "start_time": "2024-08-06T00:48:22.865681Z"
    }
   },
   "outputs": [
    {
     "data": {
      "text/plain": "-",
      "text/html": "<pre style=\"white-space:pre;overflow-x:auto;line-height:normal;font-family:Menlo,'DejaVu Sans Mono',consolas,'Courier New',monospace\">-</pre>\n"
     },
     "metadata": {},
     "output_type": "display_data"
    },
    {
     "data": {
      "text/plain": "-",
      "text/html": "<pre style=\"white-space:pre;overflow-x:auto;line-height:normal;font-family:Menlo,'DejaVu Sans Mono',consolas,'Courier New',monospace\">-</pre>\n"
     },
     "metadata": {},
     "output_type": "display_data"
    },
    {
     "data": {
      "text/plain": "-",
      "text/html": "<pre style=\"white-space:pre;overflow-x:auto;line-height:normal;font-family:Menlo,'DejaVu Sans Mono',consolas,'Courier New',monospace\">-</pre>\n"
     },
     "metadata": {},
     "output_type": "display_data"
    },
    {
     "data": {
      "text/plain": "-",
      "text/html": "<pre style=\"white-space:pre;overflow-x:auto;line-height:normal;font-family:Menlo,'DejaVu Sans Mono',consolas,'Courier New',monospace\">-</pre>\n"
     },
     "metadata": {},
     "output_type": "display_data"
    },
    {
     "data": {
      "text/plain": "-",
      "text/html": "<pre style=\"white-space:pre;overflow-x:auto;line-height:normal;font-family:Menlo,'DejaVu Sans Mono',consolas,'Courier New',monospace\">-</pre>\n"
     },
     "metadata": {},
     "output_type": "display_data"
    },
    {
     "data": {
      "text/plain": "-",
      "text/html": "<pre style=\"white-space:pre;overflow-x:auto;line-height:normal;font-family:Menlo,'DejaVu Sans Mono',consolas,'Courier New',monospace\">-</pre>\n"
     },
     "metadata": {},
     "output_type": "display_data"
    },
    {
     "data": {
      "text/plain": "-",
      "text/html": "<pre style=\"white-space:pre;overflow-x:auto;line-height:normal;font-family:Menlo,'DejaVu Sans Mono',consolas,'Courier New',monospace\">-</pre>\n"
     },
     "metadata": {},
     "output_type": "display_data"
    },
    {
     "data": {
      "text/plain": "-",
      "text/html": "<pre style=\"white-space:pre;overflow-x:auto;line-height:normal;font-family:Menlo,'DejaVu Sans Mono',consolas,'Courier New',monospace\">-</pre>\n"
     },
     "metadata": {},
     "output_type": "display_data"
    },
    {
     "data": {
      "text/plain": "-",
      "text/html": "<pre style=\"white-space:pre;overflow-x:auto;line-height:normal;font-family:Menlo,'DejaVu Sans Mono',consolas,'Courier New',monospace\">-</pre>\n"
     },
     "metadata": {},
     "output_type": "display_data"
    },
    {
     "data": {
      "text/plain": "-",
      "text/html": "<pre style=\"white-space:pre;overflow-x:auto;line-height:normal;font-family:Menlo,'DejaVu Sans Mono',consolas,'Courier New',monospace\">-</pre>\n"
     },
     "metadata": {},
     "output_type": "display_data"
    },
    {
     "data": {
      "text/plain": "-",
      "text/html": "<pre style=\"white-space:pre;overflow-x:auto;line-height:normal;font-family:Menlo,'DejaVu Sans Mono',consolas,'Courier New',monospace\">-</pre>\n"
     },
     "metadata": {},
     "output_type": "display_data"
    },
    {
     "data": {
      "text/plain": "-",
      "text/html": "<pre style=\"white-space:pre;overflow-x:auto;line-height:normal;font-family:Menlo,'DejaVu Sans Mono',consolas,'Courier New',monospace\">-</pre>\n"
     },
     "metadata": {},
     "output_type": "display_data"
    },
    {
     "data": {
      "text/plain": "-",
      "text/html": "<pre style=\"white-space:pre;overflow-x:auto;line-height:normal;font-family:Menlo,'DejaVu Sans Mono',consolas,'Courier New',monospace\">-</pre>\n"
     },
     "metadata": {},
     "output_type": "display_data"
    },
    {
     "data": {
      "text/plain": "-",
      "text/html": "<pre style=\"white-space:pre;overflow-x:auto;line-height:normal;font-family:Menlo,'DejaVu Sans Mono',consolas,'Courier New',monospace\">-</pre>\n"
     },
     "metadata": {},
     "output_type": "display_data"
    },
    {
     "data": {
      "text/plain": "-",
      "text/html": "<pre style=\"white-space:pre;overflow-x:auto;line-height:normal;font-family:Menlo,'DejaVu Sans Mono',consolas,'Courier New',monospace\">-</pre>\n"
     },
     "metadata": {},
     "output_type": "display_data"
    },
    {
     "data": {
      "text/plain": "-",
      "text/html": "<pre style=\"white-space:pre;overflow-x:auto;line-height:normal;font-family:Menlo,'DejaVu Sans Mono',consolas,'Courier New',monospace\">-</pre>\n"
     },
     "metadata": {},
     "output_type": "display_data"
    },
    {
     "data": {
      "text/plain": "-",
      "text/html": "<pre style=\"white-space:pre;overflow-x:auto;line-height:normal;font-family:Menlo,'DejaVu Sans Mono',consolas,'Courier New',monospace\">-</pre>\n"
     },
     "metadata": {},
     "output_type": "display_data"
    },
    {
     "data": {
      "text/plain": "-",
      "text/html": "<pre style=\"white-space:pre;overflow-x:auto;line-height:normal;font-family:Menlo,'DejaVu Sans Mono',consolas,'Courier New',monospace\">-</pre>\n"
     },
     "metadata": {},
     "output_type": "display_data"
    },
    {
     "data": {
      "text/plain": "-",
      "text/html": "<pre style=\"white-space:pre;overflow-x:auto;line-height:normal;font-family:Menlo,'DejaVu Sans Mono',consolas,'Courier New',monospace\">-</pre>\n"
     },
     "metadata": {},
     "output_type": "display_data"
    },
    {
     "data": {
      "text/plain": "-",
      "text/html": "<pre style=\"white-space:pre;overflow-x:auto;line-height:normal;font-family:Menlo,'DejaVu Sans Mono',consolas,'Courier New',monospace\">-</pre>\n"
     },
     "metadata": {},
     "output_type": "display_data"
    },
    {
     "data": {
      "text/plain": "-",
      "text/html": "<pre style=\"white-space:pre;overflow-x:auto;line-height:normal;font-family:Menlo,'DejaVu Sans Mono',consolas,'Courier New',monospace\">-</pre>\n"
     },
     "metadata": {},
     "output_type": "display_data"
    },
    {
     "data": {
      "text/plain": "-",
      "text/html": "<pre style=\"white-space:pre;overflow-x:auto;line-height:normal;font-family:Menlo,'DejaVu Sans Mono',consolas,'Courier New',monospace\">-</pre>\n"
     },
     "metadata": {},
     "output_type": "display_data"
    },
    {
     "data": {
      "text/plain": "-",
      "text/html": "<pre style=\"white-space:pre;overflow-x:auto;line-height:normal;font-family:Menlo,'DejaVu Sans Mono',consolas,'Courier New',monospace\">-</pre>\n"
     },
     "metadata": {},
     "output_type": "display_data"
    },
    {
     "data": {
      "text/plain": "-",
      "text/html": "<pre style=\"white-space:pre;overflow-x:auto;line-height:normal;font-family:Menlo,'DejaVu Sans Mono',consolas,'Courier New',monospace\">-</pre>\n"
     },
     "metadata": {},
     "output_type": "display_data"
    },
    {
     "data": {
      "text/plain": "-",
      "text/html": "<pre style=\"white-space:pre;overflow-x:auto;line-height:normal;font-family:Menlo,'DejaVu Sans Mono',consolas,'Courier New',monospace\">-</pre>\n"
     },
     "metadata": {},
     "output_type": "display_data"
    },
    {
     "data": {
      "text/plain": "-",
      "text/html": "<pre style=\"white-space:pre;overflow-x:auto;line-height:normal;font-family:Menlo,'DejaVu Sans Mono',consolas,'Courier New',monospace\">-</pre>\n"
     },
     "metadata": {},
     "output_type": "display_data"
    },
    {
     "data": {
      "text/plain": "-",
      "text/html": "<pre style=\"white-space:pre;overflow-x:auto;line-height:normal;font-family:Menlo,'DejaVu Sans Mono',consolas,'Courier New',monospace\">-</pre>\n"
     },
     "metadata": {},
     "output_type": "display_data"
    },
    {
     "data": {
      "text/plain": "-",
      "text/html": "<pre style=\"white-space:pre;overflow-x:auto;line-height:normal;font-family:Menlo,'DejaVu Sans Mono',consolas,'Courier New',monospace\">-</pre>\n"
     },
     "metadata": {},
     "output_type": "display_data"
    },
    {
     "data": {
      "text/plain": "-",
      "text/html": "<pre style=\"white-space:pre;overflow-x:auto;line-height:normal;font-family:Menlo,'DejaVu Sans Mono',consolas,'Courier New',monospace\">-</pre>\n"
     },
     "metadata": {},
     "output_type": "display_data"
    },
    {
     "data": {
      "text/plain": "-",
      "text/html": "<pre style=\"white-space:pre;overflow-x:auto;line-height:normal;font-family:Menlo,'DejaVu Sans Mono',consolas,'Courier New',monospace\">-</pre>\n"
     },
     "metadata": {},
     "output_type": "display_data"
    },
    {
     "data": {
      "text/plain": "-",
      "text/html": "<pre style=\"white-space:pre;overflow-x:auto;line-height:normal;font-family:Menlo,'DejaVu Sans Mono',consolas,'Courier New',monospace\">-</pre>\n"
     },
     "metadata": {},
     "output_type": "display_data"
    }
   ],
   "source": [
    "# Wait for TrainingJob with Boto3\n",
    "import time\n",
    "\n",
    "while True:\n",
    "    response = client.describe_training_job(TrainingJobName=job_name_boto)\n",
    "    status = response['TrainingJobStatus']\n",
    "    if status in ['Failed', 'Completed', 'Stopped']:\n",
    "        if status == 'Failed':\n",
    "            print(response['FailureReason'])\n",
    "        break\n",
    "    print(\"-\", end=\"\")\n",
    "    time.sleep(5)"
   ]
  },
  {
   "cell_type": "markdown",
   "metadata": {},
   "source": [
    "### Create TrainingJob with SageMakerCore\n",
    "In this step we will use SageMakerCore to create a TrainingJob to understand what experience the object-oriented resource level abstractions provide for users.\n",
    "\n",
    "When executing the following cells, there are a few things to note about the experience with SageMakerCore:\n",
    "1. SageMakerCore generates Python classes and methods from the service model JSON, similar to Boto3. However, this generation is done prior to a release, resulting in a statically coded interface in the library.\n",
    "2. SageMakerCore adopts an object-oriented approach, providing users with clear visibility of available methods and attributes through type hinting and IDE IntelliSense\n",
    "3. Instead of returning JSON responses like Boto3, SageMakerCore returns objects. This allows users to access response attributes directly from the returned object, eliminating the need to parse JSON or refer to the documentation for structure details."
   ]
  },
  {
   "cell_type": "code",
   "execution_count": 26,
   "metadata": {
    "ExecuteTime": {
     "end_time": "2024-08-06T00:51:02.646043Z",
     "start_time": "2024-08-06T00:51:00.402196Z"
    }
   },
   "outputs": [
    {
     "name": "stderr",
     "output_type": "stream",
     "text": [
      "/Library/Python/3.9/site-packages/pydantic/_internal/_fields.py:200: UserWarning: Field name \"json\" in \"MonitoringDatasetFormat\" shadows an attribute in parent \"Base\"\n",
      "  warnings.warn(\n"
     ]
    },
    {
     "data": {
      "text/plain": "\u001B[2;36m[08/05/24 17:51:01]\u001B[0m\u001B[2;36m \u001B[0m\u001B[34mINFO    \u001B[0m INFO:sagemaker_core.main.resources:Creating training_job resource.  \u001B]8;id=970701;file:///Users/nargokul/workspace/sagemaker-core-demo/sagemaker-core/src/sagemaker_core/main/resources.py\u001B\\\u001B[2mresources.py\u001B[0m\u001B]8;;\u001B\\\u001B[2m:\u001B[0m\u001B]8;id=350813;file:///Users/nargokul/workspace/sagemaker-core-demo/sagemaker-core/src/sagemaker_core/main/resources.py#24136\u001B\\\u001B[2m24136\u001B[0m\u001B]8;;\u001B\\\n",
      "text/html": "<pre style=\"white-space:pre;overflow-x:auto;line-height:normal;font-family:Menlo,'DejaVu Sans Mono',consolas,'Courier New',monospace\"><span style=\"color: #7fbfbf; text-decoration-color: #7fbfbf\">[08/05/24 17:51:01] </span><span style=\"color: #000080; text-decoration-color: #000080\">INFO    </span> INFO:sagemaker_core.main.resources:Creating training_job resource.  <a href=\"file:///Users/nargokul/workspace/sagemaker-core-demo/sagemaker-core/src/sagemaker_core/main/resources.py\" target=\"_blank\"><span style=\"color: #7f7f7f; text-decoration-color: #7f7f7f\">resources.py</span></a><span style=\"color: #7f7f7f; text-decoration-color: #7f7f7f\">:</span><a href=\"file:///Users/nargokul/workspace/sagemaker-core-demo/sagemaker-core/src/sagemaker_core/main/resources.py#24136\" target=\"_blank\"><span style=\"color: #7f7f7f; text-decoration-color: #7f7f7f\">24136</span></a>\n</pre>\n"
     },
     "metadata": {},
     "output_type": "display_data"
    },
    {
     "data": {
      "text/plain": "\u001B[2;36m                   \u001B[0m\u001B[2;36m \u001B[0m\u001B[31mWARNING \u001B[0m WARNING:sagemaker_core.main.utils:No boto3 session provided. Creating a   \u001B]8;id=385851;file:///Users/nargokul/workspace/sagemaker-core-demo/sagemaker-core/src/sagemaker_core/main/utils.py\u001B\\\u001B[2mutils.py\u001B[0m\u001B]8;;\u001B\\\u001B[2m:\u001B[0m\u001B]8;id=237025;file:///Users/nargokul/workspace/sagemaker-core-demo/sagemaker-core/src/sagemaker_core/main/utils.py#262\u001B\\\u001B[2m262\u001B[0m\u001B]8;;\u001B\\\n\u001B[2;36m                    \u001B[0m         new session.                                                              \u001B[2m            \u001B[0m\n",
      "text/html": "<pre style=\"white-space:pre;overflow-x:auto;line-height:normal;font-family:Menlo,'DejaVu Sans Mono',consolas,'Courier New',monospace\"><span style=\"color: #7fbfbf; text-decoration-color: #7fbfbf\">                    </span><span style=\"color: #800000; text-decoration-color: #800000\">WARNING </span> WARNING:sagemaker_core.main.utils:No boto3 session provided. Creating a   <a href=\"file:///Users/nargokul/workspace/sagemaker-core-demo/sagemaker-core/src/sagemaker_core/main/utils.py\" target=\"_blank\"><span style=\"color: #7f7f7f; text-decoration-color: #7f7f7f\">utils.py</span></a><span style=\"color: #7f7f7f; text-decoration-color: #7f7f7f\">:</span><a href=\"file:///Users/nargokul/workspace/sagemaker-core-demo/sagemaker-core/src/sagemaker_core/main/utils.py#262\" target=\"_blank\"><span style=\"color: #7f7f7f; text-decoration-color: #7f7f7f\">262</span></a>\n<span style=\"color: #7fbfbf; text-decoration-color: #7fbfbf\">                    </span>         new session.                                                              <span style=\"color: #7f7f7f; text-decoration-color: #7f7f7f\">            </span>\n</pre>\n"
     },
     "metadata": {},
     "output_type": "display_data"
    },
    {
     "data": {
      "text/plain": "\u001B[2;36m                   \u001B[0m\u001B[2;36m \u001B[0m\u001B[31mWARNING \u001B[0m WARNING:sagemaker_core.main.utils:No region provided. Using default       \u001B]8;id=375468;file:///Users/nargokul/workspace/sagemaker-core-demo/sagemaker-core/src/sagemaker_core/main/utils.py\u001B\\\u001B[2mutils.py\u001B[0m\u001B]8;;\u001B\\\u001B[2m:\u001B[0m\u001B]8;id=490379;file:///Users/nargokul/workspace/sagemaker-core-demo/sagemaker-core/src/sagemaker_core/main/utils.py#266\u001B\\\u001B[2m266\u001B[0m\u001B]8;;\u001B\\\n\u001B[2;36m                    \u001B[0m         region.                                                                   \u001B[2m            \u001B[0m\n",
      "text/html": "<pre style=\"white-space:pre;overflow-x:auto;line-height:normal;font-family:Menlo,'DejaVu Sans Mono',consolas,'Courier New',monospace\"><span style=\"color: #7fbfbf; text-decoration-color: #7fbfbf\">                    </span><span style=\"color: #800000; text-decoration-color: #800000\">WARNING </span> WARNING:sagemaker_core.main.utils:No region provided. Using default       <a href=\"file:///Users/nargokul/workspace/sagemaker-core-demo/sagemaker-core/src/sagemaker_core/main/utils.py\" target=\"_blank\"><span style=\"color: #7f7f7f; text-decoration-color: #7f7f7f\">utils.py</span></a><span style=\"color: #7f7f7f; text-decoration-color: #7f7f7f\">:</span><a href=\"file:///Users/nargokul/workspace/sagemaker-core-demo/sagemaker-core/src/sagemaker_core/main/utils.py#266\" target=\"_blank\"><span style=\"color: #7f7f7f; text-decoration-color: #7f7f7f\">266</span></a>\n<span style=\"color: #7fbfbf; text-decoration-color: #7fbfbf\">                    </span>         region.                                                                   <span style=\"color: #7f7f7f; text-decoration-color: #7f7f7f\">            </span>\n</pre>\n"
     },
     "metadata": {},
     "output_type": "display_data"
    },
    {
     "data": {
      "text/plain": "\u001B[2;36m                   \u001B[0m\u001B[2;36m \u001B[0m\u001B[31mWARNING \u001B[0m WARNING:sagemaker_core.main.utils:No config provided. Using default       \u001B]8;id=552249;file:///Users/nargokul/workspace/sagemaker-core-demo/sagemaker-core/src/sagemaker_core/main/utils.py\u001B\\\u001B[2mutils.py\u001B[0m\u001B]8;;\u001B\\\u001B[2m:\u001B[0m\u001B]8;id=485394;file:///Users/nargokul/workspace/sagemaker-core-demo/sagemaker-core/src/sagemaker_core/main/utils.py#270\u001B\\\u001B[2m270\u001B[0m\u001B]8;;\u001B\\\n\u001B[2;36m                    \u001B[0m         config.                                                                   \u001B[2m            \u001B[0m\n",
      "text/html": "<pre style=\"white-space:pre;overflow-x:auto;line-height:normal;font-family:Menlo,'DejaVu Sans Mono',consolas,'Courier New',monospace\"><span style=\"color: #7fbfbf; text-decoration-color: #7fbfbf\">                    </span><span style=\"color: #800000; text-decoration-color: #800000\">WARNING </span> WARNING:sagemaker_core.main.utils:No config provided. Using default       <a href=\"file:///Users/nargokul/workspace/sagemaker-core-demo/sagemaker-core/src/sagemaker_core/main/utils.py\" target=\"_blank\"><span style=\"color: #7f7f7f; text-decoration-color: #7f7f7f\">utils.py</span></a><span style=\"color: #7f7f7f; text-decoration-color: #7f7f7f\">:</span><a href=\"file:///Users/nargokul/workspace/sagemaker-core-demo/sagemaker-core/src/sagemaker_core/main/utils.py#270\" target=\"_blank\"><span style=\"color: #7f7f7f; text-decoration-color: #7f7f7f\">270</span></a>\n<span style=\"color: #7fbfbf; text-decoration-color: #7fbfbf\">                    </span>         config.                                                                   <span style=\"color: #7f7f7f; text-decoration-color: #7f7f7f\">            </span>\n</pre>\n"
     },
     "metadata": {},
     "output_type": "display_data"
    },
    {
     "data": {
      "text/plain": "\u001B[2;36m                   \u001B[0m\u001B[2;36m \u001B[0m\u001B[34mINFO    \u001B[0m INFO:botocore.credentials:Found credentials in shared credentials  \u001B]8;id=21752;file:///Library/Python/3.9/site-packages/botocore/credentials.py\u001B\\\u001B[2mcredentials.py\u001B[0m\u001B]8;;\u001B\\\u001B[2m:\u001B[0m\u001B]8;id=462117;file:///Library/Python/3.9/site-packages/botocore/credentials.py#1278\u001B\\\u001B[2m1278\u001B[0m\u001B]8;;\u001B\\\n\u001B[2;36m                    \u001B[0m         file: ~\u001B[35m/.aws/\u001B[0m\u001B[95mcredentials\u001B[0m                                           \u001B[2m                   \u001B[0m\n",
      "text/html": "<pre style=\"white-space:pre;overflow-x:auto;line-height:normal;font-family:Menlo,'DejaVu Sans Mono',consolas,'Courier New',monospace\"><span style=\"color: #7fbfbf; text-decoration-color: #7fbfbf\">                    </span><span style=\"color: #000080; text-decoration-color: #000080\">INFO    </span> INFO:botocore.credentials:Found credentials in shared credentials  <a href=\"file:///Library/Python/3.9/site-packages/botocore/credentials.py\" target=\"_blank\"><span style=\"color: #7f7f7f; text-decoration-color: #7f7f7f\">credentials.py</span></a><span style=\"color: #7f7f7f; text-decoration-color: #7f7f7f\">:</span><a href=\"file:///Library/Python/3.9/site-packages/botocore/credentials.py#1278\" target=\"_blank\"><span style=\"color: #7f7f7f; text-decoration-color: #7f7f7f\">1278</span></a>\n<span style=\"color: #7fbfbf; text-decoration-color: #7fbfbf\">                    </span>         file: ~<span style=\"color: #800080; text-decoration-color: #800080\">/.aws/</span><span style=\"color: #ff00ff; text-decoration-color: #ff00ff\">credentials</span>                                           <span style=\"color: #7f7f7f; text-decoration-color: #7f7f7f\">                   </span>\n</pre>\n"
     },
     "metadata": {},
     "output_type": "display_data"
    }
   ],
   "source": [
    "# Create TrainingJob with SageMakerCore\n",
    "\n",
    "import time\n",
    "from sagemaker_core.main.resources import TrainingJob, AlgorithmSpecification, Channel, DataSource, S3DataSource, \\\n",
    "    OutputDataConfig, ResourceConfig, StoppingCondition\n",
    "\n",
    "job_name_v3 = 'xgboost-iris-' + time.strftime(\"%Y-%m-%d-%H-%M-%S\", time.gmtime())\n",
    "\n",
    "training_job = TrainingJob.create(\n",
    "    training_job_name=job_name_v3,\n",
    "    hyper_parameters={\n",
    "        'objective': 'multi:softmax',\n",
    "        'num_class': '3',\n",
    "        'num_round': '10',\n",
    "        'eval_metric': 'merror'\n",
    "    },\n",
    "    algorithm_specification=AlgorithmSpecification(\n",
    "        training_image=image,\n",
    "        training_input_mode='File'\n",
    "    ),\n",
    "    role_arn=role,\n",
    "    input_data_config=[\n",
    "        Channel(\n",
    "            channel_name='train',\n",
    "            content_type='csv',\n",
    "            compression_type='None',\n",
    "            record_wrapper_type='None',\n",
    "            data_source=DataSource(\n",
    "                s3_data_source=S3DataSource(\n",
    "                    s3_data_type='S3Prefix',\n",
    "                    s3_uri=s3_input_path,\n",
    "                    s3_data_distribution_type='FullyReplicated'\n",
    "                )\n",
    "            )\n",
    "        )\n",
    "    ],\n",
    "    output_data_config=OutputDataConfig(\n",
    "        s3_output_path=s3_output_path\n",
    "    ),\n",
    "    resource_config=ResourceConfig(\n",
    "        instance_type='ml.m4.xlarge',\n",
    "        instance_count=1,\n",
    "        volume_size_in_gb=30\n",
    "    ),\n",
    "    stopping_condition=StoppingCondition(\n",
    "        max_runtime_in_seconds=600\n",
    "    )\n",
    ")\n"
   ]
  },
  {
   "cell_type": "markdown",
   "metadata": {},
   "source": [
    "### Wait for TrainingJob with SageMakerCore\n",
    "In SageMakerCore, the logic required to wait on a resource is abstracted away using a `wait()` method. As a result, a user can directly call the `wait()` method on a TrainingJob object instance like below. "
   ]
  },
  {
   "cell_type": "code",
   "execution_count": 27,
   "metadata": {
    "ExecuteTime": {
     "end_time": "2024-08-06T00:53:45.282631Z",
     "start_time": "2024-08-06T00:51:02.648881Z"
    }
   },
   "outputs": [
    {
     "name": "stdout",
     "output_type": "stream",
     "text": [
      "--------------------------------\n",
      "Final Resource Status: Completed\n"
     ]
    }
   ],
   "source": [
    "# Wait for TrainingJob with SageMakerCore\n",
    "\n",
    "training_job.wait()"
   ]
  },
  {
   "cell_type": "markdown",
   "metadata": {},
   "source": [
    "## [Private Preview Feedback needed] De-nesting simplifications\n",
    "\n",
    "As noticed in the TrainingJob.create call above, the users need to configure API mirrored pythonic structures instead of the raw dictionaries while making an API request. While this simplifies the user experience in terms of the object-oriented experience we envision to provide, there is a proposal on table to simplify the experience further by de-nesting the complexity of nested structures in a very simplified and opinionated key-value pair inputs. With these simplifications above TrainingJob.create would look like:\n",
    "\n",
    "```\n",
    "training_job_using_simplified_create = TrainingJob.create(\n",
    "    training_job_name='xgboost-iris-' + time.strftime(\"%Y-%m-%d-%H-%M-%S\", time.gmtime()),\n",
    "    hyper_parameters={\n",
    "        'objective': 'multi:softmax',\n",
    "        'num_class': '3',\n",
    "        'num_round': '10',\n",
    "        'eval_metric': 'merror'\n",
    "    },\n",
    "    training_image=image,\n",
    "    training_input_mode='File',\n",
    "    role_arn=role,\n",
    "    input_data_config=[\n",
    "        CustomChannel(\n",
    "            channel_name='train',\n",
    "            content_type='csv',\n",
    "            compression_type='None',\n",
    "            record_wrapper_type='None',\n",
    "            data_source=CustomS3DataSource(\n",
    "                    s3_data_type='S3Prefix',\n",
    "                    s3_uri=s3_input_path,\n",
    "                    s3_data_distribution_type='FullyReplicated'\n",
    "            )\n",
    "        )\n",
    "    ],\n",
    "    output_data_config_s3_output_path=s3_output_path,\n",
    "    instance_type='ml.m4.xlarge',\n",
    "    instance_count=1,\n",
    "    volume_size_in_gb=30,\n",
    "    stopping_condition_max_runtime=600,\n",
    ")\n",
    "```\n",
    "Note: Not all structures are completely de-nested. There are technical blockers to de-nest list structures.\n",
    "\n",
    "This would reduce the number of lines of code and number of class structures to be configured by users to improvise the experience.\n",
    "\n",
    "Further we can set SDK specific defaults [not to be confused with intelligent defaults which are User set defaults] like the following to make parameters optional, to reduce the number of user-configured-params further:\n",
    "\n",
    "```\n",
    "training_job_name=training_image + time.strftime(\"%Y-%m-%d-%H-%M-%S\", time.gmtime()) + Unique_ID,\n",
    "volume_size_in_gb=5\n",
    "instance_count=1\n",
    "enable_network_isolation=False,\n",
    "enable_inter_container_traffic_encryption=False,\n",
    "enable_managed_spot_training=False,\n",
    "retry_strategy_max_retry=3,\n",
    "enable_remote_debug=False,\n",
    "enable_infra_check=False,\n",
    "```\n",
    "\n",
    "The above experience can be provided at the very Basic auto-gen layer resource classes by modifying the experience of TrainingJob.create [Option1] or provide a seperate TrainingJob.create_lite alternate interface [Option2]. Details on both approaches and pros/cons are discussed in detail in https://quip-amazon.com/QH1wAlPEsEPW/Simplifying-sagemaker-core-resource-classes.\n",
    "\n",
    "Though the above simplifications would extremely benefit the Core layer user experience, there are concerns around the customer positioning where in if we were to introduce a higher level training abstraction (like Estimator) we would be introducing multiple abstracted choices, making it difficult for customers to learn and use.\n",
    "\n",
    "With this in mind please share your thoughts in this [sim](https://issues.amazon.com/issues/CODEX-41935) comments whether this thin layer of abstraction can co-exist with higher level abstractions. Or +1 the sim feature request if you support.\n",
    "\n",
    "\n",
    "\n",
    "\n",
    "\n",
    "\n",
    "\n"
   ]
  },
  {
   "cell_type": "markdown",
   "metadata": {},
   "source": [
    "## List TrainingJobs with Boto3\n",
    "When a user lists TrainingJobs, there are 2 main approaches provided by Boto3. \n",
    "\n",
    "1. The first is calling `list_training_jobs` directly and implementing some logic to handle the NextToken provided in the response to enable pagination.\n",
    "2. The second is by utilizing the Boto3 `get_paginator` method to get a paginator that encapsulates the NextToken and simplifies the logic required.\n",
    "\n",
    "Both approaches are shown below. Although the boto3 provided paginator simplifies the logic over using a NextToken, in both cases the user must understand the structure of the list responses or refer to the docs (ie, understand to access TrainingJobSummaries by doing `response[\"TrainingJobSummaries\"]`)\n"
   ]
  },
  {
   "cell_type": "code",
   "execution_count": 28,
   "metadata": {
    "ExecuteTime": {
     "end_time": "2024-08-06T00:53:45.524703Z",
     "start_time": "2024-08-06T00:53:45.288205Z"
    }
   },
   "outputs": [
    {
     "data": {
      "text/plain": "xgboost-iris-\u001B[1;36m2024\u001B[0m-\u001B[1;36m08\u001B[0m-\u001B[1;36m06\u001B[0m-\u001B[1;36m00\u001B[0m-\u001B[1;36m51\u001B[0m-\u001B[1;36m01\u001B[0m Completed\n",
      "text/html": "<pre style=\"white-space:pre;overflow-x:auto;line-height:normal;font-family:Menlo,'DejaVu Sans Mono',consolas,'Courier New',monospace\">xgboost-iris-<span style=\"color: #008080; text-decoration-color: #008080; font-weight: bold\">2024</span>-<span style=\"color: #008080; text-decoration-color: #008080; font-weight: bold\">08</span>-<span style=\"color: #008080; text-decoration-color: #008080; font-weight: bold\">06</span>-<span style=\"color: #008080; text-decoration-color: #008080; font-weight: bold\">00</span>-<span style=\"color: #008080; text-decoration-color: #008080; font-weight: bold\">51</span>-<span style=\"color: #008080; text-decoration-color: #008080; font-weight: bold\">01</span> Completed\n</pre>\n"
     },
     "metadata": {},
     "output_type": "display_data"
    },
    {
     "data": {
      "text/plain": "xgboost-iris-\u001B[1;36m2024\u001B[0m-\u001B[1;36m08\u001B[0m-\u001B[1;36m06\u001B[0m-\u001B[1;36m00\u001B[0m-\u001B[1;36m48\u001B[0m-\u001B[1;36m22\u001B[0m Completed\n",
      "text/html": "<pre style=\"white-space:pre;overflow-x:auto;line-height:normal;font-family:Menlo,'DejaVu Sans Mono',consolas,'Courier New',monospace\">xgboost-iris-<span style=\"color: #008080; text-decoration-color: #008080; font-weight: bold\">2024</span>-<span style=\"color: #008080; text-decoration-color: #008080; font-weight: bold\">08</span>-<span style=\"color: #008080; text-decoration-color: #008080; font-weight: bold\">06</span>-<span style=\"color: #008080; text-decoration-color: #008080; font-weight: bold\">00</span>-<span style=\"color: #008080; text-decoration-color: #008080; font-weight: bold\">48</span>-<span style=\"color: #008080; text-decoration-color: #008080; font-weight: bold\">22</span> Completed\n</pre>\n"
     },
     "metadata": {},
     "output_type": "display_data"
    },
    {
     "data": {
      "text/plain": "xgboost-iris-\u001B[1;36m2024\u001B[0m-\u001B[1;36m08\u001B[0m-\u001B[1;36m06\u001B[0m-\u001B[1;36m00\u001B[0m-\u001B[1;36m38\u001B[0m-\u001B[1;36m04\u001B[0m Completed\n",
      "text/html": "<pre style=\"white-space:pre;overflow-x:auto;line-height:normal;font-family:Menlo,'DejaVu Sans Mono',consolas,'Courier New',monospace\">xgboost-iris-<span style=\"color: #008080; text-decoration-color: #008080; font-weight: bold\">2024</span>-<span style=\"color: #008080; text-decoration-color: #008080; font-weight: bold\">08</span>-<span style=\"color: #008080; text-decoration-color: #008080; font-weight: bold\">06</span>-<span style=\"color: #008080; text-decoration-color: #008080; font-weight: bold\">00</span>-<span style=\"color: #008080; text-decoration-color: #008080; font-weight: bold\">38</span>-<span style=\"color: #008080; text-decoration-color: #008080; font-weight: bold\">04</span> Completed\n</pre>\n"
     },
     "metadata": {},
     "output_type": "display_data"
    },
    {
     "data": {
      "text/plain": "xgboost-iris-\u001B[1;36m2024\u001B[0m-\u001B[1;36m08\u001B[0m-\u001B[1;36m06\u001B[0m-\u001B[1;36m00\u001B[0m-\u001B[1;36m33\u001B[0m-\u001B[1;36m49\u001B[0m Completed\n",
      "text/html": "<pre style=\"white-space:pre;overflow-x:auto;line-height:normal;font-family:Menlo,'DejaVu Sans Mono',consolas,'Courier New',monospace\">xgboost-iris-<span style=\"color: #008080; text-decoration-color: #008080; font-weight: bold\">2024</span>-<span style=\"color: #008080; text-decoration-color: #008080; font-weight: bold\">08</span>-<span style=\"color: #008080; text-decoration-color: #008080; font-weight: bold\">06</span>-<span style=\"color: #008080; text-decoration-color: #008080; font-weight: bold\">00</span>-<span style=\"color: #008080; text-decoration-color: #008080; font-weight: bold\">33</span>-<span style=\"color: #008080; text-decoration-color: #008080; font-weight: bold\">49</span> Completed\n</pre>\n"
     },
     "metadata": {},
     "output_type": "display_data"
    },
    {
     "data": {
      "text/plain": "xgboost-iris-\u001B[1;36m2024\u001B[0m-\u001B[1;36m08\u001B[0m-\u001B[1;36m06\u001B[0m-\u001B[1;36m00\u001B[0m-\u001B[1;36m29\u001B[0m-\u001B[1;36m38\u001B[0m Completed\n",
      "text/html": "<pre style=\"white-space:pre;overflow-x:auto;line-height:normal;font-family:Menlo,'DejaVu Sans Mono',consolas,'Courier New',monospace\">xgboost-iris-<span style=\"color: #008080; text-decoration-color: #008080; font-weight: bold\">2024</span>-<span style=\"color: #008080; text-decoration-color: #008080; font-weight: bold\">08</span>-<span style=\"color: #008080; text-decoration-color: #008080; font-weight: bold\">06</span>-<span style=\"color: #008080; text-decoration-color: #008080; font-weight: bold\">00</span>-<span style=\"color: #008080; text-decoration-color: #008080; font-weight: bold\">29</span>-<span style=\"color: #008080; text-decoration-color: #008080; font-weight: bold\">38</span> Completed\n</pre>\n"
     },
     "metadata": {},
     "output_type": "display_data"
    },
    {
     "data": {
      "text/plain": "xgboost-iris-\u001B[1;36m2024\u001B[0m-\u001B[1;36m08\u001B[0m-\u001B[1;36m05\u001B[0m-\u001B[1;36m22\u001B[0m-\u001B[1;36m35\u001B[0m-\u001B[1;36m54\u001B[0m Completed\n",
      "text/html": "<pre style=\"white-space:pre;overflow-x:auto;line-height:normal;font-family:Menlo,'DejaVu Sans Mono',consolas,'Courier New',monospace\">xgboost-iris-<span style=\"color: #008080; text-decoration-color: #008080; font-weight: bold\">2024</span>-<span style=\"color: #008080; text-decoration-color: #008080; font-weight: bold\">08</span>-<span style=\"color: #008080; text-decoration-color: #008080; font-weight: bold\">05</span>-<span style=\"color: #008080; text-decoration-color: #008080; font-weight: bold\">22</span>-<span style=\"color: #008080; text-decoration-color: #008080; font-weight: bold\">35</span>-<span style=\"color: #008080; text-decoration-color: #008080; font-weight: bold\">54</span> Completed\n</pre>\n"
     },
     "metadata": {},
     "output_type": "display_data"
    },
    {
     "data": {
      "text/plain": "xgboost-iris-\u001B[1;36m2024\u001B[0m-\u001B[1;36m08\u001B[0m-\u001B[1;36m05\u001B[0m-\u001B[1;36m20\u001B[0m-\u001B[1;36m10\u001B[0m-\u001B[1;36m25\u001B[0m Completed\n",
      "text/html": "<pre style=\"white-space:pre;overflow-x:auto;line-height:normal;font-family:Menlo,'DejaVu Sans Mono',consolas,'Courier New',monospace\">xgboost-iris-<span style=\"color: #008080; text-decoration-color: #008080; font-weight: bold\">2024</span>-<span style=\"color: #008080; text-decoration-color: #008080; font-weight: bold\">08</span>-<span style=\"color: #008080; text-decoration-color: #008080; font-weight: bold\">05</span>-<span style=\"color: #008080; text-decoration-color: #008080; font-weight: bold\">20</span>-<span style=\"color: #008080; text-decoration-color: #008080; font-weight: bold\">10</span>-<span style=\"color: #008080; text-decoration-color: #008080; font-weight: bold\">25</span> Completed\n</pre>\n"
     },
     "metadata": {},
     "output_type": "display_data"
    }
   ],
   "source": [
    "# List TrainingJobs with Boto3\n",
    "import datetime\n",
    "import boto3\n",
    "\n",
    "client = boto3.client('sagemaker')\n",
    "\n",
    "creation_time_after = datetime.datetime.now() - datetime.timedelta(days=1)\n",
    "\n",
    "# List TrainingJobs with NextToken\n",
    "next_token = None\n",
    "while True:\n",
    "    if next_token:\n",
    "        response = client.list_training_jobs(CreationTimeAfter=creation_time_after, NextToken=next_token)\n",
    "    else: \n",
    "        response = client.list_training_jobs(CreationTimeAfter=creation_time_after)\n",
    "    \n",
    "    for job in response['TrainingJobSummaries']:\n",
    "        print(job['TrainingJobName'], job[\"TrainingJobStatus\"])\n",
    "        \n",
    "    next_token = response.get('NextToken')\n",
    "    \n",
    "    if not next_token:\n",
    "        break"
   ]
  },
  {
   "cell_type": "code",
   "execution_count": 29,
   "metadata": {
    "ExecuteTime": {
     "end_time": "2024-08-06T00:53:45.754728Z",
     "start_time": "2024-08-06T00:53:45.523494Z"
    }
   },
   "outputs": [
    {
     "data": {
      "text/plain": "xgboost-iris-\u001B[1;36m2024\u001B[0m-\u001B[1;36m08\u001B[0m-\u001B[1;36m06\u001B[0m-\u001B[1;36m00\u001B[0m-\u001B[1;36m51\u001B[0m-\u001B[1;36m01\u001B[0m Completed\n",
      "text/html": "<pre style=\"white-space:pre;overflow-x:auto;line-height:normal;font-family:Menlo,'DejaVu Sans Mono',consolas,'Courier New',monospace\">xgboost-iris-<span style=\"color: #008080; text-decoration-color: #008080; font-weight: bold\">2024</span>-<span style=\"color: #008080; text-decoration-color: #008080; font-weight: bold\">08</span>-<span style=\"color: #008080; text-decoration-color: #008080; font-weight: bold\">06</span>-<span style=\"color: #008080; text-decoration-color: #008080; font-weight: bold\">00</span>-<span style=\"color: #008080; text-decoration-color: #008080; font-weight: bold\">51</span>-<span style=\"color: #008080; text-decoration-color: #008080; font-weight: bold\">01</span> Completed\n</pre>\n"
     },
     "metadata": {},
     "output_type": "display_data"
    },
    {
     "data": {
      "text/plain": "xgboost-iris-\u001B[1;36m2024\u001B[0m-\u001B[1;36m08\u001B[0m-\u001B[1;36m06\u001B[0m-\u001B[1;36m00\u001B[0m-\u001B[1;36m48\u001B[0m-\u001B[1;36m22\u001B[0m Completed\n",
      "text/html": "<pre style=\"white-space:pre;overflow-x:auto;line-height:normal;font-family:Menlo,'DejaVu Sans Mono',consolas,'Courier New',monospace\">xgboost-iris-<span style=\"color: #008080; text-decoration-color: #008080; font-weight: bold\">2024</span>-<span style=\"color: #008080; text-decoration-color: #008080; font-weight: bold\">08</span>-<span style=\"color: #008080; text-decoration-color: #008080; font-weight: bold\">06</span>-<span style=\"color: #008080; text-decoration-color: #008080; font-weight: bold\">00</span>-<span style=\"color: #008080; text-decoration-color: #008080; font-weight: bold\">48</span>-<span style=\"color: #008080; text-decoration-color: #008080; font-weight: bold\">22</span> Completed\n</pre>\n"
     },
     "metadata": {},
     "output_type": "display_data"
    },
    {
     "data": {
      "text/plain": "xgboost-iris-\u001B[1;36m2024\u001B[0m-\u001B[1;36m08\u001B[0m-\u001B[1;36m06\u001B[0m-\u001B[1;36m00\u001B[0m-\u001B[1;36m38\u001B[0m-\u001B[1;36m04\u001B[0m Completed\n",
      "text/html": "<pre style=\"white-space:pre;overflow-x:auto;line-height:normal;font-family:Menlo,'DejaVu Sans Mono',consolas,'Courier New',monospace\">xgboost-iris-<span style=\"color: #008080; text-decoration-color: #008080; font-weight: bold\">2024</span>-<span style=\"color: #008080; text-decoration-color: #008080; font-weight: bold\">08</span>-<span style=\"color: #008080; text-decoration-color: #008080; font-weight: bold\">06</span>-<span style=\"color: #008080; text-decoration-color: #008080; font-weight: bold\">00</span>-<span style=\"color: #008080; text-decoration-color: #008080; font-weight: bold\">38</span>-<span style=\"color: #008080; text-decoration-color: #008080; font-weight: bold\">04</span> Completed\n</pre>\n"
     },
     "metadata": {},
     "output_type": "display_data"
    },
    {
     "data": {
      "text/plain": "xgboost-iris-\u001B[1;36m2024\u001B[0m-\u001B[1;36m08\u001B[0m-\u001B[1;36m06\u001B[0m-\u001B[1;36m00\u001B[0m-\u001B[1;36m33\u001B[0m-\u001B[1;36m49\u001B[0m Completed\n",
      "text/html": "<pre style=\"white-space:pre;overflow-x:auto;line-height:normal;font-family:Menlo,'DejaVu Sans Mono',consolas,'Courier New',monospace\">xgboost-iris-<span style=\"color: #008080; text-decoration-color: #008080; font-weight: bold\">2024</span>-<span style=\"color: #008080; text-decoration-color: #008080; font-weight: bold\">08</span>-<span style=\"color: #008080; text-decoration-color: #008080; font-weight: bold\">06</span>-<span style=\"color: #008080; text-decoration-color: #008080; font-weight: bold\">00</span>-<span style=\"color: #008080; text-decoration-color: #008080; font-weight: bold\">33</span>-<span style=\"color: #008080; text-decoration-color: #008080; font-weight: bold\">49</span> Completed\n</pre>\n"
     },
     "metadata": {},
     "output_type": "display_data"
    },
    {
     "data": {
      "text/plain": "xgboost-iris-\u001B[1;36m2024\u001B[0m-\u001B[1;36m08\u001B[0m-\u001B[1;36m06\u001B[0m-\u001B[1;36m00\u001B[0m-\u001B[1;36m29\u001B[0m-\u001B[1;36m38\u001B[0m Completed\n",
      "text/html": "<pre style=\"white-space:pre;overflow-x:auto;line-height:normal;font-family:Menlo,'DejaVu Sans Mono',consolas,'Courier New',monospace\">xgboost-iris-<span style=\"color: #008080; text-decoration-color: #008080; font-weight: bold\">2024</span>-<span style=\"color: #008080; text-decoration-color: #008080; font-weight: bold\">08</span>-<span style=\"color: #008080; text-decoration-color: #008080; font-weight: bold\">06</span>-<span style=\"color: #008080; text-decoration-color: #008080; font-weight: bold\">00</span>-<span style=\"color: #008080; text-decoration-color: #008080; font-weight: bold\">29</span>-<span style=\"color: #008080; text-decoration-color: #008080; font-weight: bold\">38</span> Completed\n</pre>\n"
     },
     "metadata": {},
     "output_type": "display_data"
    },
    {
     "data": {
      "text/plain": "xgboost-iris-\u001B[1;36m2024\u001B[0m-\u001B[1;36m08\u001B[0m-\u001B[1;36m05\u001B[0m-\u001B[1;36m22\u001B[0m-\u001B[1;36m35\u001B[0m-\u001B[1;36m54\u001B[0m Completed\n",
      "text/html": "<pre style=\"white-space:pre;overflow-x:auto;line-height:normal;font-family:Menlo,'DejaVu Sans Mono',consolas,'Courier New',monospace\">xgboost-iris-<span style=\"color: #008080; text-decoration-color: #008080; font-weight: bold\">2024</span>-<span style=\"color: #008080; text-decoration-color: #008080; font-weight: bold\">08</span>-<span style=\"color: #008080; text-decoration-color: #008080; font-weight: bold\">05</span>-<span style=\"color: #008080; text-decoration-color: #008080; font-weight: bold\">22</span>-<span style=\"color: #008080; text-decoration-color: #008080; font-weight: bold\">35</span>-<span style=\"color: #008080; text-decoration-color: #008080; font-weight: bold\">54</span> Completed\n</pre>\n"
     },
     "metadata": {},
     "output_type": "display_data"
    },
    {
     "data": {
      "text/plain": "xgboost-iris-\u001B[1;36m2024\u001B[0m-\u001B[1;36m08\u001B[0m-\u001B[1;36m05\u001B[0m-\u001B[1;36m20\u001B[0m-\u001B[1;36m10\u001B[0m-\u001B[1;36m25\u001B[0m Completed\n",
      "text/html": "<pre style=\"white-space:pre;overflow-x:auto;line-height:normal;font-family:Menlo,'DejaVu Sans Mono',consolas,'Courier New',monospace\">xgboost-iris-<span style=\"color: #008080; text-decoration-color: #008080; font-weight: bold\">2024</span>-<span style=\"color: #008080; text-decoration-color: #008080; font-weight: bold\">08</span>-<span style=\"color: #008080; text-decoration-color: #008080; font-weight: bold\">05</span>-<span style=\"color: #008080; text-decoration-color: #008080; font-weight: bold\">20</span>-<span style=\"color: #008080; text-decoration-color: #008080; font-weight: bold\">10</span>-<span style=\"color: #008080; text-decoration-color: #008080; font-weight: bold\">25</span> Completed\n</pre>\n"
     },
     "metadata": {},
     "output_type": "display_data"
    }
   ],
   "source": [
    "import datetime\n",
    "import boto3\n",
    "\n",
    "client = boto3.client('sagemaker')\n",
    "creation_time_after = datetime.datetime.now() - datetime.timedelta(days=1)\n",
    "\n",
    "# List TrainingJobs with Boto3 Paginator\n",
    "paginator = client.get_paginator('list_training_jobs')\n",
    "for response in paginator.paginate(CreationTimeAfter=creation_time_after):\n",
    "    for job in response['TrainingJobSummaries']:\n",
    "        print(job['TrainingJobName'], job[\"TrainingJobStatus\"])"
   ]
  },
  {
   "cell_type": "markdown",
   "metadata": {},
   "source": [
    "## List TrainingJobs with SageMakerCore\n",
    "\n",
    "In SageMakerCore, listing is done similar to the boto3 paginator approach but instead with a `ResourceIterator` which implements the python iterator protocol to instantiate and return resource objects only as they are accessed.\n",
    "\n",
    "\n",
    "Below, is an example of how the `get_all()` method would be used to list TrainingJobs."
   ]
  },
  {
   "cell_type": "code",
   "execution_count": 30,
   "metadata": {
    "ExecuteTime": {
     "end_time": "2024-08-06T00:53:46.271311Z",
     "start_time": "2024-08-06T00:53:45.753041Z"
    }
   },
   "outputs": [
    {
     "data": {
      "text/plain": "xgboost-iris-\u001B[1;36m2024\u001B[0m-\u001B[1;36m08\u001B[0m-\u001B[1;36m06\u001B[0m-\u001B[1;36m00\u001B[0m-\u001B[1;36m51\u001B[0m-\u001B[1;36m01\u001B[0m Completed\n",
      "text/html": "<pre style=\"white-space:pre;overflow-x:auto;line-height:normal;font-family:Menlo,'DejaVu Sans Mono',consolas,'Courier New',monospace\">xgboost-iris-<span style=\"color: #008080; text-decoration-color: #008080; font-weight: bold\">2024</span>-<span style=\"color: #008080; text-decoration-color: #008080; font-weight: bold\">08</span>-<span style=\"color: #008080; text-decoration-color: #008080; font-weight: bold\">06</span>-<span style=\"color: #008080; text-decoration-color: #008080; font-weight: bold\">00</span>-<span style=\"color: #008080; text-decoration-color: #008080; font-weight: bold\">51</span>-<span style=\"color: #008080; text-decoration-color: #008080; font-weight: bold\">01</span> Completed\n</pre>\n"
     },
     "metadata": {},
     "output_type": "display_data"
    },
    {
     "data": {
      "text/plain": "xgboost-iris-\u001B[1;36m2024\u001B[0m-\u001B[1;36m08\u001B[0m-\u001B[1;36m06\u001B[0m-\u001B[1;36m00\u001B[0m-\u001B[1;36m48\u001B[0m-\u001B[1;36m22\u001B[0m Completed\n",
      "text/html": "<pre style=\"white-space:pre;overflow-x:auto;line-height:normal;font-family:Menlo,'DejaVu Sans Mono',consolas,'Courier New',monospace\">xgboost-iris-<span style=\"color: #008080; text-decoration-color: #008080; font-weight: bold\">2024</span>-<span style=\"color: #008080; text-decoration-color: #008080; font-weight: bold\">08</span>-<span style=\"color: #008080; text-decoration-color: #008080; font-weight: bold\">06</span>-<span style=\"color: #008080; text-decoration-color: #008080; font-weight: bold\">00</span>-<span style=\"color: #008080; text-decoration-color: #008080; font-weight: bold\">48</span>-<span style=\"color: #008080; text-decoration-color: #008080; font-weight: bold\">22</span> Completed\n</pre>\n"
     },
     "metadata": {},
     "output_type": "display_data"
    },
    {
     "data": {
      "text/plain": "xgboost-iris-\u001B[1;36m2024\u001B[0m-\u001B[1;36m08\u001B[0m-\u001B[1;36m06\u001B[0m-\u001B[1;36m00\u001B[0m-\u001B[1;36m38\u001B[0m-\u001B[1;36m04\u001B[0m Completed\n",
      "text/html": "<pre style=\"white-space:pre;overflow-x:auto;line-height:normal;font-family:Menlo,'DejaVu Sans Mono',consolas,'Courier New',monospace\">xgboost-iris-<span style=\"color: #008080; text-decoration-color: #008080; font-weight: bold\">2024</span>-<span style=\"color: #008080; text-decoration-color: #008080; font-weight: bold\">08</span>-<span style=\"color: #008080; text-decoration-color: #008080; font-weight: bold\">06</span>-<span style=\"color: #008080; text-decoration-color: #008080; font-weight: bold\">00</span>-<span style=\"color: #008080; text-decoration-color: #008080; font-weight: bold\">38</span>-<span style=\"color: #008080; text-decoration-color: #008080; font-weight: bold\">04</span> Completed\n</pre>\n"
     },
     "metadata": {},
     "output_type": "display_data"
    },
    {
     "data": {
      "text/plain": "xgboost-iris-\u001B[1;36m2024\u001B[0m-\u001B[1;36m08\u001B[0m-\u001B[1;36m06\u001B[0m-\u001B[1;36m00\u001B[0m-\u001B[1;36m33\u001B[0m-\u001B[1;36m49\u001B[0m Completed\n",
      "text/html": "<pre style=\"white-space:pre;overflow-x:auto;line-height:normal;font-family:Menlo,'DejaVu Sans Mono',consolas,'Courier New',monospace\">xgboost-iris-<span style=\"color: #008080; text-decoration-color: #008080; font-weight: bold\">2024</span>-<span style=\"color: #008080; text-decoration-color: #008080; font-weight: bold\">08</span>-<span style=\"color: #008080; text-decoration-color: #008080; font-weight: bold\">06</span>-<span style=\"color: #008080; text-decoration-color: #008080; font-weight: bold\">00</span>-<span style=\"color: #008080; text-decoration-color: #008080; font-weight: bold\">33</span>-<span style=\"color: #008080; text-decoration-color: #008080; font-weight: bold\">49</span> Completed\n</pre>\n"
     },
     "metadata": {},
     "output_type": "display_data"
    },
    {
     "data": {
      "text/plain": "xgboost-iris-\u001B[1;36m2024\u001B[0m-\u001B[1;36m08\u001B[0m-\u001B[1;36m06\u001B[0m-\u001B[1;36m00\u001B[0m-\u001B[1;36m29\u001B[0m-\u001B[1;36m38\u001B[0m Completed\n",
      "text/html": "<pre style=\"white-space:pre;overflow-x:auto;line-height:normal;font-family:Menlo,'DejaVu Sans Mono',consolas,'Courier New',monospace\">xgboost-iris-<span style=\"color: #008080; text-decoration-color: #008080; font-weight: bold\">2024</span>-<span style=\"color: #008080; text-decoration-color: #008080; font-weight: bold\">08</span>-<span style=\"color: #008080; text-decoration-color: #008080; font-weight: bold\">06</span>-<span style=\"color: #008080; text-decoration-color: #008080; font-weight: bold\">00</span>-<span style=\"color: #008080; text-decoration-color: #008080; font-weight: bold\">29</span>-<span style=\"color: #008080; text-decoration-color: #008080; font-weight: bold\">38</span> Completed\n</pre>\n"
     },
     "metadata": {},
     "output_type": "display_data"
    },
    {
     "data": {
      "text/plain": "xgboost-iris-\u001B[1;36m2024\u001B[0m-\u001B[1;36m08\u001B[0m-\u001B[1;36m05\u001B[0m-\u001B[1;36m22\u001B[0m-\u001B[1;36m35\u001B[0m-\u001B[1;36m54\u001B[0m Completed\n",
      "text/html": "<pre style=\"white-space:pre;overflow-x:auto;line-height:normal;font-family:Menlo,'DejaVu Sans Mono',consolas,'Courier New',monospace\">xgboost-iris-<span style=\"color: #008080; text-decoration-color: #008080; font-weight: bold\">2024</span>-<span style=\"color: #008080; text-decoration-color: #008080; font-weight: bold\">08</span>-<span style=\"color: #008080; text-decoration-color: #008080; font-weight: bold\">05</span>-<span style=\"color: #008080; text-decoration-color: #008080; font-weight: bold\">22</span>-<span style=\"color: #008080; text-decoration-color: #008080; font-weight: bold\">35</span>-<span style=\"color: #008080; text-decoration-color: #008080; font-weight: bold\">54</span> Completed\n</pre>\n"
     },
     "metadata": {},
     "output_type": "display_data"
    },
    {
     "data": {
      "text/plain": "xgboost-iris-\u001B[1;36m2024\u001B[0m-\u001B[1;36m08\u001B[0m-\u001B[1;36m05\u001B[0m-\u001B[1;36m20\u001B[0m-\u001B[1;36m10\u001B[0m-\u001B[1;36m25\u001B[0m Completed\n",
      "text/html": "<pre style=\"white-space:pre;overflow-x:auto;line-height:normal;font-family:Menlo,'DejaVu Sans Mono',consolas,'Courier New',monospace\">xgboost-iris-<span style=\"color: #008080; text-decoration-color: #008080; font-weight: bold\">2024</span>-<span style=\"color: #008080; text-decoration-color: #008080; font-weight: bold\">08</span>-<span style=\"color: #008080; text-decoration-color: #008080; font-weight: bold\">05</span>-<span style=\"color: #008080; text-decoration-color: #008080; font-weight: bold\">20</span>-<span style=\"color: #008080; text-decoration-color: #008080; font-weight: bold\">10</span>-<span style=\"color: #008080; text-decoration-color: #008080; font-weight: bold\">25</span> Completed\n</pre>\n"
     },
     "metadata": {},
     "output_type": "display_data"
    }
   ],
   "source": [
    "# List TrainingJobs with SageMakerCore\n",
    "import datetime\n",
    "from sagemaker_core.main.resources import TrainingJob\n",
    "\n",
    "creation_time_after = datetime.datetime.now() - datetime.timedelta(days=1)\n",
    "\n",
    "resource_iterator = TrainingJob.get_all(creation_time_after=creation_time_after)\n",
    "for job in resource_iterator:\n",
    "    print(job.training_job_name, job.training_job_status)"
   ]
  },
  {
   "cell_type": "markdown",
   "metadata": {},
   "source": [
    "## Delete All SageMaker Resources\n",
    "The following code block will call the delete() method for any SageMaker Core Resources created during the execution of this notebook which were assigned to local or global variables. If you created any additional deleteable resources without assigning the returning object to a unique variable, you will need to delete the resource manually by doing something like:\n",
    "\n",
    "```python\n",
    "resource = Resource.get(\"resource-name\")\n",
    "resource.delete()\n",
    "```"
   ]
  },
  {
   "cell_type": "code",
   "execution_count": 31,
   "metadata": {
    "ExecuteTime": {
     "end_time": "2024-08-06T00:53:46.275587Z",
     "start_time": "2024-08-06T00:53:46.271202Z"
    }
   },
   "outputs": [],
   "source": [
    "# Delete any sagemaker core resource objects created in this notebook\n",
    "def delete_all_sagemaker_resources():\n",
    "    all_objects = list(locals().values()) + list(globals().values())\n",
    "    deletable_objects = [obj for obj in all_objects if hasattr(obj, 'delete') and obj.__class__.__module__ == 'sagemaker_core.main.resources']\n",
    "    \n",
    "    for obj in deletable_objects:\n",
    "        obj.delete()\n",
    "        \n",
    "delete_all_sagemaker_resources()"
   ]
  }
 ],
 "metadata": {
  "kernelspec": {
   "display_name": "Python 3 (ipykernel)",
   "language": "python",
   "name": "python3"
  },
  "language_info": {
   "codemirror_mode": {
    "name": "ipython",
    "version": 3
   },
   "file_extension": ".py",
   "mimetype": "text/x-python",
   "name": "python",
   "nbconvert_exporter": "python",
   "pygments_lexer": "ipython3",
   "version": "3.10.14"
  }
 },
 "nbformat": 4,
 "nbformat_minor": 2
}
